{
 "cells": [
  {
   "cell_type": "code",
   "execution_count": 85,
   "metadata": {},
   "outputs": [],
   "source": [
    "import pandas as pd\n",
    "import numpy as np\n",
    "import seaborn as sns\n",
    "import matplotlib as mpl\n",
    "import matplotlib.pyplot as plt\n",
    "import datetime\n",
    "import sklearn\n",
    "import re\n",
    "from scipy import stats\n",
    "from sklearn.feature_extraction.text import TfidfVectorizer, CountVectorizer\n",
    "from sklearn.metrics.pairwise import linear_kernel, cosine_similarity\n",
    "from sklearn.preprocessing import LabelEncoder, OrdinalEncoder\n",
    "from sklearn.decomposition import TruncatedSVD\n",
    "from sklearn.model_selection import train_test_split\n",
    "from surprise import Reader, Dataset, SVD\n",
    "from surprise.model_selection import cross_validate\n",
    "from datetime import date\n",
    "from scipy.sparse import csr_matrix\n",
    "from sklearn.neighbors import NearestNeighbors\n",
    "from fuzzywuzzy import fuzz\n",
    "from nltk.tokenize import word_tokenize\n",
    "import scipy as sp\n",
    "import xgboost as xgb\n",
    "from sklearn.metrics import precision_score, recall_score, precision_recall_curve, auc,\\\n",
    "                            roc_auc_score\n",
    "from keras import backend as K\n",
    "from keras.models import load_model\n",
    "import tensorflow as keras\n",
    "from tensorflow import keras\n",
    "from keras import layers\n",
    "import warnings\n",
    "warnings.filterwarnings('ignore')"
   ]
  },
  {
   "cell_type": "code",
   "execution_count": 2,
   "metadata": {},
   "outputs": [],
   "source": [
    "books = pd.read_csv('./books.csv', index_col=1)\n",
    "books = books.iloc[:, 1:]\n",
    "ratings = pd.read_csv('./ratings.csv')\n",
    "book_tags = pd.read_csv('./book_tags.csv')\n",
    "tags = pd.read_csv('./tags.csv')\n",
    "to_read = pd.read_csv('to_read.csv')"
   ]
  },
  {
   "cell_type": "code",
   "execution_count": 4,
   "metadata": {},
   "outputs": [
    {
     "name": "stdout",
     "output_type": "stream",
     "text": [
      "Shape of train data: (4781183, 3)\n",
      "Shape of test data: (1195296, 3)\n"
     ]
    }
   ],
   "source": [
    "Xtrain, Xtest = train_test_split(ratings, test_size=0.2, random_state=1)\n",
    "print(f\"Shape of train data: {Xtrain.shape}\")\n",
    "print(f\"Shape of test data: {Xtest.shape}\")"
   ]
  },
  {
   "cell_type": "code",
   "execution_count": 9,
   "metadata": {},
   "outputs": [],
   "source": [
    "users_id, books_id, _ = ratings.nunique()"
   ]
  },
  {
   "cell_type": "code",
   "execution_count": null,
   "metadata": {},
   "outputs": [],
   "source": [
    "keras.layer"
   ]
  },
  {
   "cell_type": "code",
   "execution_count": 41,
   "metadata": {},
   "outputs": [],
   "source": [
    "input_books = keras.layers.Input(shape=[1])\n",
    "embed_books = keras.layers.Embedding(books_id + 1,15)(input_books)\n",
    "books_out = keras.layers.Flatten()(embed_books)\n",
    "\n",
    "#user input network\n",
    "input_users = keras.layers.Input(shape=[1])\n",
    "embed_users = keras.layers.Embedding(users_id + 1,15)(input_users)\n",
    "users_out = keras.layers.Flatten()(embed_users)\n",
    "\n",
    "conc_layer = keras.layers.Concatenate()([books_out, users_out])\n",
    "x = keras.layers.Dense(128, activation='relu')(conc_layer)\n",
    "x_out = x = keras.layers.Dense(1, activation='relu')(x)\n",
    "model = keras.Model([input_books, input_users], x_out)"
   ]
  },
  {
   "cell_type": "code",
   "execution_count": 51,
   "metadata": {},
   "outputs": [],
   "source": [
    "opt = tf.optimizers.Adam(learning_rate=0.001)\n",
    "model.compile(optimizer=opt, loss='mean_squared_error')"
   ]
  },
  {
   "cell_type": "code",
   "execution_count": 52,
   "metadata": {},
   "outputs": [
    {
     "name": "stdout",
     "output_type": "stream",
     "text": [
      "Model: \"model_1\"\n",
      "__________________________________________________________________________________________________\n",
      "Layer (type)                    Output Shape         Param #     Connected to                     \n",
      "==================================================================================================\n",
      "input_4 (InputLayer)            [(None, 1)]          0                                            \n",
      "__________________________________________________________________________________________________\n",
      "input_5 (InputLayer)            [(None, 1)]          0                                            \n",
      "__________________________________________________________________________________________________\n",
      "embedding_2 (Embedding)         (None, 1, 15)        150015      input_4[0][0]                    \n",
      "__________________________________________________________________________________________________\n",
      "embedding_3 (Embedding)         (None, 1, 15)        801375      input_5[0][0]                    \n",
      "__________________________________________________________________________________________________\n",
      "flatten_2 (Flatten)             (None, 15)           0           embedding_2[0][0]                \n",
      "__________________________________________________________________________________________________\n",
      "flatten_3 (Flatten)             (None, 15)           0           embedding_3[0][0]                \n",
      "__________________________________________________________________________________________________\n",
      "concatenate_1 (Concatenate)     (None, 30)           0           flatten_2[0][0]                  \n",
      "                                                                 flatten_3[0][0]                  \n",
      "__________________________________________________________________________________________________\n",
      "dense_2 (Dense)                 (None, 128)          3968        concatenate_1[0][0]              \n",
      "__________________________________________________________________________________________________\n",
      "dense_3 (Dense)                 (None, 1)            129         dense_2[0][0]                    \n",
      "==================================================================================================\n",
      "Total params: 955,487\n",
      "Trainable params: 955,487\n",
      "Non-trainable params: 0\n",
      "__________________________________________________________________________________________________\n"
     ]
    }
   ],
   "source": [
    "model.summary()"
   ]
  },
  {
   "cell_type": "code",
   "execution_count": 53,
   "metadata": {},
   "outputs": [
    {
     "name": "stdout",
     "output_type": "stream",
     "text": [
      "Epoch 1/5\n",
      "74706/74706 [==============================] - 571s 8ms/step - loss: 0.7809 - val_loss: 0.7391\n",
      "Epoch 2/5\n",
      "74706/74706 [==============================] - 569s 8ms/step - loss: 0.7087 - val_loss: 0.7026\n",
      "Epoch 3/5\n",
      "74706/74706 [==============================] - 545s 7ms/step - loss: 0.6746 - val_loss: 0.6890\n",
      "Epoch 4/5\n",
      "74706/74706 [==============================] - 637s 9ms/step - loss: 0.6510 - val_loss: 0.6818\n",
      "Epoch 5/5\n",
      "74706/74706 [==============================] - 589s 8ms/step - loss: 0.6321 - val_loss: 0.6804\n"
     ]
    }
   ],
   "source": [
    "hist = model.fit([Xtrain.book_id, Xtrain.user_id], Xtrain.rating, \n",
    "                 batch_size=64, \n",
    "                 epochs=5, \n",
    "                 verbose=1,\n",
    "                 validation_data=([Xtest.book_id, Xtest.user_id], Xtest.rating))"
   ]
  },
  {
   "cell_type": "code",
   "execution_count": 54,
   "metadata": {},
   "outputs": [
    {
     "data": {
      "text/plain": [
       "{'loss': [0.7808553576469421,\n",
       "  0.7087376713752747,\n",
       "  0.674611508846283,\n",
       "  0.6509748101234436,\n",
       "  0.6321432590484619],\n",
       " 'val_loss': [0.7390897274017334,\n",
       "  0.7025852203369141,\n",
       "  0.6890448331832886,\n",
       "  0.6818010807037354,\n",
       "  0.6804294586181641]}"
      ]
     },
     "execution_count": 54,
     "metadata": {},
     "output_type": "execute_result"
    }
   ],
   "source": [
    "train_loss = hist.history['loss']\n",
    "val_loss = hist.history['val_loss']\n",
    "hist.history"
   ]
  },
  {
   "cell_type": "code",
   "execution_count": 56,
   "metadata": {},
   "outputs": [
    {
     "data": {
      "image/png": "[encoded data removed]",
      "text/plain": [
       "<Figure size 432x288 with 1 Axes>"
      ]
     },
     "metadata": {
      "needs_background": "light"
     },
     "output_type": "display_data"
    }
   ],
   "source": [
    "plt.plot(train_loss, color='r', label='Train Loss')\n",
    "plt.plot(val_loss, color='b', label='Validation Loss')\n",
    "plt.title(\"Train and Validation Loss Curve\")\n",
    "plt.legend()\n",
    "plt.show()"
   ]
  },
  {
   "cell_type": "code",
   "execution_count": 78,
   "metadata": {},
   "outputs": [
    {
     "name": "stdout",
     "output_type": "stream",
     "text": [
      "INFO:tensorflow:Assets written to: model\\assets\n"
     ]
    }
   ],
   "source": [
    "model.save('model')"
   ]
  },
  {
   "cell_type": "code",
   "execution_count": 58,
   "metadata": {},
   "outputs": [
    {
     "data": {
      "text/plain": [
       "(10001, 15)"
      ]
     },
     "execution_count": 58,
     "metadata": {},
     "output_type": "execute_result"
    }
   ],
   "source": [
    "# Extract embeddings\n",
    "book_em = model.get_layer('embedding_2')\n",
    "book_em_weights = book_em.get_weights()[0]\n",
    "book_em_weights.shape"
   ]
  },
  {
   "cell_type": "markdown",
   "metadata": {},
   "source": [
    "- predict"
   ]
  },
  {
   "cell_type": "code",
   "execution_count": 69,
   "metadata": {},
   "outputs": [
    {
     "data": {
      "text/plain": [
       "array([[3.5329437],\n",
       "       [3.3704877],\n",
       "       [3.4019933],\n",
       "       ...,\n",
       "       [3.1214485],\n",
       "       [3.1810422],\n",
       "       [2.8816795]], dtype=float32)"
      ]
     },
     "execution_count": 69,
     "metadata": {},
     "output_type": "execute_result"
    }
   ],
   "source": [
    "book_arr = np.array(b_id) #get all book IDs\n",
    "user = np.array([100 for i in range(len(b_id))])\n",
    "pred = model.predict([book_arr, user])\n",
    "pred"
   ]
  },
  {
   "cell_type": "markdown",
   "metadata": {},
   "source": [
    "JSON format"
   ]
  },
  {
   "cell_type": "code",
   "execution_count": 72,
   "metadata": {},
   "outputs": [],
   "source": [
    "web_book_data = books.reset_index()[[\"book_id\", \"title\", \"image_url\", \"authors\"]]\n",
    "web_book_data = web_book_data.sort_values('book_id')\n",
    "web_book_data.to_json(r'web_book_data.json', orient='records')"
   ]
  },
  {
   "cell_type": "code",
   "execution_count": 87,
   "metadata": {},
   "outputs": [
    {
     "name": "stderr",
     "output_type": "stream",
     "text": [
      "2021-08-30 19:05:57.871748: W tensorflow/stream_executor/platform/default/dso_loader.cc:64] Could not load dynamic library 'cudart64_110.dll'; dlerror: cudart64_110.dll not found\n",
      "2021-08-30 19:05:57.871780: I tensorflow/stream_executor/cuda/cudart_stub.cc:29] Ignore above cudart dlerror if you do not have a GPU set up on your machine.\n",
      "Traceback (most recent call last):\n",
      "  File \"c:\\users\\sakura\\anaconda3\\lib\\runpy.py\", line 194, in _run_module_as_main\n",
      "    return _run_code(code, main_globals, None,\n",
      "  File \"c:\\users\\sakura\\anaconda3\\lib\\runpy.py\", line 87, in _run_code\n",
      "    exec(code, run_globals)\n",
      "  File \"C:\\Users\\Sakura\\anaconda3\\Scripts\\saved_model_cli.exe\\__main__.py\", line 7, in <module>\n",
      "  File \"c:\\users\\sakura\\anaconda3\\lib\\site-packages\\tensorflow\\python\\tools\\saved_model_cli.py\", line 1192, in main\n",
      "    args.func(args)\n",
      "  File \"c:\\users\\sakura\\anaconda3\\lib\\site-packages\\tensorflow\\python\\tools\\saved_model_cli.py\", line 719, in show\n",
      "    _show_all(args.dir)\n",
      "  File \"c:\\users\\sakura\\anaconda3\\lib\\site-packages\\tensorflow\\python\\tools\\saved_model_cli.py\", line 296, in _show_all\n",
      "    tag_sets = saved_model_utils.get_saved_model_tag_sets(saved_model_dir)\n",
      "  File \"c:\\users\\sakura\\anaconda3\\lib\\site-packages\\tensorflow\\python\\tools\\saved_model_utils.py\", line 91, in get_saved_model_tag_sets\n",
      "    saved_model = read_saved_model(saved_model_dir)\n",
      "  File \"c:\\users\\sakura\\anaconda3\\lib\\site-packages\\tensorflow\\python\\tools\\saved_model_utils.py\", line 55, in read_saved_model\n",
      "    raise IOError(\"SavedModel file does not exist at: %s\" % saved_model_dir)\n",
      "OSError: SavedModel file does not exist at: 0/\n"
     ]
    }
   ],
   "source": [
    "! saved_model_cli show --dir 0/ --all"
   ]
  },
  {
   "cell_type": "code",
   "execution_count": null,
   "metadata": {},
   "outputs": [],
   "source": []
  }
 ],
 "metadata": {
  "kernelspec": {
   "display_name": "Python 3",
   "language": "python",
   "name": "python3"
  },
  "language_info": {
   "codemirror_mode": {
    "name": "ipython",
    "version": 3
   },
   "file_extension": ".py",
   "mimetype": "text/x-python",
   "name": "python",
   "nbconvert_exporter": "python",
   "pygments_lexer": "ipython3",
   "version": "3.8.5"
  }
 },
 "nbformat": 4,
 "nbformat_minor": 4
}
