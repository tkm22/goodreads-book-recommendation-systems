{
 "cells": [
  {
   "cell_type": "markdown",
   "metadata": {},
   "source": [
    "# Books Recommend Seach System"
   ]
  },
  {
   "cell_type": "code",
   "execution_count": 1173,
   "metadata": {},
   "outputs": [],
   "source": [
    "import pandas as pd\n",
    "import numpy as np\n",
    "import seaborn as sns\n",
    "import matplotlib as mpl\n",
    "import matplotlib.pyplot as plt\n",
    "import datetime\n",
    "import sklearn\n",
    "import re\n",
    "from scipy import stats\n",
    "from sklearn.feature_extraction.text import TfidfVectorizer, CountVectorizer\n",
    "from sklearn.metrics.pairwise import linear_kernel, cosine_similarity\n",
    "from sklearn.preprocessing import LabelEncoder, OrdinalEncoder\n",
    "from sklearn.decomposition import TruncatedSVD\n",
    "from surprise import Reader, Dataset, SVD\n",
    "from surprise.model_selection import cross_validate\n",
    "from datetime import date\n",
    "from scipy.sparse import csr_matrix\n",
    "from sklearn.neighbors import NearestNeighbors\n",
    "from fuzzywuzzy import fuzz\n",
    "from nltk.tokenize import word_tokenize\n",
    "import scipy as sp\n",
    "import xgboost as xgb\n",
    "from sklearn.metrics import precision_score, recall_score, precision_recall_curve, auc,\\\n",
    "                            roc_auc_score"
   ]
  },
  {
   "cell_type": "code",
   "execution_count": 1174,
   "metadata": {},
   "outputs": [],
   "source": [
    "books = pd.read_csv('./books.csv', index_col=1)\n",
    "books = books.iloc[:, 1:]\n",
    "ratings = pd.read_csv('./ratings.csv')\n",
    "book_tags = pd.read_csv('./book_tags.csv')\n",
    "tags = pd.read_csv('./tags.csv')\n",
    "to_read = pd.read_csv('to_read.csv')"
   ]
  },
  {
   "cell_type": "markdown",
   "metadata": {},
   "source": [
    "## 1. EDA"
   ]
  },
  {
   "cell_type": "markdown",
   "metadata": {},
   "source": [
    "### 1.1. To_read"
   ]
  },
  {
   "cell_type": "code",
   "execution_count": 1175,
   "metadata": {},
   "outputs": [
    {
     "name": "stdout",
     "output_type": "stream",
     "text": [
      "<class 'pandas.core.frame.DataFrame'>\n",
      "RangeIndex: 912705 entries, 0 to 912704\n",
      "Data columns (total 2 columns):\n",
      " #   Column   Non-Null Count   Dtype\n",
      "---  ------   --------------   -----\n",
      " 0   user_id  912705 non-null  int64\n",
      " 1   book_id  912705 non-null  int64\n",
      "dtypes: int64(2)\n",
      "memory usage: 13.9 MB\n"
     ]
    }
   ],
   "source": [
    "to_read.info()"
   ]
  },
  {
   "cell_type": "markdown",
   "metadata": {},
   "source": [
    "### 1.2. Rating"
   ]
  },
  {
   "cell_type": "code",
   "execution_count": 1176,
   "metadata": {},
   "outputs": [
    {
     "name": "stdout",
     "output_type": "stream",
     "text": [
      "<class 'pandas.core.frame.DataFrame'>\n",
      "RangeIndex: 5976479 entries, 0 to 5976478\n",
      "Data columns (total 3 columns):\n",
      " #   Column   Dtype\n",
      "---  ------   -----\n",
      " 0   user_id  int64\n",
      " 1   book_id  int64\n",
      " 2   rating   int64\n",
      "dtypes: int64(3)\n",
      "memory usage: 136.8 MB\n"
     ]
    }
   ],
   "source": [
    "ratings.info()"
   ]
  },
  {
   "cell_type": "code",
   "execution_count": 1177,
   "metadata": {},
   "outputs": [
    {
     "data": {
      "text/html": [
       "<div>\n",
       "<style scoped>\n",
       "    .dataframe tbody tr th:only-of-type {\n",
       "        vertical-align: middle;\n",
       "    }\n",
       "\n",
       "    .dataframe tbody tr th {\n",
       "        vertical-align: top;\n",
       "    }\n",
       "\n",
       "    .dataframe thead th {\n",
       "        text-align: right;\n",
       "    }\n",
       "</style>\n",
       "<table border=\"1\" class=\"dataframe\">\n",
       "  <thead>\n",
       "    <tr style=\"text-align: right;\">\n",
       "      <th></th>\n",
       "      <th>user_id</th>\n",
       "      <th>book_id</th>\n",
       "      <th>rating</th>\n",
       "    </tr>\n",
       "  </thead>\n",
       "  <tbody>\n",
       "    <tr>\n",
       "      <th>0</th>\n",
       "      <td>1</td>\n",
       "      <td>258</td>\n",
       "      <td>5</td>\n",
       "    </tr>\n",
       "    <tr>\n",
       "      <th>1</th>\n",
       "      <td>2</td>\n",
       "      <td>4081</td>\n",
       "      <td>4</td>\n",
       "    </tr>\n",
       "    <tr>\n",
       "      <th>2</th>\n",
       "      <td>2</td>\n",
       "      <td>260</td>\n",
       "      <td>5</td>\n",
       "    </tr>\n",
       "    <tr>\n",
       "      <th>3</th>\n",
       "      <td>2</td>\n",
       "      <td>9296</td>\n",
       "      <td>5</td>\n",
       "    </tr>\n",
       "    <tr>\n",
       "      <th>4</th>\n",
       "      <td>2</td>\n",
       "      <td>2318</td>\n",
       "      <td>3</td>\n",
       "    </tr>\n",
       "  </tbody>\n",
       "</table>\n",
       "</div>"
      ],
      "text/plain": [
       "   user_id  book_id  rating\n",
       "0        1      258       5\n",
       "1        2     4081       4\n",
       "2        2      260       5\n",
       "3        2     9296       5\n",
       "4        2     2318       3"
      ]
     },
     "execution_count": 1177,
     "metadata": {},
     "output_type": "execute_result"
    }
   ],
   "source": [
    "ratings.head()"
   ]
  },
  {
   "cell_type": "code",
   "execution_count": 1178,
   "metadata": {},
   "outputs": [
    {
     "data": {
      "text/plain": [
       "('users', 53424, 'books', 10000, 'ratings', 5976479)"
      ]
     },
     "execution_count": 1178,
     "metadata": {},
     "output_type": "execute_result"
    }
   ],
   "source": [
    "'users', len(ratings.user_id.unique()), \\\n",
    "'books', len(ratings.book_id.unique()), \\\n",
    "'ratings', len(ratings)"
   ]
  },
  {
   "cell_type": "code",
   "execution_count": 1179,
   "metadata": {},
   "outputs": [
    {
     "data": {
      "text/html": [
       "<div>\n",
       "<style scoped>\n",
       "    .dataframe tbody tr th:only-of-type {\n",
       "        vertical-align: middle;\n",
       "    }\n",
       "\n",
       "    .dataframe tbody tr th {\n",
       "        vertical-align: top;\n",
       "    }\n",
       "\n",
       "    .dataframe thead th {\n",
       "        text-align: right;\n",
       "    }\n",
       "</style>\n",
       "<table border=\"1\" class=\"dataframe\">\n",
       "  <thead>\n",
       "    <tr style=\"text-align: right;\">\n",
       "      <th></th>\n",
       "      <th>user_id</th>\n",
       "      <th>book_id</th>\n",
       "      <th>rating</th>\n",
       "    </tr>\n",
       "  </thead>\n",
       "  <tbody>\n",
       "  </tbody>\n",
       "</table>\n",
       "</div>"
      ],
      "text/plain": [
       "Empty DataFrame\n",
       "Columns: [user_id, book_id, rating]\n",
       "Index: []"
      ]
     },
     "execution_count": 1179,
     "metadata": {},
     "output_type": "execute_result"
    }
   ],
   "source": [
    "r_ub = ratings.groupby(['user_id', 'book_id'])\n",
    "ratings[r_ub['rating'].transform('size') != 1]"
   ]
  },
  {
   "cell_type": "code",
   "execution_count": 1180,
   "metadata": {},
   "outputs": [
    {
     "data": {
      "image/png": "[encoded data removed]",
      "text/plain": [
       "<Figure size 432x288 with 1 Axes>"
      ]
     },
     "metadata": {
      "needs_background": "light"
     },
     "output_type": "display_data"
    }
   ],
   "source": [
    "ratings.rating.hist( bins = 5 );"
   ]
  },
  {
   "cell_type": "markdown",
   "metadata": {},
   "source": [
    "### 1.3 Books\n",
    "missing data: \n",
    "isbn 700 rows  \n",
    "isbn13 ~600  \n",
    "original_publication_year 21  \n",
    "original_title ~600 same as isbn13  \n",
    "language_code ~1000"
   ]
  },
  {
   "cell_type": "code",
   "execution_count": 1181,
   "metadata": {},
   "outputs": [
    {
     "name": "stdout",
     "output_type": "stream",
     "text": [
      "<class 'pandas.core.frame.DataFrame'>\n",
      "Int64Index: 10000 entries, 1 to 10000\n",
      "Data columns (total 22 columns):\n",
      " #   Column                     Non-Null Count  Dtype  \n",
      "---  ------                     --------------  -----  \n",
      " 0   goodreads_book_id          10000 non-null  int64  \n",
      " 1   best_book_id               10000 non-null  int64  \n",
      " 2   work_id                    10000 non-null  int64  \n",
      " 3   books_count                10000 non-null  int64  \n",
      " 4   isbn                       9300 non-null   object \n",
      " 5   isbn13                     9415 non-null   float64\n",
      " 6   authors                    10000 non-null  object \n",
      " 7   original_publication_year  10000 non-null  float64\n",
      " 8   original_title             9415 non-null   object \n",
      " 9   title                      10000 non-null  object \n",
      " 10  language_code              9344 non-null   object \n",
      " 11  average_rating             10000 non-null  float64\n",
      " 12  ratings_count              10000 non-null  int64  \n",
      " 13  work_ratings_count         10000 non-null  int64  \n",
      " 14  work_text_reviews_count    10000 non-null  int64  \n",
      " 15  ratings_1                  10000 non-null  int64  \n",
      " 16  ratings_2                  10000 non-null  int64  \n",
      " 17  ratings_3                  10000 non-null  int64  \n",
      " 18  ratings_4                  10000 non-null  int64  \n",
      " 19  ratings_5                  10000 non-null  int64  \n",
      " 20  image_url                  10000 non-null  object \n",
      " 21  small_image_url            10000 non-null  object \n",
      "dtypes: float64(3), int64(12), object(7)\n",
      "memory usage: 1.8+ MB\n"
     ]
    }
   ],
   "source": [
    "books.info()"
   ]
  },
  {
   "cell_type": "code",
   "execution_count": 1182,
   "metadata": {},
   "outputs": [
    {
     "data": {
      "text/html": [
       "<div>\n",
       "<style scoped>\n",
       "    .dataframe tbody tr th:only-of-type {\n",
       "        vertical-align: middle;\n",
       "    }\n",
       "\n",
       "    .dataframe tbody tr th {\n",
       "        vertical-align: top;\n",
       "    }\n",
       "\n",
       "    .dataframe thead th {\n",
       "        text-align: right;\n",
       "    }\n",
       "</style>\n",
       "<table border=\"1\" class=\"dataframe\">\n",
       "  <thead>\n",
       "    <tr style=\"text-align: right;\">\n",
       "      <th>book_id</th>\n",
       "      <th>1</th>\n",
       "      <th>2</th>\n",
       "      <th>3</th>\n",
       "    </tr>\n",
       "  </thead>\n",
       "  <tbody>\n",
       "    <tr>\n",
       "      <th>goodreads_book_id</th>\n",
       "      <td>2767052</td>\n",
       "      <td>3</td>\n",
       "      <td>41865</td>\n",
       "    </tr>\n",
       "    <tr>\n",
       "      <th>best_book_id</th>\n",
       "      <td>2767052</td>\n",
       "      <td>3</td>\n",
       "      <td>41865</td>\n",
       "    </tr>\n",
       "    <tr>\n",
       "      <th>work_id</th>\n",
       "      <td>2792775</td>\n",
       "      <td>4640799</td>\n",
       "      <td>3212258</td>\n",
       "    </tr>\n",
       "    <tr>\n",
       "      <th>books_count</th>\n",
       "      <td>272</td>\n",
       "      <td>491</td>\n",
       "      <td>226</td>\n",
       "    </tr>\n",
       "    <tr>\n",
       "      <th>isbn</th>\n",
       "      <td>439023483</td>\n",
       "      <td>439554934</td>\n",
       "      <td>316015849</td>\n",
       "    </tr>\n",
       "    <tr>\n",
       "      <th>isbn13</th>\n",
       "      <td>9.78044e+12</td>\n",
       "      <td>9.78044e+12</td>\n",
       "      <td>9.78032e+12</td>\n",
       "    </tr>\n",
       "    <tr>\n",
       "      <th>authors</th>\n",
       "      <td>Suzanne Collins</td>\n",
       "      <td>J.K. Rowling, Mary GrandPré</td>\n",
       "      <td>Stephenie Meyer</td>\n",
       "    </tr>\n",
       "    <tr>\n",
       "      <th>original_publication_year</th>\n",
       "      <td>2008</td>\n",
       "      <td>1997</td>\n",
       "      <td>2005</td>\n",
       "    </tr>\n",
       "    <tr>\n",
       "      <th>original_title</th>\n",
       "      <td>The Hunger Games</td>\n",
       "      <td>Harry Potter and the Philosopher's Stone</td>\n",
       "      <td>Twilight</td>\n",
       "    </tr>\n",
       "    <tr>\n",
       "      <th>title</th>\n",
       "      <td>The Hunger Games (The Hunger Games, #1)</td>\n",
       "      <td>Harry Potter and the Sorcerer's Stone (Harry P...</td>\n",
       "      <td>Twilight (Twilight, #1)</td>\n",
       "    </tr>\n",
       "    <tr>\n",
       "      <th>language_code</th>\n",
       "      <td>eng</td>\n",
       "      <td>eng</td>\n",
       "      <td>en-US</td>\n",
       "    </tr>\n",
       "    <tr>\n",
       "      <th>average_rating</th>\n",
       "      <td>4.34</td>\n",
       "      <td>4.44</td>\n",
       "      <td>3.57</td>\n",
       "    </tr>\n",
       "    <tr>\n",
       "      <th>ratings_count</th>\n",
       "      <td>4780653</td>\n",
       "      <td>4602479</td>\n",
       "      <td>3866839</td>\n",
       "    </tr>\n",
       "    <tr>\n",
       "      <th>work_ratings_count</th>\n",
       "      <td>4942365</td>\n",
       "      <td>4800065</td>\n",
       "      <td>3916824</td>\n",
       "    </tr>\n",
       "    <tr>\n",
       "      <th>work_text_reviews_count</th>\n",
       "      <td>155254</td>\n",
       "      <td>75867</td>\n",
       "      <td>95009</td>\n",
       "    </tr>\n",
       "    <tr>\n",
       "      <th>ratings_1</th>\n",
       "      <td>66715</td>\n",
       "      <td>75504</td>\n",
       "      <td>456191</td>\n",
       "    </tr>\n",
       "    <tr>\n",
       "      <th>ratings_2</th>\n",
       "      <td>127936</td>\n",
       "      <td>101676</td>\n",
       "      <td>436802</td>\n",
       "    </tr>\n",
       "    <tr>\n",
       "      <th>ratings_3</th>\n",
       "      <td>560092</td>\n",
       "      <td>455024</td>\n",
       "      <td>793319</td>\n",
       "    </tr>\n",
       "    <tr>\n",
       "      <th>ratings_4</th>\n",
       "      <td>1481305</td>\n",
       "      <td>1156318</td>\n",
       "      <td>875073</td>\n",
       "    </tr>\n",
       "    <tr>\n",
       "      <th>ratings_5</th>\n",
       "      <td>2706317</td>\n",
       "      <td>3011543</td>\n",
       "      <td>1355439</td>\n",
       "    </tr>\n",
       "    <tr>\n",
       "      <th>image_url</th>\n",
       "      <td>https://images.gr-assets.com/books/1447303603m...</td>\n",
       "      <td>https://images.gr-assets.com/books/1474154022m...</td>\n",
       "      <td>https://images.gr-assets.com/books/1361039443m...</td>\n",
       "    </tr>\n",
       "    <tr>\n",
       "      <th>small_image_url</th>\n",
       "      <td>https://images.gr-assets.com/books/1447303603s...</td>\n",
       "      <td>https://images.gr-assets.com/books/1474154022s...</td>\n",
       "      <td>https://images.gr-assets.com/books/1361039443s...</td>\n",
       "    </tr>\n",
       "  </tbody>\n",
       "</table>\n",
       "</div>"
      ],
      "text/plain": [
       "book_id                                                                    1  \\\n",
       "goodreads_book_id                                                    2767052   \n",
       "best_book_id                                                         2767052   \n",
       "work_id                                                              2792775   \n",
       "books_count                                                              272   \n",
       "isbn                                                               439023483   \n",
       "isbn13                                                           9.78044e+12   \n",
       "authors                                                      Suzanne Collins   \n",
       "original_publication_year                                               2008   \n",
       "original_title                                              The Hunger Games   \n",
       "title                                The Hunger Games (The Hunger Games, #1)   \n",
       "language_code                                                            eng   \n",
       "average_rating                                                          4.34   \n",
       "ratings_count                                                        4780653   \n",
       "work_ratings_count                                                   4942365   \n",
       "work_text_reviews_count                                               155254   \n",
       "ratings_1                                                              66715   \n",
       "ratings_2                                                             127936   \n",
       "ratings_3                                                             560092   \n",
       "ratings_4                                                            1481305   \n",
       "ratings_5                                                            2706317   \n",
       "image_url                  https://images.gr-assets.com/books/1447303603m...   \n",
       "small_image_url            https://images.gr-assets.com/books/1447303603s...   \n",
       "\n",
       "book_id                                                                    2  \\\n",
       "goodreads_book_id                                                          3   \n",
       "best_book_id                                                               3   \n",
       "work_id                                                              4640799   \n",
       "books_count                                                              491   \n",
       "isbn                                                               439554934   \n",
       "isbn13                                                           9.78044e+12   \n",
       "authors                                          J.K. Rowling, Mary GrandPré   \n",
       "original_publication_year                                               1997   \n",
       "original_title                      Harry Potter and the Philosopher's Stone   \n",
       "title                      Harry Potter and the Sorcerer's Stone (Harry P...   \n",
       "language_code                                                            eng   \n",
       "average_rating                                                          4.44   \n",
       "ratings_count                                                        4602479   \n",
       "work_ratings_count                                                   4800065   \n",
       "work_text_reviews_count                                                75867   \n",
       "ratings_1                                                              75504   \n",
       "ratings_2                                                             101676   \n",
       "ratings_3                                                             455024   \n",
       "ratings_4                                                            1156318   \n",
       "ratings_5                                                            3011543   \n",
       "image_url                  https://images.gr-assets.com/books/1474154022m...   \n",
       "small_image_url            https://images.gr-assets.com/books/1474154022s...   \n",
       "\n",
       "book_id                                                                    3  \n",
       "goodreads_book_id                                                      41865  \n",
       "best_book_id                                                           41865  \n",
       "work_id                                                              3212258  \n",
       "books_count                                                              226  \n",
       "isbn                                                               316015849  \n",
       "isbn13                                                           9.78032e+12  \n",
       "authors                                                      Stephenie Meyer  \n",
       "original_publication_year                                               2005  \n",
       "original_title                                                      Twilight  \n",
       "title                                                Twilight (Twilight, #1)  \n",
       "language_code                                                          en-US  \n",
       "average_rating                                                          3.57  \n",
       "ratings_count                                                        3866839  \n",
       "work_ratings_count                                                   3916824  \n",
       "work_text_reviews_count                                                95009  \n",
       "ratings_1                                                             456191  \n",
       "ratings_2                                                             436802  \n",
       "ratings_3                                                             793319  \n",
       "ratings_4                                                             875073  \n",
       "ratings_5                                                            1355439  \n",
       "image_url                  https://images.gr-assets.com/books/1361039443m...  \n",
       "small_image_url            https://images.gr-assets.com/books/1361039443s...  "
      ]
     },
     "execution_count": 1182,
     "metadata": {},
     "output_type": "execute_result"
    }
   ],
   "source": [
    "books.head(3).T"
   ]
  },
  {
   "cell_type": "markdown",
   "metadata": {},
   "source": [
    "### 1.3. Book_tags"
   ]
  },
  {
   "cell_type": "code",
   "execution_count": 1183,
   "metadata": {},
   "outputs": [
    {
     "name": "stdout",
     "output_type": "stream",
     "text": [
      "<class 'pandas.core.frame.DataFrame'>\n",
      "RangeIndex: 999912 entries, 0 to 999911\n",
      "Data columns (total 3 columns):\n",
      " #   Column             Non-Null Count   Dtype\n",
      "---  ------             --------------   -----\n",
      " 0   goodreads_book_id  999912 non-null  int64\n",
      " 1   tag_id             999912 non-null  int64\n",
      " 2   count              999912 non-null  int64\n",
      "dtypes: int64(3)\n",
      "memory usage: 22.9 MB\n"
     ]
    }
   ],
   "source": [
    "book_tags.info()"
   ]
  },
  {
   "cell_type": "code",
   "execution_count": 1184,
   "metadata": {},
   "outputs": [
    {
     "data": {
      "text/html": [
       "<div>\n",
       "<style scoped>\n",
       "    .dataframe tbody tr th:only-of-type {\n",
       "        vertical-align: middle;\n",
       "    }\n",
       "\n",
       "    .dataframe tbody tr th {\n",
       "        vertical-align: top;\n",
       "    }\n",
       "\n",
       "    .dataframe thead th {\n",
       "        text-align: right;\n",
       "    }\n",
       "</style>\n",
       "<table border=\"1\" class=\"dataframe\">\n",
       "  <thead>\n",
       "    <tr style=\"text-align: right;\">\n",
       "      <th></th>\n",
       "      <th>goodreads_book_id</th>\n",
       "      <th>tag_id</th>\n",
       "      <th>count</th>\n",
       "    </tr>\n",
       "  </thead>\n",
       "  <tbody>\n",
       "    <tr>\n",
       "      <th>0</th>\n",
       "      <td>1</td>\n",
       "      <td>30574</td>\n",
       "      <td>167697</td>\n",
       "    </tr>\n",
       "    <tr>\n",
       "      <th>1</th>\n",
       "      <td>1</td>\n",
       "      <td>11305</td>\n",
       "      <td>37174</td>\n",
       "    </tr>\n",
       "    <tr>\n",
       "      <th>2</th>\n",
       "      <td>1</td>\n",
       "      <td>11557</td>\n",
       "      <td>34173</td>\n",
       "    </tr>\n",
       "    <tr>\n",
       "      <th>3</th>\n",
       "      <td>1</td>\n",
       "      <td>8717</td>\n",
       "      <td>12986</td>\n",
       "    </tr>\n",
       "    <tr>\n",
       "      <th>4</th>\n",
       "      <td>1</td>\n",
       "      <td>33114</td>\n",
       "      <td>12716</td>\n",
       "    </tr>\n",
       "  </tbody>\n",
       "</table>\n",
       "</div>"
      ],
      "text/plain": [
       "   goodreads_book_id  tag_id   count\n",
       "0                  1   30574  167697\n",
       "1                  1   11305   37174\n",
       "2                  1   11557   34173\n",
       "3                  1    8717   12986\n",
       "4                  1   33114   12716"
      ]
     },
     "execution_count": 1184,
     "metadata": {},
     "output_type": "execute_result"
    }
   ],
   "source": [
    "book_tags.head()"
   ]
  },
  {
   "cell_type": "markdown",
   "metadata": {},
   "source": [
    "### 1.4. Tags"
   ]
  },
  {
   "cell_type": "code",
   "execution_count": 1185,
   "metadata": {},
   "outputs": [
    {
     "name": "stdout",
     "output_type": "stream",
     "text": [
      "<class 'pandas.core.frame.DataFrame'>\n",
      "RangeIndex: 34252 entries, 0 to 34251\n",
      "Data columns (total 2 columns):\n",
      " #   Column    Non-Null Count  Dtype \n",
      "---  ------    --------------  ----- \n",
      " 0   tag_id    34252 non-null  int64 \n",
      " 1   tag_name  34252 non-null  object\n",
      "dtypes: int64(1), object(1)\n",
      "memory usage: 535.3+ KB\n"
     ]
    }
   ],
   "source": [
    "tags.info()"
   ]
  },
  {
   "cell_type": "code",
   "execution_count": 1186,
   "metadata": {},
   "outputs": [
    {
     "data": {
      "text/html": [
       "<div>\n",
       "<style scoped>\n",
       "    .dataframe tbody tr th:only-of-type {\n",
       "        vertical-align: middle;\n",
       "    }\n",
       "\n",
       "    .dataframe tbody tr th {\n",
       "        vertical-align: top;\n",
       "    }\n",
       "\n",
       "    .dataframe thead th {\n",
       "        text-align: right;\n",
       "    }\n",
       "</style>\n",
       "<table border=\"1\" class=\"dataframe\">\n",
       "  <thead>\n",
       "    <tr style=\"text-align: right;\">\n",
       "      <th></th>\n",
       "      <th>tag_id</th>\n",
       "      <th>tag_name</th>\n",
       "    </tr>\n",
       "  </thead>\n",
       "  <tbody>\n",
       "    <tr>\n",
       "      <th>0</th>\n",
       "      <td>0</td>\n",
       "      <td>-</td>\n",
       "    </tr>\n",
       "    <tr>\n",
       "      <th>1</th>\n",
       "      <td>1</td>\n",
       "      <td>--1-</td>\n",
       "    </tr>\n",
       "    <tr>\n",
       "      <th>2</th>\n",
       "      <td>2</td>\n",
       "      <td>--10-</td>\n",
       "    </tr>\n",
       "    <tr>\n",
       "      <th>3</th>\n",
       "      <td>3</td>\n",
       "      <td>--12-</td>\n",
       "    </tr>\n",
       "    <tr>\n",
       "      <th>4</th>\n",
       "      <td>4</td>\n",
       "      <td>--122-</td>\n",
       "    </tr>\n",
       "  </tbody>\n",
       "</table>\n",
       "</div>"
      ],
      "text/plain": [
       "   tag_id tag_name\n",
       "0       0        -\n",
       "1       1     --1-\n",
       "2       2    --10-\n",
       "3       3    --12-\n",
       "4       4   --122-"
      ]
     },
     "execution_count": 1186,
     "metadata": {},
     "output_type": "execute_result"
    }
   ],
   "source": [
    "tags.head()"
   ]
  },
  {
   "cell_type": "markdown",
   "metadata": {},
   "source": [
    "### 1.5. Data Cleansing"
   ]
  },
  {
   "cell_type": "code",
   "execution_count": 1187,
   "metadata": {},
   "outputs": [],
   "source": [
    "from goodreads import client\n",
    "import time\n",
    "api_key = 'k8aNpms0tdzaddORWzUHoA'\n",
    "api_secret = '2Vy3eO4Nm2amvPLCxwRaufXwqKvd2pmS2E5FvNkXgg4'\n",
    "gc = client.GoodreadsClient(api_key, api_secret)"
   ]
  },
  {
   "cell_type": "markdown",
   "metadata": {},
   "source": [
    "#### Ratings, no missing data, no few rating per user, no cleaning need"
   ]
  },
  {
   "cell_type": "markdown",
   "metadata": {},
   "source": [
    "#### Books: publication year, language need to be handled"
   ]
  },
  {
   "cell_type": "code",
   "execution_count": 1188,
   "metadata": {},
   "outputs": [],
   "source": [
    "yr_bid = books[books.original_publication_year.isna()].goodreads_book_id\n",
    "lang_bid = books[books.language_code.isna()].goodreads_book_id"
   ]
  },
  {
   "cell_type": "markdown",
   "metadata": {},
   "source": [
    "- get books publisher"
   ]
  },
  {
   "cell_type": "code",
   "execution_count": 1189,
   "metadata": {
    "jupyter": {
     "source_hidden": true
    }
   },
   "outputs": [],
   "source": [
    "yr_error = []\n",
    "for idx, bid in yr_bid.items():\n",
    "    try:\n",
    "        books.at[idx, 'original_publication_year'] = int(gc.book(bid).publication_date[2])\n",
    "    except KeyboardInterrupt:\n",
    "        break\n",
    "    except:\n",
    "        yr_error.append(bid)"
   ]
  },
  {
   "cell_type": "code",
   "execution_count": 1190,
   "metadata": {
    "jupyter": {
     "source_hidden": true
    }
   },
   "outputs": [],
   "source": [
    "lang_error = []\n",
    "for idx, bid in lang_bid.items():\n",
    "    try:\n",
    "        books.at[idx, 'language_code'] = gc.book(bid).language_code\n",
    "    except KeyboardInterrupt:\n",
    "        break\n",
    "    except:\n",
    "        lang_error.append((idx, bid))"
   ]
  },
  {
   "cell_type": "code",
   "execution_count": 1191,
   "metadata": {
    "jupyter": {
     "source_hidden": true
    }
   },
   "outputs": [
    {
     "name": "stdout",
     "output_type": "stream",
     "text": [
      "Wall time: 9.6 s\n"
     ]
    },
    {
     "data": {
      "text/plain": [
       "0"
      ]
     },
     "execution_count": 1191,
     "metadata": {},
     "output_type": "execute_result"
    }
   ],
   "source": [
    "%%time\n",
    "publisher_error = []\n",
    "for idx, bid in books.goodreads_book_id.items():\n",
    "    try:\n",
    "        books.at[idx, 'publisher'] = gc.book(bid).publisher\n",
    "    except KeyboardInterrupt:\n",
    "        break\n",
    "    except:\n",
    "        publisher_error.append((idx, bid))\n",
    "len(publisher_error)"
   ]
  },
  {
   "cell_type": "markdown",
   "metadata": {},
   "source": [
    "- book_tags"
   ]
  },
  {
   "cell_type": "code",
   "execution_count": null,
   "metadata": {},
   "outputs": [],
   "source": [
    "book_tags.drop_duplicates(inplace=True)"
   ]
  },
  {
   "cell_type": "markdown",
   "metadata": {},
   "source": [
    "### 1.6. Formal EDA and Features Generation"
   ]
  },
  {
   "cell_type": "markdown",
   "metadata": {},
   "source": [
    "#### Ratings"
   ]
  },
  {
   "cell_type": "markdown",
   "metadata": {},
   "source": [
    "##### distribution of rating: many are 3, 4 and 5"
   ]
  },
  {
   "cell_type": "code",
   "execution_count": 1245,
   "metadata": {},
   "outputs": [
    {
     "data": {
      "image/png": "[encoded data removed]",
      "text/plain": [
       "<Figure size 432x288 with 1 Axes>"
      ]
     },
     "metadata": {
      "needs_background": "light"
     },
     "output_type": "display_data"
    }
   ],
   "source": [
    "sns.countplot(x='rating', data=ratings);"
   ]
  },
  {
   "cell_type": "markdown",
   "metadata": {},
   "source": [
    "##### distribution of number of Rating per user: normal distribution aroudn 110 ratings per user  \n",
    "later check more frequent raters vs less frequent raters on ratings"
   ]
  },
  {
   "cell_type": "code",
   "execution_count": 1246,
   "metadata": {},
   "outputs": [],
   "source": [
    "r_u_cnt = ratings.groupby('user_id').rating.count()"
   ]
  },
  {
   "cell_type": "code",
   "execution_count": 1247,
   "metadata": {},
   "outputs": [
    {
     "data": {
      "image/png": "[encoded data removed]",
      "text/plain": [
       "<Figure size 432x288 with 1 Axes>"
      ]
     },
     "metadata": {
      "needs_background": "light"
     },
     "output_type": "display_data"
    }
   ],
   "source": [
    "ax = sns.histplot(data=r_u_cnt, bins=180)\n",
    "ax.set(xlabel='number of ratings per user');"
   ]
  },
  {
   "cell_type": "markdown",
   "metadata": {},
   "source": [
    "##### distribution of Mean Rating Per User: normal dist around 4  \n",
    "some ppl like giving 5, meaning they like all the books (low standard) or they only rate good books; And no downvoters rating all 1. These might be good indicator for collaborative filtering. Can shift to std normal distribution to get rid of the tendency from diff users (high standard and low standard)"
   ]
  },
  {
   "cell_type": "code",
   "execution_count": 1248,
   "metadata": {},
   "outputs": [],
   "source": [
    "r_u_mean = ratings.groupby('user_id').rating.mean()"
   ]
  },
  {
   "cell_type": "code",
   "execution_count": 1249,
   "metadata": {},
   "outputs": [
    {
     "data": {
      "image/png": "[encoded data removed]",
      "text/plain": [
       "<Figure size 432x288 with 1 Axes>"
      ]
     },
     "metadata": {
      "needs_background": "light"
     },
     "output_type": "display_data"
    }
   ],
   "source": [
    "ax = sns.histplot(data=r_u_mean)\n",
    "ax.set(xlabel='Mean ratings per user');"
   ]
  },
  {
   "cell_type": "markdown",
   "metadata": {},
   "source": [
    "##### distribution of number of rating per book by sign-in user: many are 100-200 ratings, enough number for true rate"
   ]
  },
  {
   "cell_type": "code",
   "execution_count": 1250,
   "metadata": {},
   "outputs": [
    {
     "data": {
      "image/png": "[encoded data removed]",
      "text/plain": [
       "<Figure size 864x576 with 1 Axes>"
      ]
     },
     "metadata": {
      "needs_background": "light"
     },
     "output_type": "display_data"
    }
   ],
   "source": [
    "r_b_cnt = ratings.groupby('book_id').rating.sum() \n",
    "plt.figure(figsize=(12, 8))\n",
    "ax = sns.histplot(data=r_b_cnt)\n",
    "ax.set(\n",
    "    xlabel='number of ratings per book',\n",
    "#     xticks=np.logspace(1, 3, num=7, base=10),\n",
    "    xlim=[0, 20000], \n",
    ");\n",
    "# ax.tick_params(axis='x', which='both', bottom=True)\n",
    "# ax.get_xaxis().set_minor_locator(mpl.ticker.AutoMinorLocator())"
   ]
  },
  {
   "cell_type": "code",
   "execution_count": 1251,
   "metadata": {},
   "outputs": [
    {
     "data": {
      "text/plain": [
       "[(0.0, 100000.0)]"
      ]
     },
     "execution_count": 1251,
     "metadata": {},
     "output_type": "execute_result"
    },
    {
     "data": {
      "image/png": "[encoded data removed]",
      "text/plain": [
       "<Figure size 432x288 with 1 Axes>"
      ]
     },
     "metadata": {
      "needs_background": "light"
     },
     "output_type": "display_data"
    }
   ],
   "source": [
    "ax = sns.histplot(data=books.ratings_count,\n",
    "                 )\n",
    "ax.set(\n",
    "      xlim=[0, 10**5]\n",
    ")"
   ]
  },
  {
   "cell_type": "markdown",
   "metadata": {},
   "source": [
    "##### distribution of Mean Rating Per Book by sign-in user: normal dist around 4, almost no books higher than 4.6"
   ]
  },
  {
   "cell_type": "code",
   "execution_count": null,
   "metadata": {},
   "outputs": [],
   "source": [
    "r_b_mean = ratings.groupby('book_id').rating.mean()\n",
    "ax = sns.histplot(data=r_b_mean)\n",
    "ax.set(xlabel='Mean ratings per book');"
   ]
  },
  {
   "cell_type": "markdown",
   "metadata": {},
   "source": [
    "### tags"
   ]
  },
  {
   "cell_type": "markdown",
   "metadata": {},
   "source": [
    "##### distribution of Book Genres (from tags): hardcore tags to be matched with goodreads' tags, and only use these tags for now  \n",
    "\n",
    "Fiction, fantasy etc tags are popular"
   ]
  },
  {
   "cell_type": "code",
   "execution_count": null,
   "metadata": {},
   "outputs": [],
   "source": [
    "genres = [\"Art\", \"Biography\", \"Business\", \"Chick Lit\", \"Children's\", \"Christian\", \"Classics\",\n",
    "          \"Comics\", \"Contemporary\", \"Cookbooks\", \"Crime\", \"Ebooks\", \"Fantasy\", \"Fiction\",\n",
    "          \"Gay and Lesbian\", \"Graphic Novels\", \"Historical Fiction\", \"History\", \"Horror\",\n",
    "          \"Humor and Comedy\", \"Manga\", \"Memoir\", \"Music\", \"Mystery\", \"Nonfiction\", \"Paranormal\",\n",
    "          \"Philosophy\", \"Poetry\", \"Psychology\", \"Religion\", \"Romance\", \"Science\", \"Science Fiction\", \n",
    "          \"Self Help\", \"Suspense\", \"Spirituality\", \"Sports\", \"Thriller\", \"Travel\", \"Young Adult\"]\n",
    "genres = list(map(str.lower, genres))"
   ]
  },
  {
   "cell_type": "code",
   "execution_count": null,
   "metadata": {},
   "outputs": [],
   "source": [
    "built_in_tags = tags[tags.tag_name.str.lower().isin(genres)]\n",
    "built_in_book_tags = book_tags[book_tags.tag_id.isin(built_in_tags.tag_id)]\n",
    "genres_built_in = built_in_book_tags.merge(built_in_tags, on='tag_id')"
   ]
  },
  {
   "cell_type": "code",
   "execution_count": null,
   "metadata": {},
   "outputs": [],
   "source": [
    "tagname_totalcnt = built_in_book_tags['count'].sum()\n",
    "bibt_tagname_cnt = pd.DataFrame(built_in_book_tags.groupby('tag_id')['count']. \\\n",
    "                                pipe(lambda x: 100. * x.sum() / tagname_totalcnt)). \\\n",
    "                    set_index(built_in_tags.tag_name)\n",
    "bibt_tagname_cnt.sort_values('count', ascending=False, inplace=True)\n",
    "plt.figure(figsize=(15, 10))\n",
    "ax = sns.barplot(\n",
    "    data=bibt_tagname_cnt,\n",
    "    x='count',\n",
    "    y=bibt_tagname_cnt.index,\n",
    "#     orient='h'\n",
    "                 )\n",
    "ax.set(xlabel='Percentage of book per tag/genre');\n",
    "for i, v in enumerate(bibt_tagname_cnt['count']):\n",
    "    ax.text( v, i, str(round(v, 2)) + '%' )"
   ]
  },
  {
   "cell_type": "markdown",
   "metadata": {},
   "source": [
    "### Books"
   ]
  },
  {
   "cell_type": "markdown",
   "metadata": {},
   "source": [
    "#### authors:  \n",
    "generate feature:  \n",
    "- number of authors  "
   ]
  },
  {
   "cell_type": "markdown",
   "metadata": {},
   "source": [
    "- number of autoher, higher rating"
   ]
  },
  {
   "cell_type": "code",
   "execution_count": null,
   "metadata": {},
   "outputs": [],
   "source": [
    "books['n_authors'] = books.apply(lambda x: len(x.authors.split(',')), axis=1)\n",
    "n_authors = books[books['n_authors'] < 10]['n_authors']\n",
    "\n",
    "ax = sns.regplot(\n",
    "    x=n_authors, \n",
    "    y=books[books['n_authors'] < 10]['average_rating'], \n",
    "    line_kws={'color':'orchid'})\n",
    "\n",
    "ax.annotate('r =' + str(round(stats.pearsonr(n_authors,\n",
    "                                             books[books['n_authors'] < 10]['average_rating'])[0], 3)),\n",
    "            xy=(3,3), fontsize=15);\n",
    "plt.xlabel('number_of_authors');"
   ]
  },
  {
   "cell_type": "markdown",
   "metadata": {},
   "source": [
    "#### Years:   \n",
    " generate feature:  \n",
    "- year until now"
   ]
  },
  {
   "cell_type": "code",
   "execution_count": null,
   "metadata": {},
   "outputs": [],
   "source": [
    "books['years_until_now'] = books.original_publication_year.astype(int).map(lambda x: date.today().year - x)"
   ]
  },
  {
   "cell_type": "markdown",
   "metadata": {},
   "source": [
    "#### title:\n",
    "generate feature:  \n",
    "- title changed? (bool)  \n",
    "- title length\n",
    "- has_subtitle?(bool)"
   ]
  },
  {
   "cell_type": "code",
   "execution_count": null,
   "metadata": {},
   "outputs": [],
   "source": [
    "books['title_changed'] = 1\n",
    "books.loc[books.title == books.original_title, 'title_changed'] = 0"
   ]
  },
  {
   "cell_type": "markdown",
   "metadata": {},
   "source": [
    "- title length: vs rating"
   ]
  },
  {
   "cell_type": "code",
   "execution_count": null,
   "metadata": {},
   "outputs": [],
   "source": [
    "books['title_length'] = books.title.transform(lambda x: len(x.split()) )"
   ]
  },
  {
   "cell_type": "code",
   "execution_count": null,
   "metadata": {},
   "outputs": [],
   "source": [
    "plt.figure(figsize=(15,8))\n",
    "sns.boxplot(x='title_length',\n",
    "            y='average_rating',\n",
    "            data=books\n",
    "           );"
   ]
  },
  {
   "cell_type": "code",
   "execution_count": null,
   "metadata": {},
   "outputs": [],
   "source": [
    "plt.figure(figsize=(15,8))\n",
    "sns.barplot(\n",
    "    x=books['title_length'].unique(),\n",
    "    y=books.groupby('title_length')['average_rating'].mean(),\n",
    "    data=books,\n",
    "    orient='v'\n",
    "           );"
   ]
  },
  {
   "cell_type": "markdown",
   "metadata": {},
   "source": [
    "- Subtitle: improve books' rating"
   ]
  },
  {
   "cell_type": "code",
   "execution_count": null,
   "metadata": {},
   "outputs": [],
   "source": [
    "books['has_subtitle'] = books.title.str.contains(':', regex=False)\n",
    "plt.figure(figsize=(8,10))\n",
    "sns.boxplot(\n",
    "    x='has_subtitle',\n",
    "    y='average_rating',\n",
    "    data=books\n",
    ")"
   ]
  },
  {
   "cell_type": "markdown",
   "metadata": {},
   "source": [
    "#### Languages:   \n",
    "some books with diff languages?   \n",
    "generate feature: \n",
    "- is_english book?"
   ]
  },
  {
   "cell_type": "code",
   "execution_count": null,
   "metadata": {},
   "outputs": [],
   "source": [
    "b_lang_cnt = books.language_code.value_counts()\n",
    "b_lang_cnt.columns = ['count']\n",
    "b_lang_cnt.head()"
   ]
  },
  {
   "cell_type": "code",
   "execution_count": null,
   "metadata": {},
   "outputs": [],
   "source": [
    "f, axes = plt.subplots(1, 2, figsize=(15,9))\n",
    "axes[0] = sns.countplot(\n",
    "    y=books.language_code,\n",
    "    order=books.language_code.value_counts().index,\n",
    "    ax=axes[0]\n",
    "           );\n",
    "exclude_eng = books[~books['language_code'].isin([\"en-US\", \"en-GB\", \"eng\", \"en-CA\"]\n",
    "                         )].language_code\n",
    "axes[1] = sns.countplot(\n",
    "    y=exclude_eng,\n",
    "    order=exclude_eng.value_counts().index,\n",
    "    ax=axes[1]\n",
    "           );\n",
    "\n",
    "axes[0].set(xlabel='number of books', title='English included');\n",
    "axes[1].set(xlabel='number of books', title='English excluded');"
   ]
  },
  {
   "cell_type": "code",
   "execution_count": null,
   "metadata": {},
   "outputs": [],
   "source": [
    "books['is_english'] = 0\n",
    "books.loc[books.language_code.isin([\"en-US\", \"en-GB\", \"eng\", \"en-CA\"]), 'is_english'] = 1"
   ]
  },
  {
   "cell_type": "markdown",
   "metadata": {},
   "source": [
    "#### series of books: \n",
    "always given by #, good indicator for recommendation, \n",
    "generate features: \n",
    "- series\n",
    "- number of books in a series\n",
    "- etc"
   ]
  },
  {
   "cell_type": "code",
   "execution_count": null,
   "metadata": {},
   "outputs": [],
   "source": [
    "series = books[books.title.str.contains('\\(.*[:#].*\\)')]\n",
    "series['series'] = series['title'].str.findall('\\(.*[,:]').\\\n",
    "apply(lambda x: ''.join(map(str, x))).apply(lambda x: x[1:-1])\n",
    "series[['goodreads_book_id', 'title', 'average_rating']];"
   ]
  },
  {
   "cell_type": "code",
   "execution_count": null,
   "metadata": {},
   "outputs": [],
   "source": [
    "books['series'] = books.join(series.series).series"
   ]
  },
  {
   "cell_type": "markdown",
   "metadata": {},
   "source": [
    "- number of books in series  \n",
    "more books in a series, higher rating"
   ]
  },
  {
   "cell_type": "code",
   "execution_count": null,
   "metadata": {},
   "outputs": [],
   "source": [
    "books['n_books_in_series'] = books.groupby('series')['series'].transform('count').fillna(0)"
   ]
  },
  {
   "cell_type": "code",
   "execution_count": null,
   "metadata": {},
   "outputs": [],
   "source": [
    "r2 = stats.linregress(series.groupby('series')['series'].count(), \n",
    "                      series.groupby('series')['average_rating'].mean(),\n",
    "                     )[2]\n",
    "print(r2)\n",
    "ax = sns.regplot(x=series.groupby('series')['series'].count(),\n",
    "                 y=series.groupby('series')['average_rating'].mean(),\n",
    "#                 data=books,\n",
    "            line_kws={'color':'cyan'}, \n",
    "           )\n",
    "ax.set(xlabel='number of books per series', ylabel='mean rating per series');"
   ]
  },
  {
   "cell_type": "markdown",
   "metadata": {},
   "source": [
    "#### Top rated from books"
   ]
  },
  {
   "cell_type": "code",
   "execution_count": null,
   "metadata": {},
   "outputs": [],
   "source": [
    "books.sort_values(\n",
    "    by='average_rating',\n",
    "    ascending=False\n",
    "    ).loc[: , ['title', 'ratings_count', 'average_rating']].head()"
   ]
  },
  {
   "cell_type": "markdown",
   "metadata": {},
   "source": [
    "#### Top popular (number of rate) from books"
   ]
  },
  {
   "cell_type": "code",
   "execution_count": null,
   "metadata": {},
   "outputs": [],
   "source": [
    "books.sort_values(\n",
    "    by='ratings_count',\n",
    "    ascending=False\n",
    "    ).loc[: , ['title', 'ratings_count', 'average_rating']].head()"
   ]
  },
  {
   "cell_type": "markdown",
   "metadata": {},
   "source": [
    "#### ralation with ratings: only small correlations, mean rating not depend on meta-features\n"
   ]
  },
  {
   "cell_type": "code",
   "execution_count": null,
   "metadata": {},
   "outputs": [],
   "source": [
    "books_corr = books[['books_count','original_publication_year',\n",
    "                   'average_rating','ratings_count','work_ratings_count',\n",
    "                   'work_text_reviews_count',\n",
    "                   'ratings_1', 'ratings_2', 'ratings_3', 'ratings_4', 'ratings_5']].corr()"
   ]
  },
  {
   "cell_type": "code",
   "execution_count": null,
   "metadata": {},
   "outputs": [],
   "source": [
    "books_corr.style.background_gradient(cmap='coolwarm').set_precision(2)"
   ]
  },
  {
   "cell_type": "code",
   "execution_count": null,
   "metadata": {},
   "outputs": [],
   "source": [
    "mask = np.zeros_like(books_corr, dtype=bool)\n",
    "mask[np.triu_indices_from(mask)] = 1\n",
    "plt.figure(figsize=(12, 8))\n",
    "sns.heatmap(books_corr, \n",
    "#             xticklabels=books_corr.columns.values,\n",
    "#             yticklabels=books_corr.columns.values,\n",
    "            mask=mask,\n",
    "            annot=True\n",
    "           );"
   ]
  },
  {
   "cell_type": "markdown",
   "metadata": {},
   "source": [
    "- relationship between rating_count and average_rating: only 0.04, meaning even when books are popular, avg ratings doesn't get better"
   ]
  },
  {
   "cell_type": "code",
   "execution_count": null,
   "metadata": {},
   "outputs": [],
   "source": [
    "ax = sns.regplot(x='ratings_count', y='average_rating', \n",
    "            data=books,\n",
    "            line_kws={'color':'cyan'}, \n",
    "            \n",
    "           )"
   ]
  },
  {
   "cell_type": "markdown",
   "metadata": {},
   "source": [
    "- book_count -- multiple editions of each book: assume more editions, the book is more popular and better. But in fact, more editions, book has lower avg rating. reason might be due to with more editions, books go to different langauge, quality of the book and culture from different users make them lower"
   ]
  },
  {
   "cell_type": "code",
   "execution_count": 1224,
   "metadata": {},
   "outputs": [
    {
     "data": {
      "image/png": "[encoded data removed]",
      "text/plain": [
       "<Figure size 432x288 with 1 Axes>"
      ]
     },
     "metadata": {
      "needs_background": "light"
     },
     "output_type": "display_data"
    }
   ],
   "source": [
    "r2 = stats.linregress(books['books_count'], books['average_rating'])[2]\n",
    "ax = sns.regplot(x='books_count', y='average_rating', \n",
    "            data=books,\n",
    "            line_kws={'color':'cyan', 'label': r2}, \n",
    "           )\n"
   ]
  },
  {
   "cell_type": "markdown",
   "metadata": {},
   "source": [
    "- frequent raters rate lower, reason may be they are more critical when the more they read, with r2 -0.08 "
   ]
  },
  {
   "cell_type": "code",
   "execution_count": 1225,
   "metadata": {},
   "outputs": [
    {
     "name": "stdout",
     "output_type": "stream",
     "text": [
      "-0.08253402126338476\n"
     ]
    },
    {
     "data": {
      "image/png": "[encoded data removed]",
      "text/plain": [
       "<Figure size 432x288 with 1 Axes>"
      ]
     },
     "metadata": {
      "needs_background": "light"
     },
     "output_type": "display_data"
    }
   ],
   "source": [
    "r2 = stats.linregress(ratings.groupby('user_id')['user_id'].count(), ratings.groupby('user_id')['rating'].mean())[2]\n",
    "print(r2)\n",
    "ax = sns.regplot(x=ratings.groupby('user_id')['user_id'].count(),\n",
    "                 y=ratings.groupby('user_id')['rating'].mean(), \n",
    "#                 data=books,\n",
    "            line_kws={'color':'cyan'}, \n",
    "           )\n",
    "ax.set(xlabel='number of rating per user', ylabel='mean rating per user');"
   ]
  },
  {
   "cell_type": "markdown",
   "metadata": {},
   "source": [
    "#### To Read \n",
    "generate feature on books:\n",
    "- number of people wants to read the book"
   ]
  },
  {
   "cell_type": "code",
   "execution_count": 1226,
   "metadata": {},
   "outputs": [],
   "source": [
    "to_r = to_read.merge(books.title, on='book_id')"
   ]
  },
  {
   "cell_type": "code",
   "execution_count": 1227,
   "metadata": {},
   "outputs": [],
   "source": [
    "books['n_user_to_read'] = to_read.groupby('book_id').book_id.count()\n",
    "books['n_user_to_read'].fillna(0, inplace=True)"
   ]
  },
  {
   "cell_type": "code",
   "execution_count": 1228,
   "metadata": {},
   "outputs": [
    {
     "data": {
      "image/png": "[encoded data removed]",
      "text/plain": [
       "<Figure size 360x360 with 1 Axes>"
      ]
     },
     "metadata": {
      "needs_background": "light"
     },
     "output_type": "display_data"
    }
   ],
   "source": [
    "sns.displot(\n",
    "    to_read.groupby('user_id').count(),\n",
    "    x='book_id',\n",
    "    bins=115\n",
    ");"
   ]
  },
  {
   "cell_type": "code",
   "execution_count": 1229,
   "metadata": {},
   "outputs": [
    {
     "data": {
      "image/png": "[encoded data removed]",
      "text/plain": [
       "<Figure size 360x360 with 1 Axes>"
      ]
     },
     "metadata": {
      "needs_background": "light"
     },
     "output_type": "display_data"
    }
   ],
   "source": [
    "sns.displot(\n",
    "    to_r.groupby('book_id').count(),\n",
    "    x='title',\n",
    "    bins=115\n",
    ");"
   ]
  },
  {
   "cell_type": "markdown",
   "metadata": {},
   "source": [
    "## 2. Basic recommender\n",
    "\n",
    "Overal recommendations based on global rating scores and popularity. Idea is books that are more popular will have higher probability to be universally liked and hence recommend. Not personalized."
   ]
  },
  {
   "cell_type": "markdown",
   "metadata": {},
   "source": [
    "### 2.1. Top Rated books: \n",
    "- weighted rating = vR/(v+m)+mC/(v+m) from IMDB   \n",
    "v = number of rating  \n",
    "m = min ratings required  \n",
    "R = avg rating of the book  \n",
    "C = mean rating acorss all the books  "
   ]
  },
  {
   "cell_type": "code",
   "execution_count": 1230,
   "metadata": {},
   "outputs": [],
   "source": [
    "def weighted_rating(df):\n",
    "    v = df['ratings_count']\n",
    "    m = df['ratings_count'].quantile(0.95) # rating count > 95%\n",
    "    R = df['average_rating']\n",
    "    C = df['average_rating'].mean()\n",
    "    WR = (v*R + m*C) / (v + m)\n",
    "    return WR"
   ]
  },
  {
   "cell_type": "code",
   "execution_count": 1231,
   "metadata": {},
   "outputs": [],
   "source": [
    "books['weighted_rating'] = weighted_rating(books)\n",
    "top_rated_books = books.sort_values('weighted_rating', ascending=False)"
   ]
  },
  {
   "cell_type": "code",
   "execution_count": 1232,
   "metadata": {},
   "outputs": [
    {
     "data": {
      "text/html": [
       "<div>\n",
       "<style scoped>\n",
       "    .dataframe tbody tr th:only-of-type {\n",
       "        vertical-align: middle;\n",
       "    }\n",
       "\n",
       "    .dataframe tbody tr th {\n",
       "        vertical-align: top;\n",
       "    }\n",
       "\n",
       "    .dataframe thead th {\n",
       "        text-align: right;\n",
       "    }\n",
       "</style>\n",
       "<table border=\"1\" class=\"dataframe\">\n",
       "  <thead>\n",
       "    <tr style=\"text-align: right;\">\n",
       "      <th></th>\n",
       "      <th>title</th>\n",
       "      <th>authors</th>\n",
       "      <th>average_rating</th>\n",
       "      <th>weighted_rating</th>\n",
       "      <th>ratings_count</th>\n",
       "    </tr>\n",
       "    <tr>\n",
       "      <th>book_id</th>\n",
       "      <th></th>\n",
       "      <th></th>\n",
       "      <th></th>\n",
       "      <th></th>\n",
       "      <th></th>\n",
       "    </tr>\n",
       "  </thead>\n",
       "  <tbody>\n",
       "    <tr>\n",
       "      <th>25</th>\n",
       "      <td>Harry Potter and the Deathly Hallows (Harry Po...</td>\n",
       "      <td>J.K. Rowling, Mary GrandPré</td>\n",
       "      <td>4.61</td>\n",
       "      <td>4.555956</td>\n",
       "      <td>1746574</td>\n",
       "    </tr>\n",
       "    <tr>\n",
       "      <th>27</th>\n",
       "      <td>Harry Potter and the Half-Blood Prince (Harry ...</td>\n",
       "      <td>J.K. Rowling, Mary GrandPré</td>\n",
       "      <td>4.54</td>\n",
       "      <td>4.490428</td>\n",
       "      <td>1678823</td>\n",
       "    </tr>\n",
       "    <tr>\n",
       "      <th>18</th>\n",
       "      <td>Harry Potter and the Prisoner of Azkaban (Harr...</td>\n",
       "      <td>J.K. Rowling, Mary GrandPré, Rufus Beck</td>\n",
       "      <td>4.53</td>\n",
       "      <td>4.485090</td>\n",
       "      <td>1832823</td>\n",
       "    </tr>\n",
       "    <tr>\n",
       "      <th>24</th>\n",
       "      <td>Harry Potter and the Goblet of Fire (Harry Pot...</td>\n",
       "      <td>J.K. Rowling, Mary GrandPré</td>\n",
       "      <td>4.53</td>\n",
       "      <td>4.483227</td>\n",
       "      <td>1753043</td>\n",
       "    </tr>\n",
       "    <tr>\n",
       "      <th>2</th>\n",
       "      <td>Harry Potter and the Sorcerer's Stone (Harry P...</td>\n",
       "      <td>J.K. Rowling, Mary GrandPré</td>\n",
       "      <td>4.44</td>\n",
       "      <td>4.424365</td>\n",
       "      <td>4602479</td>\n",
       "    </tr>\n",
       "  </tbody>\n",
       "</table>\n",
       "</div>"
      ],
      "text/plain": [
       "                                                     title  \\\n",
       "book_id                                                      \n",
       "25       Harry Potter and the Deathly Hallows (Harry Po...   \n",
       "27       Harry Potter and the Half-Blood Prince (Harry ...   \n",
       "18       Harry Potter and the Prisoner of Azkaban (Harr...   \n",
       "24       Harry Potter and the Goblet of Fire (Harry Pot...   \n",
       "2        Harry Potter and the Sorcerer's Stone (Harry P...   \n",
       "\n",
       "                                         authors  average_rating  \\\n",
       "book_id                                                            \n",
       "25                   J.K. Rowling, Mary GrandPré            4.61   \n",
       "27                   J.K. Rowling, Mary GrandPré            4.54   \n",
       "18       J.K. Rowling, Mary GrandPré, Rufus Beck            4.53   \n",
       "24                   J.K. Rowling, Mary GrandPré            4.53   \n",
       "2                    J.K. Rowling, Mary GrandPré            4.44   \n",
       "\n",
       "         weighted_rating  ratings_count  \n",
       "book_id                                  \n",
       "25              4.555956        1746574  \n",
       "27              4.490428        1678823  \n",
       "18              4.485090        1832823  \n",
       "24              4.483227        1753043  \n",
       "2               4.424365        4602479  "
      ]
     },
     "execution_count": 1232,
     "metadata": {},
     "output_type": "execute_result"
    }
   ],
   "source": [
    "top_rated_books[['title', 'authors', 'average_rating', 'weighted_rating', 'ratings_count']].head()"
   ]
  },
  {
   "cell_type": "markdown",
   "metadata": {},
   "source": [
    "### 2.2. Top Popular Books:"
   ]
  },
  {
   "cell_type": "code",
   "execution_count": 1233,
   "metadata": {},
   "outputs": [
    {
     "data": {
      "text/html": [
       "<div>\n",
       "<style scoped>\n",
       "    .dataframe tbody tr th:only-of-type {\n",
       "        vertical-align: middle;\n",
       "    }\n",
       "\n",
       "    .dataframe tbody tr th {\n",
       "        vertical-align: top;\n",
       "    }\n",
       "\n",
       "    .dataframe thead th {\n",
       "        text-align: right;\n",
       "    }\n",
       "</style>\n",
       "<table border=\"1\" class=\"dataframe\">\n",
       "  <thead>\n",
       "    <tr style=\"text-align: right;\">\n",
       "      <th></th>\n",
       "      <th>title</th>\n",
       "      <th>authors</th>\n",
       "      <th>average_rating</th>\n",
       "      <th>ratings_count</th>\n",
       "    </tr>\n",
       "    <tr>\n",
       "      <th>book_id</th>\n",
       "      <th></th>\n",
       "      <th></th>\n",
       "      <th></th>\n",
       "      <th></th>\n",
       "    </tr>\n",
       "  </thead>\n",
       "  <tbody>\n",
       "    <tr>\n",
       "      <th>1</th>\n",
       "      <td>The Hunger Games (The Hunger Games, #1)</td>\n",
       "      <td>Suzanne Collins</td>\n",
       "      <td>4.34</td>\n",
       "      <td>4780653</td>\n",
       "    </tr>\n",
       "    <tr>\n",
       "      <th>2</th>\n",
       "      <td>Harry Potter and the Sorcerer's Stone (Harry P...</td>\n",
       "      <td>J.K. Rowling, Mary GrandPré</td>\n",
       "      <td>4.44</td>\n",
       "      <td>4602479</td>\n",
       "    </tr>\n",
       "    <tr>\n",
       "      <th>3</th>\n",
       "      <td>Twilight (Twilight, #1)</td>\n",
       "      <td>Stephenie Meyer</td>\n",
       "      <td>3.57</td>\n",
       "      <td>3866839</td>\n",
       "    </tr>\n",
       "    <tr>\n",
       "      <th>4</th>\n",
       "      <td>To Kill a Mockingbird</td>\n",
       "      <td>Harper Lee</td>\n",
       "      <td>4.25</td>\n",
       "      <td>3198671</td>\n",
       "    </tr>\n",
       "    <tr>\n",
       "      <th>5</th>\n",
       "      <td>The Great Gatsby</td>\n",
       "      <td>F. Scott Fitzgerald</td>\n",
       "      <td>3.89</td>\n",
       "      <td>2683664</td>\n",
       "    </tr>\n",
       "  </tbody>\n",
       "</table>\n",
       "</div>"
      ],
      "text/plain": [
       "                                                     title  \\\n",
       "book_id                                                      \n",
       "1                  The Hunger Games (The Hunger Games, #1)   \n",
       "2        Harry Potter and the Sorcerer's Stone (Harry P...   \n",
       "3                                  Twilight (Twilight, #1)   \n",
       "4                                    To Kill a Mockingbird   \n",
       "5                                         The Great Gatsby   \n",
       "\n",
       "                             authors  average_rating  ratings_count  \n",
       "book_id                                                              \n",
       "1                    Suzanne Collins            4.34        4780653  \n",
       "2        J.K. Rowling, Mary GrandPré            4.44        4602479  \n",
       "3                    Stephenie Meyer            3.57        3866839  \n",
       "4                         Harper Lee            4.25        3198671  \n",
       "5                F. Scott Fitzgerald            3.89        2683664  "
      ]
     },
     "execution_count": 1233,
     "metadata": {},
     "output_type": "execute_result"
    }
   ],
   "source": [
    "top_popular_books = books.sort_values('ratings_count', ascending=False)\n",
    "top_popular_books[['title', 'authors', 'average_rating', 'ratings_count']].head()"
   ]
  },
  {
   "cell_type": "markdown",
   "metadata": {},
   "source": [
    "### 2.3. Top Genres Books:"
   ]
  },
  {
   "cell_type": "code",
   "execution_count": 1234,
   "metadata": {},
   "outputs": [],
   "source": [
    "genres_built_in = built_in_book_tags.merge(built_in_tags, on='tag_id')"
   ]
  },
  {
   "cell_type": "code",
   "execution_count": 1235,
   "metadata": {},
   "outputs": [],
   "source": [
    "def weighted_rating(df):\n",
    "    v = df['ratings_count']\n",
    "    m = df['ratings_count'].quantile(0.95) # rating count > 95%\n",
    "    R = df['average_rating']\n",
    "    C = df['average_rating'].mean()\n",
    "    WR = (v*R + m*C) / (v + m)\n",
    "    return WR"
   ]
  },
  {
   "cell_type": "code",
   "execution_count": 1236,
   "metadata": {},
   "outputs": [
    {
     "data": {
      "text/html": [
       "<div>\n",
       "<style scoped>\n",
       "    .dataframe tbody tr th:only-of-type {\n",
       "        vertical-align: middle;\n",
       "    }\n",
       "\n",
       "    .dataframe tbody tr th {\n",
       "        vertical-align: top;\n",
       "    }\n",
       "\n",
       "    .dataframe thead th {\n",
       "        text-align: right;\n",
       "    }\n",
       "</style>\n",
       "<table border=\"1\" class=\"dataframe\">\n",
       "  <thead>\n",
       "    <tr style=\"text-align: right;\">\n",
       "      <th></th>\n",
       "      <th>tag_name</th>\n",
       "      <th>book_id</th>\n",
       "      <th>title</th>\n",
       "      <th>authors</th>\n",
       "      <th>average_rating</th>\n",
       "      <th>weighted_rating</th>\n",
       "      <th>ratings_count</th>\n",
       "    </tr>\n",
       "  </thead>\n",
       "  <tbody>\n",
       "    <tr>\n",
       "      <th>147</th>\n",
       "      <td>mystery</td>\n",
       "      <td>25</td>\n",
       "      <td>Harry Potter and the Deathly Hallows (Harry Po...</td>\n",
       "      <td>J.K. Rowling, Mary GrandPré</td>\n",
       "      <td>4.61</td>\n",
       "      <td>4.559742</td>\n",
       "      <td>1746574</td>\n",
       "    </tr>\n",
       "    <tr>\n",
       "      <th>146</th>\n",
       "      <td>paranormal</td>\n",
       "      <td>25</td>\n",
       "      <td>Harry Potter and the Deathly Hallows (Harry Po...</td>\n",
       "      <td>J.K. Rowling, Mary GrandPré</td>\n",
       "      <td>4.61</td>\n",
       "      <td>4.554666</td>\n",
       "      <td>1746574</td>\n",
       "    </tr>\n",
       "    <tr>\n",
       "      <th>144</th>\n",
       "      <td>fiction</td>\n",
       "      <td>25</td>\n",
       "      <td>Harry Potter and the Deathly Hallows (Harry Po...</td>\n",
       "      <td>J.K. Rowling, Mary GrandPré</td>\n",
       "      <td>4.61</td>\n",
       "      <td>4.553385</td>\n",
       "      <td>1746574</td>\n",
       "    </tr>\n",
       "    <tr>\n",
       "      <th>143</th>\n",
       "      <td>fantasy</td>\n",
       "      <td>25</td>\n",
       "      <td>Harry Potter and the Deathly Hallows (Harry Po...</td>\n",
       "      <td>J.K. Rowling, Mary GrandPré</td>\n",
       "      <td>4.61</td>\n",
       "      <td>4.553351</td>\n",
       "      <td>1746574</td>\n",
       "    </tr>\n",
       "    <tr>\n",
       "      <th>148</th>\n",
       "      <td>romance</td>\n",
       "      <td>25</td>\n",
       "      <td>Harry Potter and the Deathly Hallows (Harry Po...</td>\n",
       "      <td>J.K. Rowling, Mary GrandPré</td>\n",
       "      <td>4.61</td>\n",
       "      <td>4.551600</td>\n",
       "      <td>1746574</td>\n",
       "    </tr>\n",
       "  </tbody>\n",
       "</table>\n",
       "</div>"
      ],
      "text/plain": [
       "       tag_name  book_id                                              title  \\\n",
       "147     mystery       25  Harry Potter and the Deathly Hallows (Harry Po...   \n",
       "146  paranormal       25  Harry Potter and the Deathly Hallows (Harry Po...   \n",
       "144     fiction       25  Harry Potter and the Deathly Hallows (Harry Po...   \n",
       "143     fantasy       25  Harry Potter and the Deathly Hallows (Harry Po...   \n",
       "148     romance       25  Harry Potter and the Deathly Hallows (Harry Po...   \n",
       "\n",
       "                         authors  average_rating  weighted_rating  \\\n",
       "147  J.K. Rowling, Mary GrandPré            4.61         4.559742   \n",
       "146  J.K. Rowling, Mary GrandPré            4.61         4.554666   \n",
       "144  J.K. Rowling, Mary GrandPré            4.61         4.553385   \n",
       "143  J.K. Rowling, Mary GrandPré            4.61         4.553351   \n",
       "148  J.K. Rowling, Mary GrandPré            4.61         4.551600   \n",
       "\n",
       "     ratings_count  \n",
       "147        1746574  \n",
       "146        1746574  \n",
       "144        1746574  \n",
       "143        1746574  \n",
       "148        1746574  "
      ]
     },
     "execution_count": 1236,
     "metadata": {},
     "output_type": "execute_result"
    }
   ],
   "source": [
    "books_genres = books.reset_index().merge(genres_built_in, on='goodreads_book_id')\\\n",
    "[['book_id', 'title', 'authors', 'tag_name', 'count', 'average_rating', 'ratings_count']]\n",
    "books_genres.rename(columns={'count': 'tag_count'}, inplace=True)\n",
    "books_genres['weighted_rating'] = books_genres.groupby('tag_name').apply(lambda x: weighted_rating(x)).reset_index([0])[0]\n",
    "top_rated_books_genres = books_genres.sort_values('weighted_rating', ascending=False)\n",
    "top_rated_books_genres[['tag_name', 'book_id', 'title', 'authors', 'average_rating',\\\n",
    "                  'weighted_rating', 'ratings_count']].head()"
   ]
  },
  {
   "cell_type": "markdown",
   "metadata": {},
   "source": [
    "- example"
   ]
  },
  {
   "cell_type": "code",
   "execution_count": 1237,
   "metadata": {},
   "outputs": [
    {
     "data": {
      "text/html": [
       "<div>\n",
       "<style scoped>\n",
       "    .dataframe tbody tr th:only-of-type {\n",
       "        vertical-align: middle;\n",
       "    }\n",
       "\n",
       "    .dataframe tbody tr th {\n",
       "        vertical-align: top;\n",
       "    }\n",
       "\n",
       "    .dataframe thead th {\n",
       "        text-align: right;\n",
       "    }\n",
       "</style>\n",
       "<table border=\"1\" class=\"dataframe\">\n",
       "  <thead>\n",
       "    <tr style=\"text-align: right;\">\n",
       "      <th></th>\n",
       "      <th>book_id</th>\n",
       "      <th>title</th>\n",
       "      <th>authors</th>\n",
       "      <th>tag_name</th>\n",
       "      <th>tag_count</th>\n",
       "      <th>average_rating</th>\n",
       "      <th>ratings_count</th>\n",
       "      <th>weighted_rating</th>\n",
       "    </tr>\n",
       "  </thead>\n",
       "  <tbody>\n",
       "    <tr>\n",
       "      <th>144</th>\n",
       "      <td>25</td>\n",
       "      <td>Harry Potter and the Deathly Hallows (Harry Po...</td>\n",
       "      <td>J.K. Rowling, Mary GrandPré</td>\n",
       "      <td>fiction</td>\n",
       "      <td>10012</td>\n",
       "      <td>4.61</td>\n",
       "      <td>1746574</td>\n",
       "      <td>4.553385</td>\n",
       "    </tr>\n",
       "    <tr>\n",
       "      <th>163</th>\n",
       "      <td>27</td>\n",
       "      <td>Harry Potter and the Half-Blood Prince (Harry ...</td>\n",
       "      <td>J.K. Rowling, Mary GrandPré</td>\n",
       "      <td>fiction</td>\n",
       "      <td>9954</td>\n",
       "      <td>4.54</td>\n",
       "      <td>1678823</td>\n",
       "      <td>4.488034</td>\n",
       "    </tr>\n",
       "    <tr>\n",
       "      <th>99</th>\n",
       "      <td>18</td>\n",
       "      <td>Harry Potter and the Prisoner of Azkaban (Harr...</td>\n",
       "      <td>J.K. Rowling, Mary GrandPré, Rufus Beck</td>\n",
       "      <td>fiction</td>\n",
       "      <td>10656</td>\n",
       "      <td>4.53</td>\n",
       "      <td>1832823</td>\n",
       "      <td>4.482900</td>\n",
       "    </tr>\n",
       "    <tr>\n",
       "      <th>138</th>\n",
       "      <td>24</td>\n",
       "      <td>Harry Potter and the Goblet of Fire (Harry Pot...</td>\n",
       "      <td>J.K. Rowling, Mary GrandPré</td>\n",
       "      <td>fiction</td>\n",
       "      <td>10249</td>\n",
       "      <td>4.53</td>\n",
       "      <td>1753043</td>\n",
       "      <td>4.480954</td>\n",
       "    </tr>\n",
       "    <tr>\n",
       "      <th>8</th>\n",
       "      <td>2</td>\n",
       "      <td>Harry Potter and the Sorcerer's Stone (Harry P...</td>\n",
       "      <td>J.K. Rowling, Mary GrandPré</td>\n",
       "      <td>fiction</td>\n",
       "      <td>13239</td>\n",
       "      <td>4.44</td>\n",
       "      <td>4602479</td>\n",
       "      <td>4.423541</td>\n",
       "    </tr>\n",
       "  </tbody>\n",
       "</table>\n",
       "</div>"
      ],
      "text/plain": [
       "     book_id                                              title  \\\n",
       "144       25  Harry Potter and the Deathly Hallows (Harry Po...   \n",
       "163       27  Harry Potter and the Half-Blood Prince (Harry ...   \n",
       "99        18  Harry Potter and the Prisoner of Azkaban (Harr...   \n",
       "138       24  Harry Potter and the Goblet of Fire (Harry Pot...   \n",
       "8          2  Harry Potter and the Sorcerer's Stone (Harry P...   \n",
       "\n",
       "                                     authors tag_name  tag_count  \\\n",
       "144              J.K. Rowling, Mary GrandPré  fiction      10012   \n",
       "163              J.K. Rowling, Mary GrandPré  fiction       9954   \n",
       "99   J.K. Rowling, Mary GrandPré, Rufus Beck  fiction      10656   \n",
       "138              J.K. Rowling, Mary GrandPré  fiction      10249   \n",
       "8                J.K. Rowling, Mary GrandPré  fiction      13239   \n",
       "\n",
       "     average_rating  ratings_count  weighted_rating  \n",
       "144            4.61        1746574         4.553385  \n",
       "163            4.54        1678823         4.488034  \n",
       "99             4.53        1832823         4.482900  \n",
       "138            4.53        1753043         4.480954  \n",
       "8              4.44        4602479         4.423541  "
      ]
     },
     "execution_count": 1237,
     "metadata": {},
     "output_type": "execute_result"
    }
   ],
   "source": [
    "top_rated_books_genres[top_rated_books_genres.tag_name == 'fiction'].head()"
   ]
  },
  {
   "cell_type": "markdown",
   "metadata": {},
   "source": [
    "## 3. Content-based Filtering\n",
    "- text features: title, authors, genres\n",
    "- calculate tfidf, and its cosine similarity"
   ]
  },
  {
   "cell_type": "markdown",
   "metadata": {},
   "source": [
    "- original features"
   ]
  },
  {
   "cell_type": "code",
   "execution_count": 1238,
   "metadata": {},
   "outputs": [],
   "source": [
    "# original features\n",
    "books[['books_count', 'authors', 'original_publication_year', 'original_title',\n",
    "       'title', 'language_code', 'average_rating', 'ratings_count',\n",
    "       'work_ratings_count', 'work_text_reviews_count', 'weighted_rating']]\n",
    "# some transformation\n",
    "books['authors_list'] = books['authors'].apply(lambda x: [author.lower()\\\n",
    "                                                          for author in x.split(', ')])"
   ]
  },
  {
   "cell_type": "markdown",
   "metadata": {},
   "source": [
    "- generated features:  \n",
    "- genres_list"
   ]
  },
  {
   "cell_type": "code",
   "execution_count": 1239,
   "metadata": {},
   "outputs": [],
   "source": [
    "# books['genres']\n",
    "books['genres_list'] = books_genres.groupby('book_id')['tag_name']\\\n",
    ".agg(genres_list=lambda x: [n for n in x])"
   ]
  },
  {
   "cell_type": "code",
   "execution_count": 1240,
   "metadata": {},
   "outputs": [],
   "source": [
    "# title_authors_genres (books' text feature) mix-up\n",
    "books['title_authors_genres'] = books.apply(lambda x: ' '.join([x['title'].lower()] + x['authors_list'] + x['genres_list']), axis=1)"
   ]
  },
  {
   "cell_type": "code",
   "execution_count": 1241,
   "metadata": {},
   "outputs": [],
   "source": [
    "# title_authors_genres_averagerating (books' text feature) mix-up\n",
    "books['title_authors_genres_rating'] = books.apply(lambda x: ' '.join([x['title'].lower()] + x['authors_list'] + x['genres_list'] + [str(x['average_rating'])]), axis=1)"
   ]
  },
  {
   "cell_type": "markdown",
   "metadata": {},
   "source": [
    "- tfidf"
   ]
  },
  {
   "cell_type": "code",
   "execution_count": 1242,
   "metadata": {},
   "outputs": [
    {
     "name": "stderr",
     "output_type": "stream",
     "text": [
      "<ipython-input-1242-caedacf853ba>:2: SettingWithCopyWarning: \n",
      "A value is trying to be set on a copy of a slice from a DataFrame.\n",
      "Try using .loc[row_indexer,col_indexer] = value instead\n",
      "\n",
      "See the caveats in the documentation: https://pandas.pydata.org/pandas-docs/stable/user_guide/indexing.html#returning-a-view-versus-a-copy\n",
      "  content['average_rating'] = content['average_rating'].astype(str)\n"
     ]
    }
   ],
   "source": [
    "content = books[['title', 'authors_list', 'genres_list', 'average_rating', 'title_authors_genres_rating' ]]\n",
    "content['average_rating'] = content['average_rating'].astype(str)"
   ]
  },
  {
   "cell_type": "code",
   "execution_count": 1243,
   "metadata": {},
   "outputs": [
    {
     "ename": "KeyboardInterrupt",
     "evalue": "",
     "output_type": "error",
     "traceback": [
      "\u001b[1;31m---------------------------------------------------------------------------\u001b[0m",
      "\u001b[1;31mKeyboardInterrupt\u001b[0m                         Traceback (most recent call last)",
      "\u001b[1;32m<ipython-input-1243-af91648c7113>\u001b[0m in \u001b[0;36m<module>\u001b[1;34m\u001b[0m\n\u001b[0;32m      3\u001b[0m \u001b[1;31m#Construct the required TF-IDF matrix by fitting and transforming the data\u001b[0m\u001b[1;33m\u001b[0m\u001b[1;33m\u001b[0m\u001b[1;33m\u001b[0m\u001b[0m\n\u001b[0;32m      4\u001b[0m \u001b[0mtfidf_matrix\u001b[0m \u001b[1;33m=\u001b[0m \u001b[0mtfidf\u001b[0m\u001b[1;33m.\u001b[0m\u001b[0mfit_transform\u001b[0m\u001b[1;33m(\u001b[0m\u001b[0mcontent\u001b[0m\u001b[1;33m[\u001b[0m\u001b[1;34m'title_authors_genres_rating'\u001b[0m\u001b[1;33m]\u001b[0m\u001b[1;33m)\u001b[0m\u001b[1;33m\u001b[0m\u001b[1;33m\u001b[0m\u001b[0m\n\u001b[1;32m----> 5\u001b[1;33m \u001b[0mcontent_tfidf_cos_similarity\u001b[0m \u001b[1;33m=\u001b[0m  \u001b[0mcosine_similarity\u001b[0m\u001b[1;33m(\u001b[0m\u001b[0mtfidf_matrix\u001b[0m\u001b[1;33m,\u001b[0m \u001b[0mtfidf_matrix\u001b[0m\u001b[1;33m)\u001b[0m\u001b[1;33m\u001b[0m\u001b[1;33m\u001b[0m\u001b[0m\n\u001b[0m",
      "\u001b[1;32m~\\anaconda3\\lib\\site-packages\\sklearn\\metrics\\pairwise.py\u001b[0m in \u001b[0;36mcosine_similarity\u001b[1;34m(X, Y, dense_output)\u001b[0m\n\u001b[0;32m   1185\u001b[0m     \u001b[1;32melse\u001b[0m\u001b[1;33m:\u001b[0m\u001b[1;33m\u001b[0m\u001b[1;33m\u001b[0m\u001b[0m\n\u001b[0;32m   1186\u001b[0m         \u001b[0mY_normalized\u001b[0m \u001b[1;33m=\u001b[0m \u001b[0mnormalize\u001b[0m\u001b[1;33m(\u001b[0m\u001b[0mY\u001b[0m\u001b[1;33m,\u001b[0m \u001b[0mcopy\u001b[0m\u001b[1;33m=\u001b[0m\u001b[1;32mTrue\u001b[0m\u001b[1;33m)\u001b[0m\u001b[1;33m\u001b[0m\u001b[1;33m\u001b[0m\u001b[0m\n\u001b[1;32m-> 1187\u001b[1;33m \u001b[1;33m\u001b[0m\u001b[0m\n\u001b[0m\u001b[0;32m   1188\u001b[0m     K = safe_sparse_dot(X_normalized, Y_normalized.T,\n\u001b[0;32m   1189\u001b[0m                         dense_output=dense_output)\n",
      "\u001b[1;32m~\\anaconda3\\lib\\site-packages\\sklearn\\utils\\validation.py\u001b[0m in \u001b[0;36minner_f\u001b[1;34m(*args, **kwargs)\u001b[0m\n\u001b[0;32m     70\u001b[0m             warnings.warn(f\"Pass {args_msg} as keyword args. From version \"\n\u001b[0;32m     71\u001b[0m                           \u001b[1;34mf\"{version} passing these as positional arguments \"\u001b[0m\u001b[1;33m\u001b[0m\u001b[1;33m\u001b[0m\u001b[0m\n\u001b[1;32m---> 72\u001b[1;33m                           \"will result in an error\", FutureWarning)\n\u001b[0m\u001b[0;32m     73\u001b[0m             \u001b[0mkwargs\u001b[0m\u001b[1;33m.\u001b[0m\u001b[0mupdate\u001b[0m\u001b[1;33m(\u001b[0m\u001b[0mzip\u001b[0m\u001b[1;33m(\u001b[0m\u001b[0msig\u001b[0m\u001b[1;33m.\u001b[0m\u001b[0mparameters\u001b[0m\u001b[1;33m,\u001b[0m \u001b[0margs\u001b[0m\u001b[1;33m)\u001b[0m\u001b[1;33m)\u001b[0m\u001b[1;33m\u001b[0m\u001b[1;33m\u001b[0m\u001b[0m\n\u001b[0;32m     74\u001b[0m             \u001b[1;32mreturn\u001b[0m \u001b[0mf\u001b[0m\u001b[1;33m(\u001b[0m\u001b[1;33m**\u001b[0m\u001b[0mkwargs\u001b[0m\u001b[1;33m)\u001b[0m\u001b[1;33m\u001b[0m\u001b[1;33m\u001b[0m\u001b[0m\n",
      "\u001b[1;32m~\\anaconda3\\lib\\site-packages\\sklearn\\utils\\extmath.py\u001b[0m in \u001b[0;36msafe_sparse_dot\u001b[1;34m(a, b, dense_output)\u001b[0m\n\u001b[0;32m    155\u001b[0m             and dense_output and hasattr(ret, \"toarray\")):\n\u001b[0;32m    156\u001b[0m         \u001b[1;32mreturn\u001b[0m \u001b[0mret\u001b[0m\u001b[1;33m.\u001b[0m\u001b[0mtoarray\u001b[0m\u001b[1;33m(\u001b[0m\u001b[1;33m)\u001b[0m\u001b[1;33m\u001b[0m\u001b[1;33m\u001b[0m\u001b[0m\n\u001b[1;32m--> 157\u001b[1;33m     \u001b[1;32mreturn\u001b[0m \u001b[0mret\u001b[0m\u001b[1;33m\u001b[0m\u001b[1;33m\u001b[0m\u001b[0m\n\u001b[0m\u001b[0;32m    158\u001b[0m \u001b[1;33m\u001b[0m\u001b[0m\n\u001b[0;32m    159\u001b[0m \u001b[1;33m\u001b[0m\u001b[0m\n",
      "\u001b[1;32m~\\anaconda3\\lib\\site-packages\\scipy\\sparse\\compressed.py\u001b[0m in \u001b[0;36mtoarray\u001b[1;34m(self, order, out)\u001b[0m\n\u001b[0;32m   1034\u001b[0m             \u001b[0my\u001b[0m \u001b[1;33m=\u001b[0m \u001b[0mout\u001b[0m\u001b[1;33m.\u001b[0m\u001b[0mT\u001b[0m\u001b[1;33m\u001b[0m\u001b[1;33m\u001b[0m\u001b[0m\n\u001b[0;32m   1035\u001b[0m         \u001b[0mM\u001b[0m\u001b[1;33m,\u001b[0m \u001b[0mN\u001b[0m \u001b[1;33m=\u001b[0m \u001b[0mx\u001b[0m\u001b[1;33m.\u001b[0m\u001b[0m_swap\u001b[0m\u001b[1;33m(\u001b[0m\u001b[0mx\u001b[0m\u001b[1;33m.\u001b[0m\u001b[0mshape\u001b[0m\u001b[1;33m)\u001b[0m\u001b[1;33m\u001b[0m\u001b[1;33m\u001b[0m\u001b[0m\n\u001b[1;32m-> 1036\u001b[1;33m         \u001b[0mcsr_todense\u001b[0m\u001b[1;33m(\u001b[0m\u001b[0mM\u001b[0m\u001b[1;33m,\u001b[0m \u001b[0mN\u001b[0m\u001b[1;33m,\u001b[0m \u001b[0mx\u001b[0m\u001b[1;33m.\u001b[0m\u001b[0mindptr\u001b[0m\u001b[1;33m,\u001b[0m \u001b[0mx\u001b[0m\u001b[1;33m.\u001b[0m\u001b[0mindices\u001b[0m\u001b[1;33m,\u001b[0m \u001b[0mx\u001b[0m\u001b[1;33m.\u001b[0m\u001b[0mdata\u001b[0m\u001b[1;33m,\u001b[0m \u001b[0my\u001b[0m\u001b[1;33m)\u001b[0m\u001b[1;33m\u001b[0m\u001b[1;33m\u001b[0m\u001b[0m\n\u001b[0m\u001b[0;32m   1037\u001b[0m         \u001b[1;32mreturn\u001b[0m \u001b[0mout\u001b[0m\u001b[1;33m\u001b[0m\u001b[1;33m\u001b[0m\u001b[0m\n\u001b[0;32m   1038\u001b[0m \u001b[1;33m\u001b[0m\u001b[0m\n",
      "\u001b[1;31mKeyboardInterrupt\u001b[0m: "
     ]
    }
   ],
   "source": [
    "tfidf = TfidfVectorizer(ngram_range=(1,2), tokenizer=word_tokenize)\n",
    "\n",
    "#Construct the required TF-IDF matrix by fitting and transforming the data\n",
    "tfidf_matrix = tfidf.fit_transform(content['title_authors_genres_rating'])\n",
    "content_tfidf_cos_similarity =  cosine_similarity(tfidf_matrix, tfidf_matrix)"
   ]
  },
  {
   "cell_type": "markdown",
   "metadata": {},
   "source": [
    "- count vectorizer"
   ]
  },
  {
   "cell_type": "code",
   "execution_count": null,
   "metadata": {},
   "outputs": [],
   "source": [
    "count = CountVectorizer(analyzer='word',ngram_range=(1, 2),min_df=0, stop_words='english')\n",
    "cnt_matrix = count.fit_transform(books['title_authors_genres'])\n",
    "content_cnt_cos_similarity = cosine_similarity(cnt_matrix, cnt_matrix)\n",
    "title_idx = pd.Series(books.index, index=books['title'].str.lower())\n",
    "idx_title = books['title'].str.lower()"
   ]
  },
  {
   "cell_type": "code",
   "execution_count": null,
   "metadata": {},
   "outputs": [],
   "source": [
    "def book_content_recommendation_cos(title, books=books,books_similarity=content_tfidf_cos_similarity, n=10, a=3):\n",
    "    \"\"\"\n",
    "    input: title -> books name in the books dataset\n",
    "            n -> number of books to recommend based on content\n",
    "    output: list of books to recommend\n",
    "    \"\"\"\n",
    "    idx = title_idx[title.lower()]\n",
    "    similarities = list(enumerate(books_similarity[idx]))\n",
    "    top_similarities = sorted(similarities, key=lambda x: x[1], reverse=True)[1:a*n+1]\n",
    "    top_books_idx_candidates = [i for i, _ in top_similarities]\n",
    "    top_books_candidates = books.iloc[top_books_idx_candidates]\n",
    "    \n",
    "    v = top_books_candidates['ratings_count']\n",
    "    m = top_books_candidates['ratings_count'].quantile(0.8)\n",
    "    R = top_books_candidates['average_rating']\n",
    "    C = top_books_candidates['average_rating'].mean()\n",
    "    top_books_candidates.loc[:, 'weighted_rating'] = (R*v + C*m) / (v + m)\n",
    "    top_books = top_books_candidates.sort_values('weighted_rating',ascending=False)[:n]\n",
    "\n",
    "    return top_books[['title', 'weighted_rating', 'ratings_count']]"
   ]
  },
  {
   "cell_type": "code",
   "execution_count": null,
   "metadata": {},
   "outputs": [],
   "source": [
    "book_content_recommendation_cos('harry potter and the chamber of secrets (harry potter, #2)', books_similarity=tfidf_cos_similarity, n=10)"
   ]
  },
  {
   "cell_type": "markdown",
   "metadata": {},
   "source": [
    "## 4. Collaborative  Filtering "
   ]
  },
  {
   "cell_type": "code",
   "execution_count": 69,
   "metadata": {
    "collapsed": true,
    "jupyter": {
     "outputs_hidden": true
    }
   },
   "outputs": [
    {
     "ename": "TypeError",
     "evalue": "'str' object is not callable",
     "output_type": "error",
     "traceback": [
      "\u001b[1;31m---------------------------------------------------------------------------\u001b[0m",
      "\u001b[1;31mTypeError\u001b[0m                                 Traceback (most recent call last)",
      "\u001b[1;32m<ipython-input-69-0748b756dd0d>\u001b[0m in \u001b[0;36m<module>\u001b[1;34m\u001b[0m\n\u001b[0;32m      1\u001b[0m \u001b[1;31m# ratingmat = ratings.pivot(index='user_id', columns='book_id', values='rating')\u001b[0m\u001b[1;33m\u001b[0m\u001b[1;33m\u001b[0m\u001b[1;33m\u001b[0m\u001b[0m\n\u001b[0;32m      2\u001b[0m \u001b[0mratingmat\u001b[0m \u001b[1;33m=\u001b[0m \u001b[0mpd\u001b[0m\u001b[1;33m.\u001b[0m\u001b[0mread_csv\u001b[0m\u001b[1;33m(\u001b[0m\u001b[1;34m'rating_pivot.csv'\u001b[0m\u001b[1;33m,\u001b[0m \u001b[0mindex_col\u001b[0m\u001b[1;33m=\u001b[0m\u001b[1;36m0\u001b[0m\u001b[1;33m)\u001b[0m\u001b[1;33m\u001b[0m\u001b[1;33m\u001b[0m\u001b[0m\n\u001b[1;32m----> 3\u001b[1;33m \u001b[0mratingmat\u001b[0m\u001b[1;33m.\u001b[0m\u001b[0mcolumns\u001b[0m \u001b[1;33m=\u001b[0m \u001b[0mratingmat\u001b[0m\u001b[1;33m.\u001b[0m\u001b[0mcolumns\u001b[0m\u001b[1;33m.\u001b[0m\u001b[0mmap\u001b[0m\u001b[1;33m(\u001b[0m\u001b[1;34m'int16'\u001b[0m\u001b[1;33m)\u001b[0m\u001b[1;33m\u001b[0m\u001b[1;33m\u001b[0m\u001b[0m\n\u001b[0m\u001b[0;32m      4\u001b[0m \u001b[1;31m# ratingmat_sparse = csr_matrix(ratingmat)\u001b[0m\u001b[1;33m\u001b[0m\u001b[1;33m\u001b[0m\u001b[1;33m\u001b[0m\u001b[0m\n",
      "\u001b[1;32m~\\anaconda3\\lib\\site-packages\\pandas\\core\\indexes\\base.py\u001b[0m in \u001b[0;36mmap\u001b[1;34m(self, mapper, na_action)\u001b[0m\n\u001b[0;32m   4792\u001b[0m         \u001b[1;32mfrom\u001b[0m \u001b[0mpandas\u001b[0m\u001b[1;33m.\u001b[0m\u001b[0mcore\u001b[0m\u001b[1;33m.\u001b[0m\u001b[0mindexes\u001b[0m\u001b[1;33m.\u001b[0m\u001b[0mmulti\u001b[0m \u001b[1;32mimport\u001b[0m \u001b[0mMultiIndex\u001b[0m\u001b[1;33m\u001b[0m\u001b[1;33m\u001b[0m\u001b[0m\n\u001b[0;32m   4793\u001b[0m \u001b[1;33m\u001b[0m\u001b[0m\n\u001b[1;32m-> 4794\u001b[1;33m         \u001b[0mnew_values\u001b[0m \u001b[1;33m=\u001b[0m \u001b[0msuper\u001b[0m\u001b[1;33m(\u001b[0m\u001b[1;33m)\u001b[0m\u001b[1;33m.\u001b[0m\u001b[0m_map_values\u001b[0m\u001b[1;33m(\u001b[0m\u001b[0mmapper\u001b[0m\u001b[1;33m,\u001b[0m \u001b[0mna_action\u001b[0m\u001b[1;33m=\u001b[0m\u001b[0mna_action\u001b[0m\u001b[1;33m)\u001b[0m\u001b[1;33m\u001b[0m\u001b[1;33m\u001b[0m\u001b[0m\n\u001b[0m\u001b[0;32m   4795\u001b[0m \u001b[1;33m\u001b[0m\u001b[0m\n\u001b[0;32m   4796\u001b[0m         \u001b[0mattributes\u001b[0m \u001b[1;33m=\u001b[0m \u001b[0mself\u001b[0m\u001b[1;33m.\u001b[0m\u001b[0m_get_attributes_dict\u001b[0m\u001b[1;33m(\u001b[0m\u001b[1;33m)\u001b[0m\u001b[1;33m\u001b[0m\u001b[1;33m\u001b[0m\u001b[0m\n",
      "\u001b[1;32m~\\anaconda3\\lib\\site-packages\\pandas\\core\\base.py\u001b[0m in \u001b[0;36m_map_values\u001b[1;34m(self, mapper, na_action)\u001b[0m\n\u001b[0;32m   1158\u001b[0m \u001b[1;33m\u001b[0m\u001b[0m\n\u001b[0;32m   1159\u001b[0m         \u001b[1;31m# mapper is a function\u001b[0m\u001b[1;33m\u001b[0m\u001b[1;33m\u001b[0m\u001b[1;33m\u001b[0m\u001b[0m\n\u001b[1;32m-> 1160\u001b[1;33m         \u001b[0mnew_values\u001b[0m \u001b[1;33m=\u001b[0m \u001b[0mmap_f\u001b[0m\u001b[1;33m(\u001b[0m\u001b[0mvalues\u001b[0m\u001b[1;33m,\u001b[0m \u001b[0mmapper\u001b[0m\u001b[1;33m)\u001b[0m\u001b[1;33m\u001b[0m\u001b[1;33m\u001b[0m\u001b[0m\n\u001b[0m\u001b[0;32m   1161\u001b[0m \u001b[1;33m\u001b[0m\u001b[0m\n\u001b[0;32m   1162\u001b[0m         \u001b[1;32mreturn\u001b[0m \u001b[0mnew_values\u001b[0m\u001b[1;33m\u001b[0m\u001b[1;33m\u001b[0m\u001b[0m\n",
      "\u001b[1;32mpandas\\_libs\\lib.pyx\u001b[0m in \u001b[0;36mpandas._libs.lib.map_infer\u001b[1;34m()\u001b[0m\n",
      "\u001b[1;31mTypeError\u001b[0m: 'str' object is not callable"
     ]
    }
   ],
   "source": [
    "# ratingmat = ratings.pivot(index='user_id', columns='book_id', values='rating')\n",
    "ratingmat = pd.read_csv('rating_pivot.csv', index_col=0)\n",
    "ratingmat.columns = ratingmat.columns.map(int)\n",
    "# ratingmat_sparse = csr_matrix(ratingmat)"
   ]
  },
  {
   "cell_type": "markdown",
   "metadata": {},
   "source": [
    "### 4.1. User based"
   ]
  },
  {
   "cell_type": "markdown",
   "metadata": {},
   "source": [
    "#### 4.1.1. Matrix Factorization (SVD)"
   ]
  },
  {
   "cell_type": "code",
   "execution_count": 74,
   "metadata": {},
   "outputs": [],
   "source": [
    "reader = Reader()\n",
    "ratings_data = Dataset.load_from_df(ratings, reader)\n",
    "train = ratings_data.build_full_trainset()"
   ]
  },
  {
   "cell_type": "code",
   "execution_count": 76,
   "metadata": {},
   "outputs": [
    {
     "data": {
      "text/plain": [
       "<surprise.prediction_algorithms.matrix_factorization.SVD at 0x1f980595b80>"
      ]
     },
     "execution_count": 76,
     "metadata": {},
     "output_type": "execute_result"
    }
   ],
   "source": [
    "svd = SVD()\n",
    "# cross_validate(svd, ratings_data, n_jobs=-1)\n",
    "svd.fit(train)"
   ]
  },
  {
   "cell_type": "code",
   "execution_count": 711,
   "metadata": {},
   "outputs": [],
   "source": [
    "def svd_UB_recommendation(user_id, svd=svd, n=10):\n",
    "        \"\"\"\n",
    "    idea: input user_id, and svd model, which factorizes matrix on raingmat(# user, # items)\n",
    "          # \n",
    "          input: user_id\n",
    "                 n: number of books to recommend\n",
    "          output: list of recommended books\n",
    "    \"\"\"\n",
    "    user_df = ratings[ratings['user_id'] == user_id].merge(books.title, on='book_id', how='outer')\n",
    "    user_df.user_id = user_df.user_id.fillna(method='ffill',downcast='infer')\n",
    "    user_df = user_df[['user_id', 'book_id', 'rating']]\n",
    "    \n",
    "    train = Dataset.load_from_df(user_df, reader).build_full_trainset()\n",
    "    test = train.build_testset()\n",
    "    est_ratings = svd.test(test)\n",
    "    top_ratings = pd.DataFrame(sorted([(b, r) for (_, b, _, r, _) in est_ratings],\\\n",
    "                                      key=lambda x: x[1], reverse=True)[:n], \\\n",
    "                              columns=['book_id', 'estimate_ratings']).set_index('book_id')\n",
    "    top_books = books.merge(top_ratings, on='book_id')[['title', 'estimate_ratings']].\\\n",
    "    sort_values('estimate_ratings', ascending=False)\n",
    "    return top_books"
   ]
  },
  {
   "cell_type": "code",
   "execution_count": 712,
   "metadata": {},
   "outputs": [
    {
     "data": {
      "text/html": [
       "<div>\n",
       "<style scoped>\n",
       "    .dataframe tbody tr th:only-of-type {\n",
       "        vertical-align: middle;\n",
       "    }\n",
       "\n",
       "    .dataframe tbody tr th {\n",
       "        vertical-align: top;\n",
       "    }\n",
       "\n",
       "    .dataframe thead th {\n",
       "        text-align: right;\n",
       "    }\n",
       "</style>\n",
       "<table border=\"1\" class=\"dataframe\">\n",
       "  <thead>\n",
       "    <tr style=\"text-align: right;\">\n",
       "      <th></th>\n",
       "      <th>title</th>\n",
       "      <th>estimate_ratings</th>\n",
       "    </tr>\n",
       "    <tr>\n",
       "      <th>book_id</th>\n",
       "      <th></th>\n",
       "      <th></th>\n",
       "    </tr>\n",
       "  </thead>\n",
       "  <tbody>\n",
       "    <tr>\n",
       "      <th>175</th>\n",
       "      <td>The Last Olympian (Percy Jackson and the Olymp...</td>\n",
       "      <td>5.000000</td>\n",
       "    </tr>\n",
       "    <tr>\n",
       "      <th>214</th>\n",
       "      <td>The Titan's Curse (Percy Jackson and the Olymp...</td>\n",
       "      <td>4.879855</td>\n",
       "    </tr>\n",
       "    <tr>\n",
       "      <th>159</th>\n",
       "      <td>The Battle of the Labyrinth (Percy Jackson and...</td>\n",
       "      <td>4.870306</td>\n",
       "    </tr>\n",
       "    <tr>\n",
       "      <th>18</th>\n",
       "      <td>Harry Potter and the Prisoner of Azkaban (Harr...</td>\n",
       "      <td>4.852002</td>\n",
       "    </tr>\n",
       "    <tr>\n",
       "      <th>2</th>\n",
       "      <td>Harry Potter and the Sorcerer's Stone (Harry P...</td>\n",
       "      <td>4.821289</td>\n",
       "    </tr>\n",
       "    <tr>\n",
       "      <th>422</th>\n",
       "      <td>Harry Potter Boxset (Harry Potter, #1-7)</td>\n",
       "      <td>4.816757</td>\n",
       "    </tr>\n",
       "    <tr>\n",
       "      <th>25</th>\n",
       "      <td>Harry Potter and the Deathly Hallows (Harry Po...</td>\n",
       "      <td>4.802925</td>\n",
       "    </tr>\n",
       "    <tr>\n",
       "      <th>24</th>\n",
       "      <td>Harry Potter and the Goblet of Fire (Harry Pot...</td>\n",
       "      <td>4.788394</td>\n",
       "    </tr>\n",
       "    <tr>\n",
       "      <th>4868</th>\n",
       "      <td>Jesus the Christ</td>\n",
       "      <td>4.786284</td>\n",
       "    </tr>\n",
       "    <tr>\n",
       "      <th>151</th>\n",
       "      <td>The Sea of Monsters (Percy Jackson and the Oly...</td>\n",
       "      <td>4.782984</td>\n",
       "    </tr>\n",
       "  </tbody>\n",
       "</table>\n",
       "</div>"
      ],
      "text/plain": [
       "                                                     title  estimate_ratings\n",
       "book_id                                                                     \n",
       "175      The Last Olympian (Percy Jackson and the Olymp...          5.000000\n",
       "214      The Titan's Curse (Percy Jackson and the Olymp...          4.879855\n",
       "159      The Battle of the Labyrinth (Percy Jackson and...          4.870306\n",
       "18       Harry Potter and the Prisoner of Azkaban (Harr...          4.852002\n",
       "2        Harry Potter and the Sorcerer's Stone (Harry P...          4.821289\n",
       "422               Harry Potter Boxset (Harry Potter, #1-7)          4.816757\n",
       "25       Harry Potter and the Deathly Hallows (Harry Po...          4.802925\n",
       "24       Harry Potter and the Goblet of Fire (Harry Pot...          4.788394\n",
       "4868                                      Jesus the Christ          4.786284\n",
       "151      The Sea of Monsters (Percy Jackson and the Oly...          4.782984"
      ]
     },
     "execution_count": 712,
     "metadata": {},
     "output_type": "execute_result"
    }
   ],
   "source": [
    "svd_UB_recommendation(12222)"
   ]
  },
  {
   "cell_type": "markdown",
   "metadata": {},
   "source": [
    "### 4.2. Item Based"
   ]
  },
  {
   "cell_type": "markdown",
   "metadata": {},
   "source": [
    "#### 4.2.1. KNN based on pearson corrlation for books"
   ]
  },
  {
   "cell_type": "code",
   "execution_count": 43,
   "metadata": {},
   "outputs": [],
   "source": [
    "# pearson_corr = ratingmat.corr()\n",
    "pearson_corr = pd.read_csv('book_pearson_corr.csv', index_col=0)\n",
    "pearson_corr.columns = pearson_corr.columns.map(int)"
   ]
  },
  {
   "cell_type": "code",
   "execution_count": 44,
   "metadata": {},
   "outputs": [
    {
     "data": {
      "text/html": [
       "<div>\n",
       "<style scoped>\n",
       "    .dataframe tbody tr th:only-of-type {\n",
       "        vertical-align: middle;\n",
       "    }\n",
       "\n",
       "    .dataframe tbody tr th {\n",
       "        vertical-align: top;\n",
       "    }\n",
       "\n",
       "    .dataframe thead th {\n",
       "        text-align: right;\n",
       "    }\n",
       "</style>\n",
       "<table border=\"1\" class=\"dataframe\">\n",
       "  <thead>\n",
       "    <tr style=\"text-align: right;\">\n",
       "      <th></th>\n",
       "      <th>1</th>\n",
       "      <th>2</th>\n",
       "      <th>3</th>\n",
       "      <th>4</th>\n",
       "      <th>5</th>\n",
       "      <th>6</th>\n",
       "      <th>7</th>\n",
       "      <th>8</th>\n",
       "      <th>9</th>\n",
       "      <th>10</th>\n",
       "      <th>...</th>\n",
       "      <th>9991</th>\n",
       "      <th>9992</th>\n",
       "      <th>9993</th>\n",
       "      <th>9994</th>\n",
       "      <th>9995</th>\n",
       "      <th>9996</th>\n",
       "      <th>9997</th>\n",
       "      <th>9998</th>\n",
       "      <th>9999</th>\n",
       "      <th>10000</th>\n",
       "    </tr>\n",
       "    <tr>\n",
       "      <th>user_id</th>\n",
       "      <th></th>\n",
       "      <th></th>\n",
       "      <th></th>\n",
       "      <th></th>\n",
       "      <th></th>\n",
       "      <th></th>\n",
       "      <th></th>\n",
       "      <th></th>\n",
       "      <th></th>\n",
       "      <th></th>\n",
       "      <th></th>\n",
       "      <th></th>\n",
       "      <th></th>\n",
       "      <th></th>\n",
       "      <th></th>\n",
       "      <th></th>\n",
       "      <th></th>\n",
       "      <th></th>\n",
       "      <th></th>\n",
       "      <th></th>\n",
       "      <th></th>\n",
       "    </tr>\n",
       "  </thead>\n",
       "  <tbody>\n",
       "    <tr>\n",
       "      <th>1</th>\n",
       "      <td>0.0</td>\n",
       "      <td>0.0</td>\n",
       "      <td>0.0</td>\n",
       "      <td>5.0</td>\n",
       "      <td>0.0</td>\n",
       "      <td>0.0</td>\n",
       "      <td>0.0</td>\n",
       "      <td>0.0</td>\n",
       "      <td>0.0</td>\n",
       "      <td>4.0</td>\n",
       "      <td>...</td>\n",
       "      <td>0.0</td>\n",
       "      <td>0.0</td>\n",
       "      <td>0.0</td>\n",
       "      <td>0.0</td>\n",
       "      <td>0.0</td>\n",
       "      <td>0.0</td>\n",
       "      <td>0.0</td>\n",
       "      <td>0.0</td>\n",
       "      <td>0.0</td>\n",
       "      <td>0.0</td>\n",
       "    </tr>\n",
       "    <tr>\n",
       "      <th>2</th>\n",
       "      <td>0.0</td>\n",
       "      <td>5.0</td>\n",
       "      <td>0.0</td>\n",
       "      <td>0.0</td>\n",
       "      <td>5.0</td>\n",
       "      <td>0.0</td>\n",
       "      <td>0.0</td>\n",
       "      <td>4.0</td>\n",
       "      <td>0.0</td>\n",
       "      <td>5.0</td>\n",
       "      <td>...</td>\n",
       "      <td>0.0</td>\n",
       "      <td>0.0</td>\n",
       "      <td>0.0</td>\n",
       "      <td>0.0</td>\n",
       "      <td>0.0</td>\n",
       "      <td>0.0</td>\n",
       "      <td>0.0</td>\n",
       "      <td>0.0</td>\n",
       "      <td>0.0</td>\n",
       "      <td>0.0</td>\n",
       "    </tr>\n",
       "    <tr>\n",
       "      <th>3</th>\n",
       "      <td>0.0</td>\n",
       "      <td>0.0</td>\n",
       "      <td>0.0</td>\n",
       "      <td>3.0</td>\n",
       "      <td>0.0</td>\n",
       "      <td>0.0</td>\n",
       "      <td>0.0</td>\n",
       "      <td>0.0</td>\n",
       "      <td>0.0</td>\n",
       "      <td>0.0</td>\n",
       "      <td>...</td>\n",
       "      <td>0.0</td>\n",
       "      <td>0.0</td>\n",
       "      <td>0.0</td>\n",
       "      <td>0.0</td>\n",
       "      <td>0.0</td>\n",
       "      <td>0.0</td>\n",
       "      <td>0.0</td>\n",
       "      <td>0.0</td>\n",
       "      <td>0.0</td>\n",
       "      <td>0.0</td>\n",
       "    </tr>\n",
       "    <tr>\n",
       "      <th>4</th>\n",
       "      <td>0.0</td>\n",
       "      <td>5.0</td>\n",
       "      <td>0.0</td>\n",
       "      <td>4.0</td>\n",
       "      <td>4.0</td>\n",
       "      <td>0.0</td>\n",
       "      <td>4.0</td>\n",
       "      <td>4.0</td>\n",
       "      <td>0.0</td>\n",
       "      <td>5.0</td>\n",
       "      <td>...</td>\n",
       "      <td>0.0</td>\n",
       "      <td>0.0</td>\n",
       "      <td>0.0</td>\n",
       "      <td>0.0</td>\n",
       "      <td>0.0</td>\n",
       "      <td>0.0</td>\n",
       "      <td>0.0</td>\n",
       "      <td>0.0</td>\n",
       "      <td>0.0</td>\n",
       "      <td>0.0</td>\n",
       "    </tr>\n",
       "    <tr>\n",
       "      <th>5</th>\n",
       "      <td>0.0</td>\n",
       "      <td>0.0</td>\n",
       "      <td>0.0</td>\n",
       "      <td>0.0</td>\n",
       "      <td>0.0</td>\n",
       "      <td>4.0</td>\n",
       "      <td>0.0</td>\n",
       "      <td>0.0</td>\n",
       "      <td>0.0</td>\n",
       "      <td>0.0</td>\n",
       "      <td>...</td>\n",
       "      <td>0.0</td>\n",
       "      <td>0.0</td>\n",
       "      <td>0.0</td>\n",
       "      <td>0.0</td>\n",
       "      <td>0.0</td>\n",
       "      <td>0.0</td>\n",
       "      <td>0.0</td>\n",
       "      <td>0.0</td>\n",
       "      <td>0.0</td>\n",
       "      <td>0.0</td>\n",
       "    </tr>\n",
       "  </tbody>\n",
       "</table>\n",
       "<p>5 rows × 10000 columns</p>\n",
       "</div>"
      ],
      "text/plain": [
       "         1      2      3      4      5      6      7      8      9      10     \\\n",
       "user_id                                                                         \n",
       "1          0.0    0.0    0.0    5.0    0.0    0.0    0.0    0.0    0.0    4.0   \n",
       "2          0.0    5.0    0.0    0.0    5.0    0.0    0.0    4.0    0.0    5.0   \n",
       "3          0.0    0.0    0.0    3.0    0.0    0.0    0.0    0.0    0.0    0.0   \n",
       "4          0.0    5.0    0.0    4.0    4.0    0.0    4.0    4.0    0.0    5.0   \n",
       "5          0.0    0.0    0.0    0.0    0.0    4.0    0.0    0.0    0.0    0.0   \n",
       "\n",
       "         ...  9991   9992   9993   9994   9995   9996   9997   9998   9999   \\\n",
       "user_id  ...                                                                  \n",
       "1        ...    0.0    0.0    0.0    0.0    0.0    0.0    0.0    0.0    0.0   \n",
       "2        ...    0.0    0.0    0.0    0.0    0.0    0.0    0.0    0.0    0.0   \n",
       "3        ...    0.0    0.0    0.0    0.0    0.0    0.0    0.0    0.0    0.0   \n",
       "4        ...    0.0    0.0    0.0    0.0    0.0    0.0    0.0    0.0    0.0   \n",
       "5        ...    0.0    0.0    0.0    0.0    0.0    0.0    0.0    0.0    0.0   \n",
       "\n",
       "         10000  \n",
       "user_id         \n",
       "1          0.0  \n",
       "2          0.0  \n",
       "3          0.0  \n",
       "4          0.0  \n",
       "5          0.0  \n",
       "\n",
       "[5 rows x 10000 columns]"
      ]
     },
     "execution_count": 44,
     "metadata": {},
     "output_type": "execute_result"
    }
   ],
   "source": [
    "r = ratingmat.fillna(0)\n",
    "r.head()"
   ]
  },
  {
   "cell_type": "code",
   "execution_count": 45,
   "metadata": {},
   "outputs": [],
   "source": [
    "def knn_IB_recommendation_corr(user_id, ratingmat=r.T, pearson_corr=pearson_corr, n=10, thresh=0.85):\n",
    "    \"\"\"\n",
    "    idea: input item-based similarity (pearson correlationo) and user_id,\n",
    "          calculated weighted rating based on books' similarity (similiarty.dot(rating[user_id])),\n",
    "          then pick knn as the recommended books (distance is item-based weighted rating).\n",
    "          \n",
    "          input: user_id\n",
    "                 pearson_corr = dataframe of books' pearson corr \n",
    "                 n: number of books to recommend\n",
    "                 thresh: threshold on weighted rating\n",
    "          output: list of recommended books\n",
    "    \"\"\"\n",
    "    \n",
    "    R = ratingmat[user_id]\n",
    "    s = pearson_corr.fillna(0)\n",
    "    IB_weighted_rating = s.dot(R) / s.sum()\n",
    "    candidates = pd.concat([books[['title', 'ratings_count', 'average_rating', 'genres_list']], \\\n",
    "                            IB_weighted_rating.rename('wr')], axis=1, join='inner').\\\n",
    "    sort_values('wr', ascending=False)\n",
    "    \n",
    "    threshold = candidates.ratings_count.quantile(thresh)\n",
    "    candidates = candidates[candidates.ratings_count > threshold]\n",
    "\n",
    "    IB_weighted_rating = s.dot(R)\n",
    "    return candidates[candidates.ratings_count > threshold][:n]"
   ]
  },
  {
   "cell_type": "code",
   "execution_count": 46,
   "metadata": {},
   "outputs": [
    {
     "data": {
      "text/html": [
       "<div>\n",
       "<style scoped>\n",
       "    .dataframe tbody tr th:only-of-type {\n",
       "        vertical-align: middle;\n",
       "    }\n",
       "\n",
       "    .dataframe tbody tr th {\n",
       "        vertical-align: top;\n",
       "    }\n",
       "\n",
       "    .dataframe thead th {\n",
       "        text-align: right;\n",
       "    }\n",
       "</style>\n",
       "<table border=\"1\" class=\"dataframe\">\n",
       "  <thead>\n",
       "    <tr style=\"text-align: right;\">\n",
       "      <th></th>\n",
       "      <th>title</th>\n",
       "      <th>ratings_count</th>\n",
       "      <th>average_rating</th>\n",
       "      <th>genres_list</th>\n",
       "      <th>wr</th>\n",
       "    </tr>\n",
       "    <tr>\n",
       "      <th>book_id</th>\n",
       "      <th></th>\n",
       "      <th></th>\n",
       "      <th></th>\n",
       "      <th></th>\n",
       "      <th></th>\n",
       "    </tr>\n",
       "  </thead>\n",
       "  <tbody>\n",
       "    <tr>\n",
       "      <th>990</th>\n",
       "      <td>Rework</td>\n",
       "      <td>88626</td>\n",
       "      <td>3.93</td>\n",
       "      <td>[ebooks, nonfiction, business, psychology]</td>\n",
       "      <td>0.163668</td>\n",
       "    </tr>\n",
       "    <tr>\n",
       "      <th>1174</th>\n",
       "      <td>The Girls</td>\n",
       "      <td>76761</td>\n",
       "      <td>3.49</td>\n",
       "      <td>[fiction, mystery, contemporary, thriller, ebo...</td>\n",
       "      <td>0.133078</td>\n",
       "    </tr>\n",
       "    <tr>\n",
       "      <th>580</th>\n",
       "      <td>The Story of Art</td>\n",
       "      <td>164708</td>\n",
       "      <td>3.83</td>\n",
       "      <td>[classics, philosophy, history, nonfiction, art]</td>\n",
       "      <td>0.132852</td>\n",
       "    </tr>\n",
       "    <tr>\n",
       "      <th>1415</th>\n",
       "      <td>The Lean Startup: How Today's Entrepreneurs Us...</td>\n",
       "      <td>86284</td>\n",
       "      <td>4.04</td>\n",
       "      <td>[ebooks, nonfiction, business]</td>\n",
       "      <td>0.132369</td>\n",
       "    </tr>\n",
       "    <tr>\n",
       "      <th>1539</th>\n",
       "      <td>The Underground Railroad</td>\n",
       "      <td>72052</td>\n",
       "      <td>4.04</td>\n",
       "      <td>[fantasy, fiction, contemporary, ebooks, history]</td>\n",
       "      <td>0.117632</td>\n",
       "    </tr>\n",
       "    <tr>\n",
       "      <th>776</th>\n",
       "      <td>The Art Book</td>\n",
       "      <td>102746</td>\n",
       "      <td>3.79</td>\n",
       "      <td>[history, nonfiction, art]</td>\n",
       "      <td>0.117538</td>\n",
       "    </tr>\n",
       "    <tr>\n",
       "      <th>654</th>\n",
       "      <td>Freedom</td>\n",
       "      <td>119213</td>\n",
       "      <td>3.73</td>\n",
       "      <td>[fiction, contemporary, ebooks]</td>\n",
       "      <td>0.114388</td>\n",
       "    </tr>\n",
       "    <tr>\n",
       "      <th>1404</th>\n",
       "      <td>Catherine the Great: Portrait of a Woman</td>\n",
       "      <td>66591</td>\n",
       "      <td>3.91</td>\n",
       "      <td>[fiction, classics, ebooks, history, nonfictio...</td>\n",
       "      <td>0.113918</td>\n",
       "    </tr>\n",
       "    <tr>\n",
       "      <th>1129</th>\n",
       "      <td>The History of the Hobbit, Part One: Mr. Baggins</td>\n",
       "      <td>108399</td>\n",
       "      <td>3.81</td>\n",
       "      <td>[fantasy, fiction, classics, history, nonficti...</td>\n",
       "      <td>0.111389</td>\n",
       "    </tr>\n",
       "    <tr>\n",
       "      <th>930</th>\n",
       "      <td>Olive Kitteridge</td>\n",
       "      <td>85019</td>\n",
       "      <td>3.78</td>\n",
       "      <td>[fiction, contemporary, ebooks]</td>\n",
       "      <td>0.110586</td>\n",
       "    </tr>\n",
       "  </tbody>\n",
       "</table>\n",
       "</div>"
      ],
      "text/plain": [
       "                                                     title  ratings_count  \\\n",
       "book_id                                                                     \n",
       "990                                                 Rework          88626   \n",
       "1174                                             The Girls          76761   \n",
       "580                                       The Story of Art         164708   \n",
       "1415     The Lean Startup: How Today's Entrepreneurs Us...          86284   \n",
       "1539                              The Underground Railroad          72052   \n",
       "776                                           The Art Book         102746   \n",
       "654                                                Freedom         119213   \n",
       "1404              Catherine the Great: Portrait of a Woman          66591   \n",
       "1129      The History of the Hobbit, Part One: Mr. Baggins         108399   \n",
       "930                                       Olive Kitteridge          85019   \n",
       "\n",
       "         average_rating                                        genres_list  \\\n",
       "book_id                                                                      \n",
       "990                3.93         [ebooks, nonfiction, business, psychology]   \n",
       "1174               3.49  [fiction, mystery, contemporary, thriller, ebo...   \n",
       "580                3.83   [classics, philosophy, history, nonfiction, art]   \n",
       "1415               4.04                     [ebooks, nonfiction, business]   \n",
       "1539               4.04  [fantasy, fiction, contemporary, ebooks, history]   \n",
       "776                3.79                         [history, nonfiction, art]   \n",
       "654                3.73                    [fiction, contemporary, ebooks]   \n",
       "1404               3.91  [fiction, classics, ebooks, history, nonfictio...   \n",
       "1129               3.81  [fantasy, fiction, classics, history, nonficti...   \n",
       "930                3.78                    [fiction, contemporary, ebooks]   \n",
       "\n",
       "               wr  \n",
       "book_id            \n",
       "990      0.163668  \n",
       "1174     0.133078  \n",
       "580      0.132852  \n",
       "1415     0.132369  \n",
       "1539     0.117632  \n",
       "776      0.117538  \n",
       "654      0.114388  \n",
       "1404     0.113918  \n",
       "1129     0.111389  \n",
       "930      0.110586  "
      ]
     },
     "execution_count": 46,
     "metadata": {},
     "output_type": "execute_result"
    }
   ],
   "source": [
    "knn_IB_recommendation_corr(user_id=6)"
   ]
  },
  {
   "cell_type": "markdown",
   "metadata": {},
   "source": [
    "#### 4.2.2 KNN based on cosine"
   ]
  },
  {
   "cell_type": "code",
   "execution_count": 103,
   "metadata": {
    "jupyter": {
     "source_hidden": true
    }
   },
   "outputs": [],
   "source": [
    "std_ratingmat_books = ratingmat.T.transform(lambda x: x - x.mean()).fillna(0)\n",
    "std_ratingmat_books.index.rename('book_id', inplace=True)"
   ]
  },
  {
   "cell_type": "code",
   "execution_count": 108,
   "metadata": {
    "jupyter": {
     "source_hidden": true
    }
   },
   "outputs": [
    {
     "data": {
      "text/plain": [
       "NearestNeighbors(algorithm='brute', metric='cosine', n_jobs=-1, n_neighbors=20)"
      ]
     },
     "execution_count": 108,
     "metadata": {},
     "output_type": "execute_result"
    }
   ],
   "source": [
    "%%time\n",
    "knn = NearestNeighbors(metric='cosine', algorithm='brute', n_neighbors=20, n_jobs=-1)\n",
    "knn.fit(std_ratingmat_books)"
   ]
  },
  {
   "cell_type": "code",
   "execution_count": 714,
   "metadata": {
    "collapsed": true,
    "jupyter": {
     "outputs_hidden": true,
     "source_hidden": true
    }
   },
   "outputs": [
    {
     "ename": "NameError",
     "evalue": "name 'knn' is not defined",
     "output_type": "error",
     "traceback": [
      "\u001b[1;31m---------------------------------------------------------------------------\u001b[0m",
      "\u001b[1;31mNameError\u001b[0m                                 Traceback (most recent call last)",
      "\u001b[1;32m<ipython-input-714-d64feae4eb82>\u001b[0m in \u001b[0;36m<module>\u001b[1;34m\u001b[0m\n\u001b[1;32m----> 1\u001b[1;33m \u001b[1;32mdef\u001b[0m \u001b[0mknn_IB_recommendation_cos\u001b[0m\u001b[1;33m(\u001b[0m\u001b[0mtitle\u001b[0m\u001b[1;33m,\u001b[0m \u001b[0mknn\u001b[0m\u001b[1;33m=\u001b[0m\u001b[0mknn\u001b[0m\u001b[1;33m,\u001b[0m \u001b[0mdata\u001b[0m\u001b[1;33m=\u001b[0m\u001b[0mstd_ratingmat_books\u001b[0m\u001b[1;33m,\u001b[0m \u001b[0mtitle_idx\u001b[0m\u001b[1;33m=\u001b[0m\u001b[0mtitle_idx\u001b[0m\u001b[1;33m,\u001b[0m \u001b[0midx_title\u001b[0m\u001b[1;33m=\u001b[0m\u001b[0mbooks\u001b[0m\u001b[1;33m.\u001b[0m\u001b[0mtitle\u001b[0m\u001b[1;33m,\u001b[0m \u001b[0mn\u001b[0m\u001b[1;33m=\u001b[0m\u001b[1;36m10\u001b[0m\u001b[1;33m)\u001b[0m\u001b[1;33m:\u001b[0m\u001b[1;33m\u001b[0m\u001b[1;33m\u001b[0m\u001b[0m\n\u001b[0m\u001b[0;32m      2\u001b[0m     \u001b[0mknn\u001b[0m\u001b[1;33m.\u001b[0m\u001b[0mfit\u001b[0m\u001b[1;33m(\u001b[0m\u001b[0mdata\u001b[0m\u001b[1;33m)\u001b[0m\u001b[1;33m\u001b[0m\u001b[1;33m\u001b[0m\u001b[0m\n\u001b[0;32m      3\u001b[0m     \u001b[0mbook_id\u001b[0m \u001b[1;33m=\u001b[0m \u001b[0mtitle_match\u001b[0m\u001b[1;33m(\u001b[0m\u001b[0mtitle\u001b[0m\u001b[1;33m,\u001b[0m \u001b[0mtitle_idx\u001b[0m\u001b[1;33m)\u001b[0m\u001b[1;33m[\u001b[0m\u001b[1;36m0\u001b[0m\u001b[1;33m]\u001b[0m\u001b[1;33m[\u001b[0m\u001b[1;36m0\u001b[0m\u001b[1;33m]\u001b[0m\u001b[1;33m\u001b[0m\u001b[1;33m\u001b[0m\u001b[0m\n\u001b[0;32m      4\u001b[0m     \u001b[0mprint\u001b[0m\u001b[1;33m(\u001b[0m\u001b[0mbook_id\u001b[0m\u001b[1;33m,\u001b[0m \u001b[0midx_title\u001b[0m\u001b[1;33m[\u001b[0m\u001b[0mbook_id\u001b[0m\u001b[1;33m]\u001b[0m\u001b[1;33m)\u001b[0m\u001b[1;33m\u001b[0m\u001b[1;33m\u001b[0m\u001b[0m\n\u001b[0;32m      5\u001b[0m     \u001b[0msims\u001b[0m\u001b[1;33m,\u001b[0m \u001b[0mcandidates_ids\u001b[0m \u001b[1;33m=\u001b[0m \u001b[0mknn\u001b[0m\u001b[1;33m.\u001b[0m\u001b[0mkneighbors\u001b[0m\u001b[1;33m(\u001b[0m\u001b[0mdata\u001b[0m\u001b[1;33m.\u001b[0m\u001b[0mloc\u001b[0m\u001b[1;33m[\u001b[0m\u001b[0mbook_id\u001b[0m\u001b[1;33m,\u001b[0m \u001b[1;33m:\u001b[0m\u001b[1;33m]\u001b[0m\u001b[1;33m.\u001b[0m\u001b[0mvalues\u001b[0m\u001b[1;33m.\u001b[0m\u001b[0mreshape\u001b[0m\u001b[1;33m(\u001b[0m\u001b[1;36m1\u001b[0m\u001b[1;33m,\u001b[0m \u001b[1;33m-\u001b[0m\u001b[1;36m1\u001b[0m\u001b[1;33m)\u001b[0m\u001b[1;33m,\u001b[0m \u001b[0mn_neighbors\u001b[0m\u001b[1;33m=\u001b[0m\u001b[0mn\u001b[0m\u001b[1;33m+\u001b[0m\u001b[1;36m1\u001b[0m\u001b[1;33m)\u001b[0m\u001b[1;33m\u001b[0m\u001b[1;33m\u001b[0m\u001b[0m\n",
      "\u001b[1;31mNameError\u001b[0m: name 'knn' is not defined"
     ]
    }
   ],
   "source": [
    "def knn_IB_recommendation_cos(title, knn=knn, data=std_ratingmat_books, title_idx=title_idx, idx_title=books.title, n=10):\n",
    "    \"\"\"\n",
    "        idea: input pivot user-item dataframe,\n",
    "              to get similar books, run knn (distance is cos similarity),\n",
    "              -------\n",
    "              to get recommended book to user, need to be finished\n",
    "              \n",
    "          input: user_id\n",
    "                 knn: knn model\n",
    "                 data: pivot user-item dataframe\n",
    "                 title_idx: book title: book_id dataframe (mapping)\n",
    "                 idx_title: book_id: book title\n",
    "                 n: number of books to recommend\n",
    "                 \n",
    "          output: list of recommended books\n",
    "    \"\"\"\n",
    "    \n",
    "    # get similar book by cos similarity\n",
    "    knn.fit(data)\n",
    "    book_id = title_match(title, title_idx)[0][0]\n",
    "    sims, candidates_ids = knn.kneighbors(data.loc[book_id, :].values.reshape(1, -1), n_neighbors=n+1)\n",
    "    candidates_dis_ids = list(zip(sims[0], idx_title[candidates_ids[0]+1]))[1:]\n",
    "    \n",
    "    # knn below need to be finished\n",
    "    R = data[user_id]\n",
    "    s = sims.fillna(0)\n",
    "    IB_weighted_rating = s.dot(R) / s.sum()\n",
    "    # sort by weighted rating, then get books\n",
    "    return [b for _, b in candidates_dis_ids]"
   ]
  },
  {
   "cell_type": "code",
   "execution_count": 715,
   "metadata": {
    "collapsed": true,
    "jupyter": {
     "outputs_hidden": true,
     "source_hidden": true
    }
   },
   "outputs": [
    {
     "ename": "NameError",
     "evalue": "name 'knn_IB_recommendation_cos' is not defined",
     "output_type": "error",
     "traceback": [
      "\u001b[1;31m---------------------------------------------------------------------------\u001b[0m",
      "\u001b[1;31mNameError\u001b[0m                                 Traceback (most recent call last)",
      "\u001b[1;32m<ipython-input-715-0910381cc07c>\u001b[0m in \u001b[0;36m<module>\u001b[1;34m\u001b[0m\n\u001b[1;32m----> 1\u001b[1;33m \u001b[0mknn_IB_recommendation_cos\u001b[0m\u001b[1;33m(\u001b[0m\u001b[1;34m'Harry Potter and the Chamber of Secrets'\u001b[0m\u001b[1;33m)\u001b[0m\u001b[1;33m\u001b[0m\u001b[1;33m\u001b[0m\u001b[0m\n\u001b[0m",
      "\u001b[1;31mNameError\u001b[0m: name 'knn_IB_recommendation_cos' is not defined"
     ]
    }
   ],
   "source": [
    "knn_IB_recommendation_cos('Harry Potter and the Chamber of Secrets')"
   ]
  },
  {
   "cell_type": "markdown",
   "metadata": {},
   "source": [
    "## 5. Hybrid Recommendation"
   ]
  },
  {
   "cell_type": "markdown",
   "metadata": {},
   "source": [
    "### 5.1. Personal_books_recommendtaion combined content based and collaborative filtering"
   ]
  },
  {
   "cell_type": "code",
   "execution_count": 314,
   "metadata": {},
   "outputs": [],
   "source": [
    "def personal_books_recommendation(user_id, book_id=None, title='', n=10, a=0.5):\n",
    "    '''\n",
    "    idea: first filter by content based system (cos similarity of count (text features) ),\n",
    "                Second filter by Collaborative  Filtering (user based MF(SVD) ) \n",
    "                \n",
    "    input: user ID and Book ID/Title\n",
    "            a: 0-1, importance of personalized rating\n",
    "    output: similar books recommend to certain user\n",
    "\n",
    "    '''\n",
    "    \n",
    "    \n",
    "    if title:\n",
    "        book_id = title_idx[title.lower()]\n",
    "        \n",
    "    # content based filtering  \n",
    "    books_content_similarities = list(enumerate(cos_similarity[book_id-1], start=1))\n",
    "    books_content_similarities.sort(key=lambda x: x[1], reverse=True)\n",
    "    top_books_content_similarities = books_content_similarities[1:5*n+1]\n",
    "    top_books_id = [i for i, _ in top_books_content_similarities]\n",
    "    top_books_candidates = books.loc[top_books_id, ['title',  'ratings_count', 'average_rating']]\n",
    "    v = top_books_candidates['ratings_count']\n",
    "    m = top_books_candidates['ratings_count'].quantile(0.8)\n",
    "    R = top_books_candidates['average_rating']\n",
    "    C = top_books_candidates['average_rating'].mean()\n",
    "    top_books_candidates['weighted_rating'] = round((R*v + C*m) / (v + m), 2)\n",
    "    \n",
    "    # collaborative filtering (user based)\n",
    "    top_books_candidates['estimate_rating'] = top_books_candidates.index.\\\n",
    "                                                    map(lambda x: round(svd.predict(user_id, x).est, 2) )\n",
    "    top_books_candidates['final_rating'] = round( (a * top_books_candidates['estimate_rating']) + \\\n",
    "                                        ((1-a) * top_books_candidates['weighted_rating']), 2 )\n",
    "    top_books = top_books_candidates.sort_values('final_rating', ascending=False)\n",
    "    return top_books[:n]"
   ]
  },
  {
   "cell_type": "code",
   "execution_count": 315,
   "metadata": {},
   "outputs": [
    {
     "data": {
      "text/html": [
       "<div>\n",
       "<style scoped>\n",
       "    .dataframe tbody tr th:only-of-type {\n",
       "        vertical-align: middle;\n",
       "    }\n",
       "\n",
       "    .dataframe tbody tr th {\n",
       "        vertical-align: top;\n",
       "    }\n",
       "\n",
       "    .dataframe thead th {\n",
       "        text-align: right;\n",
       "    }\n",
       "</style>\n",
       "<table border=\"1\" class=\"dataframe\">\n",
       "  <thead>\n",
       "    <tr style=\"text-align: right;\">\n",
       "      <th></th>\n",
       "      <th>title</th>\n",
       "      <th>ratings_count</th>\n",
       "      <th>average_rating</th>\n",
       "      <th>weighted_rating</th>\n",
       "      <th>estimate_rating</th>\n",
       "      <th>final_rating</th>\n",
       "    </tr>\n",
       "    <tr>\n",
       "      <th>book_id</th>\n",
       "      <th></th>\n",
       "      <th></th>\n",
       "      <th></th>\n",
       "      <th></th>\n",
       "      <th></th>\n",
       "      <th></th>\n",
       "    </tr>\n",
       "  </thead>\n",
       "  <tbody>\n",
       "    <tr>\n",
       "      <th>3753</th>\n",
       "      <td>Harry Potter Collection (Harry Potter, #1-6)</td>\n",
       "      <td>24618</td>\n",
       "      <td>4.73</td>\n",
       "      <td>4.18</td>\n",
       "      <td>4.75</td>\n",
       "      <td>4.46</td>\n",
       "    </tr>\n",
       "    <tr>\n",
       "      <th>3054</th>\n",
       "      <td>Harry Potter and the Chamber of Secrets: Sheet...</td>\n",
       "      <td>29409</td>\n",
       "      <td>4.61</td>\n",
       "      <td>4.18</td>\n",
       "      <td>4.59</td>\n",
       "      <td>4.38</td>\n",
       "    </tr>\n",
       "    <tr>\n",
       "      <th>3275</th>\n",
       "      <td>Harry Potter Boxed Set, Books 1-5 (Harry Potte...</td>\n",
       "      <td>33220</td>\n",
       "      <td>4.77</td>\n",
       "      <td>4.20</td>\n",
       "      <td>4.52</td>\n",
       "      <td>4.36</td>\n",
       "    </tr>\n",
       "    <tr>\n",
       "      <th>25</th>\n",
       "      <td>Harry Potter and the Deathly Hallows (Harry Po...</td>\n",
       "      <td>1746574</td>\n",
       "      <td>4.61</td>\n",
       "      <td>4.54</td>\n",
       "      <td>4.18</td>\n",
       "      <td>4.36</td>\n",
       "    </tr>\n",
       "    <tr>\n",
       "      <th>422</th>\n",
       "      <td>Harry Potter Boxset (Harry Potter, #1-7)</td>\n",
       "      <td>190050</td>\n",
       "      <td>4.74</td>\n",
       "      <td>4.37</td>\n",
       "      <td>4.32</td>\n",
       "      <td>4.35</td>\n",
       "    </tr>\n",
       "    <tr>\n",
       "      <th>18</th>\n",
       "      <td>Harry Potter and the Prisoner of Azkaban (Harr...</td>\n",
       "      <td>1832823</td>\n",
       "      <td>4.53</td>\n",
       "      <td>4.48</td>\n",
       "      <td>4.17</td>\n",
       "      <td>4.32</td>\n",
       "    </tr>\n",
       "    <tr>\n",
       "      <th>24</th>\n",
       "      <td>Harry Potter and the Goblet of Fire (Harry Pot...</td>\n",
       "      <td>1753043</td>\n",
       "      <td>4.53</td>\n",
       "      <td>4.47</td>\n",
       "      <td>4.13</td>\n",
       "      <td>4.30</td>\n",
       "    </tr>\n",
       "    <tr>\n",
       "      <th>27</th>\n",
       "      <td>Harry Potter and the Half-Blood Prince (Harry ...</td>\n",
       "      <td>1678823</td>\n",
       "      <td>4.54</td>\n",
       "      <td>4.48</td>\n",
       "      <td>4.09</td>\n",
       "      <td>4.28</td>\n",
       "    </tr>\n",
       "    <tr>\n",
       "      <th>2101</th>\n",
       "      <td>The Harry Potter Collection 1-4 (Harry Potter,...</td>\n",
       "      <td>43929</td>\n",
       "      <td>4.66</td>\n",
       "      <td>4.20</td>\n",
       "      <td>4.30</td>\n",
       "      <td>4.25</td>\n",
       "    </tr>\n",
       "    <tr>\n",
       "      <th>21</th>\n",
       "      <td>Harry Potter and the Order of the Phoenix (Har...</td>\n",
       "      <td>1735368</td>\n",
       "      <td>4.46</td>\n",
       "      <td>4.41</td>\n",
       "      <td>3.96</td>\n",
       "      <td>4.19</td>\n",
       "    </tr>\n",
       "  </tbody>\n",
       "</table>\n",
       "</div>"
      ],
      "text/plain": [
       "                                                     title  ratings_count  \\\n",
       "book_id                                                                     \n",
       "3753          Harry Potter Collection (Harry Potter, #1-6)          24618   \n",
       "3054     Harry Potter and the Chamber of Secrets: Sheet...          29409   \n",
       "3275     Harry Potter Boxed Set, Books 1-5 (Harry Potte...          33220   \n",
       "25       Harry Potter and the Deathly Hallows (Harry Po...        1746574   \n",
       "422               Harry Potter Boxset (Harry Potter, #1-7)         190050   \n",
       "18       Harry Potter and the Prisoner of Azkaban (Harr...        1832823   \n",
       "24       Harry Potter and the Goblet of Fire (Harry Pot...        1753043   \n",
       "27       Harry Potter and the Half-Blood Prince (Harry ...        1678823   \n",
       "2101     The Harry Potter Collection 1-4 (Harry Potter,...          43929   \n",
       "21       Harry Potter and the Order of the Phoenix (Har...        1735368   \n",
       "\n",
       "         average_rating  weighted_rating  estimate_rating  final_rating  \n",
       "book_id                                                                  \n",
       "3753               4.73             4.18             4.75          4.46  \n",
       "3054               4.61             4.18             4.59          4.38  \n",
       "3275               4.77             4.20             4.52          4.36  \n",
       "25                 4.61             4.54             4.18          4.36  \n",
       "422                4.74             4.37             4.32          4.35  \n",
       "18                 4.53             4.48             4.17          4.32  \n",
       "24                 4.53             4.47             4.13          4.30  \n",
       "27                 4.54             4.48             4.09          4.28  \n",
       "2101               4.66             4.20             4.30          4.25  \n",
       "21                 4.46             4.41             3.96          4.19  "
      ]
     },
     "execution_count": 315,
     "metadata": {},
     "output_type": "execute_result"
    }
   ],
   "source": [
    "personal_books_recommendation(10, 2)"
   ]
  },
  {
   "cell_type": "markdown",
   "metadata": {},
   "source": [
    "### 5.2. Model based Filtering (target is whether user want to read the books)"
   ]
  },
  {
   "cell_type": "markdown",
   "metadata": {},
   "source": [
    "- idea: build model for each user  \n",
    "  input: user personal ratings and books content data,    \n",
    "  output: for each book, want to read or not ( 0/1)"
   ]
  },
  {
   "cell_type": "markdown",
   "metadata": {},
   "source": [
    "#### 5.2.1. preprocessing"
   ]
  },
  {
   "cell_type": "code",
   "execution_count": 53,
   "metadata": {},
   "outputs": [],
   "source": [
    "# user = to_read.merge(ratings, how='outer', on='user_id', suffixes=('_tr', '_rating'))"
   ]
  },
  {
   "cell_type": "code",
   "execution_count": 767,
   "metadata": {},
   "outputs": [],
   "source": [
    "b_cols = ['books_count', 'original_publication_year',\n",
    "           'average_rating', 'ratings_count',\n",
    "       'work_ratings_count', 'work_text_reviews_count', 'ratings_1',\n",
    "       'ratings_2', 'ratings_3', 'ratings_4', 'ratings_5', 'n_authors', \n",
    "        'years_until_now', 'title_changed',\n",
    "       'title_length', 'has_subtitle', 'is_english',\n",
    "       'n_books_in_series', 'n_user_to_read', 'weighted_rating']\n"
   ]
  },
  {
   "cell_type": "code",
   "execution_count": 1122,
   "metadata": {},
   "outputs": [],
   "source": [
    "def data_preprocess_user(user_id, data=None):\n",
    "    ordinal = OrdinalEncoder()\n",
    "    lang_ord = ordinal.fit_transform(pd.DataFrame(books['language_code'].fillna('')))\n",
    "    lang_ord = pd.DataFrame(lang_ord, columns=['language_code']).astype(int)\n",
    "    lang_ord.index += 1\n",
    "    lang_ord.index.name = 'book_id'\n",
    "\n",
    "    user_factor = svd.pu\n",
    "    user1 = user_factor[0].reshape(1, -1) # users rating/interaction factors extracted by svd\n",
    "    r1 = ratings[ratings.user_id==user_id].set_index('book_id')\n",
    "    tr1 = to_read[to_read.user_id==user_id].set_index('book_id')\n",
    "    tr1['to_read'] = 1\n",
    "    books_features = books[b_cols]\n",
    "    books_text_features = tfidf_matrix.copy() # book content extracted by tfidf\n",
    "    books_factor = svd.qi  # books rating/interaction factors extracted by svd\n",
    "    \n",
    "    \n",
    "    \n",
    "    \n",
    "    # 1. join  \n",
    "    # 2. create est rating for nan personal rating, fill nan with 0 in (to_read), \n",
    "    #    but with 1 with those rating > 0.8 quantile\n",
    "    # 3. split data to X_train, X_val, X_test (with true rating, with to_read info, \n",
    "    #    no true rating and no to_read info)\n",
    "    books_u1 = books_features.join(r1.rating, on='book_id').\\\n",
    "        join(lang_ord, on='book_id').join(tr1.to_read, on='book_id')\n",
    "    train_idx, val_idx, test_idx = \\\n",
    "                        books_u1[books_u1.rating.notna()].index, \\\n",
    "                        books_u1[books_u1.to_read.notna()].index, \\\n",
    "                        books_u1[books_u1.to_read.isna() & books_u1.rating.isna()].index\n",
    "\n",
    "    # fill na personal rating with svd est rating\n",
    "    tmp = books_u1[books_u1.rating.isna()].rating.reset_index()\n",
    "    tmp.rating = tmp.book_id.transform(lambda x: round(svd.predict(1, x).est, 3))\n",
    "    tmp = tmp.set_index('book_id')\n",
    "    books_u1.loc[books_u1.rating.isna(), 'rating'] = tmp\n",
    "\n",
    "    # fill train set na to_read = 1 by those est rating in val \n",
    "    # set (to read=1) > pre-define threshold (median)\n",
    "    threshold_to_read = books_u1[books_u1.to_read.notna()].rating.quantile(0.5)\n",
    "    tmp_idx = books_u1.loc[train_idx, 'to_read'] \\\n",
    "    [books_u1.loc[train_idx].rating > threshold_to_read].index\n",
    "    books_u1.loc[books_u1.to_read.isna(), 'to_read'] = 0\n",
    "    books_u1.loc[tmp_idx, 'to_read'] = 1\n",
    "\n",
    "    X_cols = books_u1.columns[:-1]\n",
    "    y_col = books_u1.columns[-1]\n",
    "\n",
    "    X = books_u1[X_cols]\n",
    "    y = books_u1[y_col]\n",
    "    tsvd = TruncatedSVD(100)\n",
    "    books_text_features_svd = tsvd.fit_transform(books_text_features)\n",
    "\n",
    "    books_text_features_svd_df = pd.DataFrame(books_text_features_svd).\\\n",
    "                                add_prefix('text_features_svd')\n",
    "    books_text_features_svd_df.index += 1\n",
    "    books_factor_df = pd.DataFrame(books_factor).add_prefix('books_factor')\n",
    "    books_factor_df.index += 1\n",
    "    user_factor_df = pd.DataFrame(np.repeat(user1, len(X), axis=0) )\\\n",
    "    .add_prefix('user_factor')\n",
    "    user_factor_df.index += 1\n",
    "\n",
    "    X = pd.concat((X, books_text_features_svd_df, books_factor_df, user_factor_df),axis=1)\n",
    "    X_cols = X.columns\n",
    "    X_train, X_val, X_test = X.loc[train_idx], X.loc[val_idx], X.loc[test_idx]\n",
    "    y_train, y_val, y_test = y.loc[train_idx], y.loc[val_idx], y.loc[test_idx]\n",
    "    if data is not None:\n",
    "        X_test = X.loc[data.index]\n",
    "        y_test = y.loc[data.index]\n",
    "    return [(X_train, y_train), (X_val, y_val), (X_test, y_test)]\n"
   ]
  },
  {
   "cell_type": "code",
   "execution_count": 1114,
   "metadata": {},
   "outputs": [],
   "source": [
    "(X_train, y_train), (X_val, y_val), (X_test, y_test) = data_preprocess_user(1)"
   ]
  },
  {
   "cell_type": "markdown",
   "metadata": {},
   "source": [
    "#### 5.2.2. Training using xgboost\n",
    "#### ~~(5.2.3.) parameter tuning (cross validation to tune, but given time limit, leave for future)~~"
   ]
  },
  {
   "cell_type": "code",
   "execution_count": 887,
   "metadata": {},
   "outputs": [],
   "source": [
    "xgbdt = xgb.XGBClassifier(\n",
    "    n_estimators=2000,\n",
    "    use_label_encoder=False,\n",
    "    learning_rate = 0.01,\n",
    "#     max_depth=10,\n",
    "#     objective='binary:logistic',\n",
    "    booster='gbtree',\n",
    "\n",
    "    \n",
    "    n_jobs=-1,\n",
    "    verbosity=0\n",
    "                         )"
   ]
  },
  {
   "cell_type": "code",
   "execution_count": 889,
   "metadata": {
    "collapsed": true,
    "jupyter": {
     "outputs_hidden": true
    }
   },
   "outputs": [
    {
     "data": {
      "text/html": [
       "<div>\n",
       "<style scoped>\n",
       "    .dataframe tbody tr th:only-of-type {\n",
       "        vertical-align: middle;\n",
       "    }\n",
       "\n",
       "    .dataframe tbody tr th {\n",
       "        vertical-align: top;\n",
       "    }\n",
       "\n",
       "    .dataframe thead th {\n",
       "        text-align: right;\n",
       "    }\n",
       "</style>\n",
       "<table border=\"1\" class=\"dataframe\">\n",
       "  <thead>\n",
       "    <tr style=\"text-align: right;\">\n",
       "      <th></th>\n",
       "      <th>0</th>\n",
       "    </tr>\n",
       "  </thead>\n",
       "  <tbody>\n",
       "    <tr>\n",
       "      <th>rating</th>\n",
       "      <td>0.985383</td>\n",
       "    </tr>\n",
       "    <tr>\n",
       "      <th>books_factor2</th>\n",
       "      <td>0.003740</td>\n",
       "    </tr>\n",
       "    <tr>\n",
       "      <th>books_factor53</th>\n",
       "      <td>0.003375</td>\n",
       "    </tr>\n",
       "    <tr>\n",
       "      <th>text_features_svd60</th>\n",
       "      <td>0.003319</td>\n",
       "    </tr>\n",
       "    <tr>\n",
       "      <th>ratings_1</th>\n",
       "      <td>0.001815</td>\n",
       "    </tr>\n",
       "    <tr>\n",
       "      <th>...</th>\n",
       "      <td>...</td>\n",
       "    </tr>\n",
       "    <tr>\n",
       "      <th>text_features_svd86</th>\n",
       "      <td>0.000000</td>\n",
       "    </tr>\n",
       "    <tr>\n",
       "      <th>text_features_svd85</th>\n",
       "      <td>0.000000</td>\n",
       "    </tr>\n",
       "    <tr>\n",
       "      <th>text_features_svd84</th>\n",
       "      <td>0.000000</td>\n",
       "    </tr>\n",
       "    <tr>\n",
       "      <th>text_features_svd83</th>\n",
       "      <td>0.000000</td>\n",
       "    </tr>\n",
       "    <tr>\n",
       "      <th>user_factor99</th>\n",
       "      <td>0.000000</td>\n",
       "    </tr>\n",
       "  </tbody>\n",
       "</table>\n",
       "<p>322 rows × 1 columns</p>\n",
       "</div>"
      ],
      "text/plain": [
       "                            0\n",
       "rating               0.985383\n",
       "books_factor2        0.003740\n",
       "books_factor53       0.003375\n",
       "text_features_svd60  0.003319\n",
       "ratings_1            0.001815\n",
       "...                       ...\n",
       "text_features_svd86  0.000000\n",
       "text_features_svd85  0.000000\n",
       "text_features_svd84  0.000000\n",
       "text_features_svd83  0.000000\n",
       "user_factor99        0.000000\n",
       "\n",
       "[322 rows x 1 columns]"
      ]
     },
     "execution_count": 889,
     "metadata": {},
     "output_type": "execute_result"
    }
   ],
   "source": [
    "# feature importance\n",
    "pd.DataFrame(xgbdt.feature_importances_, index=X_cols).sort_values(0, ascending=False)"
   ]
  },
  {
   "cell_type": "code",
   "execution_count": 888,
   "metadata": {
    "collapsed": true,
    "jupyter": {
     "outputs_hidden": true
    }
   },
   "outputs": [
    {
     "data": {
      "text/plain": [
       "XGBClassifier(base_score=0.5, booster='gbtree', colsample_bylevel=1,\n",
       "              colsample_bynode=1, colsample_bytree=1, gamma=0, gpu_id=-1,\n",
       "              importance_type='gain', interaction_constraints='',\n",
       "              learning_rate=0.01, max_delta_step=0, max_depth=6,\n",
       "              min_child_weight=1, missing=nan, monotone_constraints='()',\n",
       "              n_estimators=2000, n_jobs=-1, num_parallel_tree=1, random_state=0,\n",
       "              reg_alpha=0, reg_lambda=1, scale_pos_weight=1, subsample=1,\n",
       "              tree_method='exact', use_label_encoder=False,\n",
       "              validate_parameters=1, verbosity=0)"
      ]
     },
     "execution_count": 888,
     "metadata": {},
     "output_type": "execute_result"
    }
   ],
   "source": [
    "xgbdt.fit(X_train, \n",
    "          y_train,\n",
    "#           eval_set=((X_train, y_train), (X_val, y_val)),\n",
    "          \n",
    "#           eval_metric='aucpr', \n",
    "         )"
   ]
  },
  {
   "cell_type": "markdown",
   "metadata": {},
   "source": [
    "#### 5.2.4. Evaluation:  **AUC** in general, but depends\n",
    "since we recommend book from a huge list or from pre-recommend list, might come from distribution where many books are not liked by people or liked, which is imbalanced data set, accruacy should not be the metric, but should use precision, recall etc., and hence use PR AUC to get evaluate in this general case"
   ]
  },
  {
   "cell_type": "code",
   "execution_count": 1023,
   "metadata": {},
   "outputs": [],
   "source": [
    "y_pred = pd.DataFrame(xgbdt.predict(X_train), index=X_train.index).sort_values(0)\n",
    "y_true = y_train.reindex(y_pred.index)\n",
    "a = pd.concat((y_true.rename('y_ture'), y_pred.rename(columns={0: 'y_pred'}) ), axis=1)"
   ]
  },
  {
   "cell_type": "code",
   "execution_count": 1024,
   "metadata": {},
   "outputs": [
    {
     "data": {
      "text/plain": [
       "1.0"
      ]
     },
     "execution_count": 1024,
     "metadata": {},
     "output_type": "execute_result"
    }
   ],
   "source": [
    "a = precision_recall_curve(y_train, [i for _, i in(xgbdt.predict_proba(X_train))])\n",
    "auc(a[1], a[0])"
   ]
  },
  {
   "cell_type": "code",
   "execution_count": 1027,
   "metadata": {},
   "outputs": [
    {
     "data": {
      "text/plain": [
       "0.9999999999999998"
      ]
     },
     "execution_count": 1027,
     "metadata": {},
     "output_type": "execute_result"
    }
   ],
   "source": [
    "b = precision_recall_curve(y_val, [i for _, i in(xgbdt.predict_proba(X_val))])\n",
    "auc(b[1], b[0])"
   ]
  },
  {
   "cell_type": "markdown",
   "metadata": {},
   "source": [
    "#### 5.2.5. Prediction of to_read (to support recommendations), only use user1 for now"
   ]
  },
  {
   "cell_type": "code",
   "execution_count": 1028,
   "metadata": {},
   "outputs": [],
   "source": [
    "models = {}\n",
    "models[1] = xgbdt"
   ]
  },
  {
   "cell_type": "code",
   "execution_count": 1146,
   "metadata": {},
   "outputs": [],
   "source": [
    "def personal_books_recommendation_xgb(user_id=1, books=books, n=10):\n",
    "    (X_train, y_train), (X_val, y_val), (X_test, y_test) = \\\n",
    "                                data_preprocess_user(user_id, data=books)\n",
    "    model = models[user_id]\n",
    "    tops = np.concatenate((model.predict_proba(X_test), model.predict(X_test).reshape(-1, 1)), axis=1)\n",
    "    top_books = pd.DataFrame(tops, \\\n",
    "                             index=X_test.index, columns=['0','prob', 'want_to_read']).\\\n",
    "                            sort_values('prob', ascending=False)[:n]\n",
    "    return books.merge(top_books, on='book_id')[['title', 'prob', 'want_to_read']]"
   ]
  },
  {
   "cell_type": "code",
   "execution_count": 1151,
   "metadata": {},
   "outputs": [
    {
     "data": {
      "text/html": [
       "<div>\n",
       "<style scoped>\n",
       "    .dataframe tbody tr th:only-of-type {\n",
       "        vertical-align: middle;\n",
       "    }\n",
       "\n",
       "    .dataframe tbody tr th {\n",
       "        vertical-align: top;\n",
       "    }\n",
       "\n",
       "    .dataframe thead th {\n",
       "        text-align: right;\n",
       "    }\n",
       "</style>\n",
       "<table border=\"1\" class=\"dataframe\">\n",
       "  <thead>\n",
       "    <tr style=\"text-align: right;\">\n",
       "      <th></th>\n",
       "      <th>title</th>\n",
       "      <th>prob</th>\n",
       "      <th>want_to_read</th>\n",
       "    </tr>\n",
       "    <tr>\n",
       "      <th>book_id</th>\n",
       "      <th></th>\n",
       "      <th></th>\n",
       "      <th></th>\n",
       "    </tr>\n",
       "  </thead>\n",
       "  <tbody>\n",
       "    <tr>\n",
       "      <th>679</th>\n",
       "      <td>Madeline</td>\n",
       "      <td>0.984278</td>\n",
       "      <td>1.0</td>\n",
       "    </tr>\n",
       "    <tr>\n",
       "      <th>799</th>\n",
       "      <td>Watchers</td>\n",
       "      <td>0.984278</td>\n",
       "      <td>1.0</td>\n",
       "    </tr>\n",
       "    <tr>\n",
       "      <th>1464</th>\n",
       "      <td>The Complete Persepolis</td>\n",
       "      <td>0.984278</td>\n",
       "      <td>1.0</td>\n",
       "    </tr>\n",
       "    <tr>\n",
       "      <th>1466</th>\n",
       "      <td>The Agony and the Ecstasy</td>\n",
       "      <td>0.984278</td>\n",
       "      <td>1.0</td>\n",
       "    </tr>\n",
       "    <tr>\n",
       "      <th>1990</th>\n",
       "      <td>The Art of Hearing Heartbeats</td>\n",
       "      <td>0.984278</td>\n",
       "      <td>1.0</td>\n",
       "    </tr>\n",
       "  </tbody>\n",
       "</table>\n",
       "</div>"
      ],
      "text/plain": [
       "                                 title      prob  want_to_read\n",
       "book_id                                                       \n",
       "679                           Madeline  0.984278           1.0\n",
       "799                           Watchers  0.984278           1.0\n",
       "1464           The Complete Persepolis  0.984278           1.0\n",
       "1466         The Agony and the Ecstasy  0.984278           1.0\n",
       "1990     The Art of Hearing Heartbeats  0.984278           1.0"
      ]
     },
     "execution_count": 1151,
     "metadata": {},
     "output_type": "execute_result"
    }
   ],
   "source": [
    "personal_books_recommendation_xgb(user_id=1, books=books[:3400], n=5)"
   ]
  },
  {
   "cell_type": "markdown",
   "metadata": {},
   "source": [
    "## 6. Information Retrieval"
   ]
  },
  {
   "cell_type": "markdown",
   "metadata": {},
   "source": [
    "- idea:  \n",
    "  1. divide and classify query: title, author, genres, tags_diy  ------------------------------ to do (NLP task), only support title for now\n",
    "  2. calculte tfidf cos similarity between query and each dataset tfidf values (title for instance here)  \n",
    "  3. sort by similarity, and choose top matched query (e.g. title)"
   ]
  },
  {
   "cell_type": "markdown",
   "metadata": {},
   "source": [
    "- preprocess text features for classification / clustering"
   ]
  },
  {
   "cell_type": "code",
   "execution_count": 1053,
   "metadata": {},
   "outputs": [],
   "source": [
    "title = books['original_title'].fillna(books.title).str.lower().rename('title', inplace=True)\n",
    "\n",
    "authors = books['authors'].apply(lambda x:  x.lower().split(',')).explode().\\\n",
    "str.strip().drop_duplicates().reset_index(drop=True).rename('authors', inplace=True)\n",
    "\n",
    "genres = pd.Series(genres_built_in.tag_name.unique()).rename('genres', inplace=True)\n",
    "\n",
    "tags_diy = pd.Series(tags.tag_name.str.lower().unique()).\\\n",
    "map(lambda x: re.sub(r'[^\\x00-\\x7F]+', ' ', x)).\\\n",
    "replace('-', '').replace(r'^\\s*$', np.nan, regex=True).dropna().drop_duplicates().rename('tags_diy', inplace=True)\n",
    "\n",
    "docs = [title, authors, genres, tags_diy]"
   ]
  },
  {
   "cell_type": "code",
   "execution_count": 1054,
   "metadata": {},
   "outputs": [],
   "source": [
    "tfidfs = {}\n",
    "for doc in docs:\n",
    "    tfidf = TfidfVectorizer(ngram_range=(1, 2), tokenizer=word_tokenize)\n",
    "    X = tfidf.fit_transform(doc)\n",
    "    tfidfs[doc.name] = (tfidf, X)"
   ]
  },
  {
   "cell_type": "code",
   "execution_count": 1055,
   "metadata": {},
   "outputs": [],
   "source": [
    "def query_similar_items(q, doc, tfidfs=tfidfs):\n",
    "    idx = 0\n",
    "    if doc == 'title':\n",
    "        idx = 1\n",
    "        \n",
    "    q = [q]\n",
    "    tfidf, doc_vec = tfidfs[doc]\n",
    "    q_vec = tfidf.transform(q)\n",
    "    sim = pd.DataFrame(sorted(list(enumerate(cosine_similarity(q_vec, doc_vec)[0], idx)),\\\n",
    "                              key=lambda x: x[1], reverse=True), columns=['book_id', 'cos_similarity']).\\\n",
    "                              set_index('book_id')\n",
    "    return sim"
   ]
  },
  {
   "cell_type": "code",
   "execution_count": 1056,
   "metadata": {},
   "outputs": [
    {
     "data": {
      "text/html": [
       "<div>\n",
       "<style scoped>\n",
       "    .dataframe tbody tr th:only-of-type {\n",
       "        vertical-align: middle;\n",
       "    }\n",
       "\n",
       "    .dataframe tbody tr th {\n",
       "        vertical-align: top;\n",
       "    }\n",
       "\n",
       "    .dataframe thead th {\n",
       "        text-align: right;\n",
       "    }\n",
       "</style>\n",
       "<table border=\"1\" class=\"dataframe\">\n",
       "  <thead>\n",
       "    <tr style=\"text-align: right;\">\n",
       "      <th></th>\n",
       "      <th>cos_similarity</th>\n",
       "      <th>title</th>\n",
       "    </tr>\n",
       "    <tr>\n",
       "      <th>book_id</th>\n",
       "      <th></th>\n",
       "      <th></th>\n",
       "    </tr>\n",
       "  </thead>\n",
       "  <tbody>\n",
       "    <tr>\n",
       "      <th>3753</th>\n",
       "      <td>0.617575</td>\n",
       "      <td>Harry Potter Collection (Harry Potter, #1-6)</td>\n",
       "    </tr>\n",
       "    <tr>\n",
       "      <th>6141</th>\n",
       "      <td>0.518223</td>\n",
       "      <td>Harry Potter and the Order of the Phoenix (Har...</td>\n",
       "    </tr>\n",
       "    <tr>\n",
       "      <th>3275</th>\n",
       "      <td>0.510482</td>\n",
       "      <td>Harry Potter Boxed Set, Books 1-5 (Harry Potte...</td>\n",
       "    </tr>\n",
       "    <tr>\n",
       "      <th>422</th>\n",
       "      <td>0.483588</td>\n",
       "      <td>Harry Potter Boxset (Harry Potter, #1-7)</td>\n",
       "    </tr>\n",
       "    <tr>\n",
       "      <th>27</th>\n",
       "      <td>0.467086</td>\n",
       "      <td>Harry Potter and the Half-Blood Prince (Harry ...</td>\n",
       "    </tr>\n",
       "    <tr>\n",
       "      <th>...</th>\n",
       "      <td>...</td>\n",
       "      <td>...</td>\n",
       "    </tr>\n",
       "    <tr>\n",
       "      <th>9996</th>\n",
       "      <td>0.000000</td>\n",
       "      <td>Bayou Moon (The Edge, #2)</td>\n",
       "    </tr>\n",
       "    <tr>\n",
       "      <th>9997</th>\n",
       "      <td>0.000000</td>\n",
       "      <td>Means of Ascent (The Years of Lyndon Johnson, #2)</td>\n",
       "    </tr>\n",
       "    <tr>\n",
       "      <th>9998</th>\n",
       "      <td>0.000000</td>\n",
       "      <td>The Mauritius Command</td>\n",
       "    </tr>\n",
       "    <tr>\n",
       "      <th>9999</th>\n",
       "      <td>0.000000</td>\n",
       "      <td>Cinderella Ate My Daughter: Dispatches from th...</td>\n",
       "    </tr>\n",
       "    <tr>\n",
       "      <th>10000</th>\n",
       "      <td>0.000000</td>\n",
       "      <td>The First World War</td>\n",
       "    </tr>\n",
       "  </tbody>\n",
       "</table>\n",
       "<p>10000 rows × 2 columns</p>\n",
       "</div>"
      ],
      "text/plain": [
       "         cos_similarity                                              title\n",
       "book_id                                                                   \n",
       "3753           0.617575       Harry Potter Collection (Harry Potter, #1-6)\n",
       "6141           0.518223  Harry Potter and the Order of the Phoenix (Har...\n",
       "3275           0.510482  Harry Potter Boxed Set, Books 1-5 (Harry Potte...\n",
       "422            0.483588           Harry Potter Boxset (Harry Potter, #1-7)\n",
       "27             0.467086  Harry Potter and the Half-Blood Prince (Harry ...\n",
       "...                 ...                                                ...\n",
       "9996           0.000000                          Bayou Moon (The Edge, #2)\n",
       "9997           0.000000  Means of Ascent (The Years of Lyndon Johnson, #2)\n",
       "9998           0.000000                              The Mauritius Command\n",
       "9999           0.000000  Cinderella Ate My Daughter: Dispatches from th...\n",
       "10000          0.000000                                The First World War\n",
       "\n",
       "[10000 rows x 2 columns]"
      ]
     },
     "execution_count": 1056,
     "metadata": {},
     "output_type": "execute_result"
    }
   ],
   "source": [
    "a = query_similar_items('harry potter 2', 'title')\n",
    "a.merge(books.title, on='book_id')"
   ]
  },
  {
   "cell_type": "markdown",
   "metadata": {},
   "source": [
    "## 7. Personalized Book Search"
   ]
  },
  {
   "cell_type": "markdown",
   "metadata": {},
   "source": [
    "### 7.1 helper function from above (1-6)"
   ]
  },
  {
   "cell_type": "code",
   "execution_count": 1147,
   "metadata": {},
   "outputs": [],
   "source": [
    "def query_similar_items(q, doc, tfidfs=tfidfs):\n",
    "    \"\"\"\n",
    "    idea:  \n",
    "      1. divide and classify query: title, author, genres?  -- unsupurvise, LDA?\n",
    "      2. use pre-calculated tfidf from each dataset to calculate similarity with query\n",
    "      3. return similarity score descending\n",
    "      \n",
    "      input: \n",
    "          query: string\n",
    "          doc: string\n",
    "          tfidfs: pre-calculated tfidf from different datasets\n",
    "      output:\n",
    "          top similarity: DataFrame\n",
    "    \"\"\"\n",
    "    idx = 0\n",
    "    if doc == 'title':\n",
    "        idx = 1\n",
    "        \n",
    "    q = [q]\n",
    "    tfidf, doc_vec = tfidfs[doc]\n",
    "    q_vec = tfidf.transform(q)\n",
    "    sim = pd.DataFrame(sorted(list(enumerate(cosine_similarity(q_vec, doc_vec)[0], idx)),\\\n",
    "                              key=lambda x: x[1], reverse=True), columns=['book_id', 'cos_similarity']).\\\n",
    "                              set_index('book_id')\n",
    "    return sim\n",
    "def personal_books_content_recommendation(book_id, sim=content_tfidf_cos_similarity, n=5):\n",
    "        books_content_similarities = list(enumerate(sim[book_id-1], start=1))\n",
    "        books_content_similarities.sort(key=lambda x: x[1], reverse=True)\n",
    "        top_books_content_similarities = books_content_similarities[:n]\n",
    "        top_books = pd.DataFrame(top_books_content_similarities, columns=['book_id', 'similarity']). \\\n",
    "                                set_index('book_id')\n",
    "        return top_books\n",
    "\n",
    "def weighted_rating(df):\n",
    "    v = df['ratings_count']\n",
    "    m = df['ratings_count'].quantile(0.95) # rating count > 95%\n",
    "    R = df['average_rating']\n",
    "    C = df['average_rating'].mean()\n",
    "    WR = round((v*R + m*C) / (v + m), 3)\n",
    "    return WR\n",
    "\n",
    "def personal_books_CF_userbased_recommendation(user_id, books=books, n=10, a=0.5):\n",
    "    '''\n",
    "    idea: first filter by content based system (cos similarity of count (text features) ),\n",
    "                Second filter by Collaborative  Filtering (user based MF(SVD) ) \n",
    "                \n",
    "    input: user ID and Book ID/Title\n",
    "            a: 0-1, importance of personalized rating\n",
    "    output: similar books recommend to certain user\n",
    "\n",
    "    '''\n",
    "    CF_books = books.copy()\n",
    "    # collaborative filtering (user based)\n",
    "    CF_books['estimate_rating'] = books.index.\\\n",
    "                                                    map(lambda x: round(svd.predict(user_id, x).est, 3) )\n",
    "    CF_books['final_rating'] = round( (a * CF_books['estimate_rating']) + \\\n",
    "                                        ((1-a) * CF_books['content_rating']), 3 )\n",
    "#     top_books = books.sort_values('final_rating', ascending=False)\n",
    "    return CF_books\n",
    "\n",
    "def personal_books_recommendation_xgb(user_id=1, books=books, n=10):\n",
    "    (X_train, y_train), (X_val, y_val), (X_test, y_test) = \\\n",
    "                                data_preprocess_user(user_id, data=books)\n",
    "    model = models[user_id]\n",
    "    tops = np.concatenate((model.predict_proba(X_test), model.predict(X_test).reshape(-1, 1)), axis=1)\n",
    "    top_books = pd.DataFrame(tops, \\\n",
    "                             index=X_test.index, columns=['0','prob', 'want_to_read']).\\\n",
    "                            sort_values('prob', ascending=False)[:n]\n",
    "    return books.merge(top_books, on='book_id')[['title', 'prob', 'want_to_read']]"
   ]
  },
  {
   "cell_type": "markdown",
   "metadata": {},
   "source": [
    "### 7.2. Final personalized Books Search System"
   ]
  },
  {
   "cell_type": "code",
   "execution_count": 1165,
   "metadata": {},
   "outputs": [],
   "source": [
    "def personalized_books_search(user_id, q, doc='title', n=10, \\\n",
    "                              search_neighbor=10, content_neighbor=20,\\\n",
    "                              recommend_alpha=0.5, to_read_filter=True\n",
    "                              ):\n",
    "    \"\"\"\n",
    "       idea: \n",
    "             1. query similar books (tfidf cos similarity)\n",
    "             2. for each queryed book in above list, use content-based and Collaborative filtering (user based, MF: SVD)\n",
    "                to recommend books, giving another books list\n",
    "             3. Collect all the books above, calculate their final rating, formula:\n",
    "               final rating = query similarity * ( a*(CF user based rating) + (1-a)*(content based weighted rating) ) \n",
    "             4. if to_read_filter is True, use xgboost to predict whether user wants to read the above book list, \n",
    "                filter out those want_to_read = 0\n",
    "             5. rank over the book list, pick top n books to recommend\n",
    "        \n",
    "        input:\n",
    "             user_id: user_id\n",
    "             q: query (only support title-liked string for now, otherwise, result might not be good)\n",
    "             doc: type of query (only support title for now)\n",
    "             n: number of books to recommend\n",
    "             search_neighbor: number of books candidates in search list (intermediate state)\n",
    "             content_neighbor: number of books candidates in content-based filtering list (intermediate state)\n",
    "             recommend_alpha: weight of Collaborative filtering recommender, [0, 1]\n",
    "             to_read_filter: whether use model based filtering to etimate whether user wants to read the books or not, and filter them\n",
    "        \n",
    "        output:\n",
    "             list of recommend books: DataFrame\n",
    "    \"\"\"\n",
    "    q_cos_sims = query_similar_items(q, doc, tfidfs)[:search_neighbor]\n",
    "    q_cos_sims = q_cos_sims.transform(lambda x: x / x.iloc[0])\n",
    "    top_books = []\n",
    "    for book_id, q_sim in q_cos_sims.iterrows():\n",
    "        c_books = personal_books_content_recommendation(book_id, n=content_neighbor)\n",
    "        top_books_candidates = c_books.merge(books, on='book_id')[['ratings_count', 'average_rating']]\n",
    "        top_books_candidates['content_rating'] = weighted_rating(top_books_candidates)\n",
    "        \n",
    "#         top_books_candidates['svd_rating'] = c_books_candidates.index.map(lambda x: round(\\\n",
    "#                                             svd.predict(user_id, x).est, 3) )\n",
    "#         top_books_candidates['final_rating'] = round( search_alpha * q_sim[0] * \n",
    "#                                                          ( content_alpha * \\\n",
    "#                                                          top_books_candidates['weighted_rating'] + \\\n",
    "#                                                           (1-content_alpha) * \\\n",
    "#                                                          top_books_candidates['svd_rating'] )\n",
    "#                                                      , 3 )\n",
    "        top_books_final_rating = q_sim[0] * personal_books_CF_userbased_recommendation\\\n",
    "                    (user_id, books=top_books_candidates, n=-1, a=recommend_alpha)['final_rating']\n",
    "        top_books.append(top_books_final_rating)\n",
    "        \n",
    "    top_books_df = pd.DataFrame(pd.concat(top_books))\n",
    "    top_books_df = top_books_df.merge(books.title, on='book_id').groupby('book_id').max()\n",
    "    \n",
    "    # use machine learning to predict whether user wants to read or not (filter)\n",
    "    if to_read_filter:\n",
    "        books_to_read = personal_books_recommendation_xgb(user_id, top_books_df, n=-1)\n",
    "        top_books_df = top_books_df.loc[books_to_read[books_to_read.want_to_read==1].index]\n",
    "\n",
    "    return top_books_df.sort_values('final_rating', ascending=False)[:n]\\\n",
    "# .drop('final_rating', axis=1)"
   ]
  },
  {
   "cell_type": "markdown",
   "metadata": {},
   "source": [
    "- if to_read_filter is True, only user_id = 1 can be queried (reason behind: for each user, build a personalized model or a huge mix-up model for all user to predict whether they want to read the books, but given time and machine limits, couldn't train all the models )"
   ]
  },
  {
   "cell_type": "code",
   "execution_count": 1171,
   "metadata": {},
   "outputs": [
    {
     "data": {
      "text/html": [
       "<div>\n",
       "<style scoped>\n",
       "    .dataframe tbody tr th:only-of-type {\n",
       "        vertical-align: middle;\n",
       "    }\n",
       "\n",
       "    .dataframe tbody tr th {\n",
       "        vertical-align: top;\n",
       "    }\n",
       "\n",
       "    .dataframe thead th {\n",
       "        text-align: right;\n",
       "    }\n",
       "</style>\n",
       "<table border=\"1\" class=\"dataframe\">\n",
       "  <thead>\n",
       "    <tr style=\"text-align: right;\">\n",
       "      <th></th>\n",
       "      <th>final_rating</th>\n",
       "      <th>title</th>\n",
       "    </tr>\n",
       "    <tr>\n",
       "      <th>book_id</th>\n",
       "      <th></th>\n",
       "      <th></th>\n",
       "    </tr>\n",
       "  </thead>\n",
       "  <tbody>\n",
       "    <tr>\n",
       "      <th>18</th>\n",
       "      <td>4.479</td>\n",
       "      <td>Harry Potter and the Prisoner of Azkaban (Harr...</td>\n",
       "    </tr>\n",
       "    <tr>\n",
       "      <th>422</th>\n",
       "      <td>4.469</td>\n",
       "      <td>Harry Potter Boxset (Harry Potter, #1-7)</td>\n",
       "    </tr>\n",
       "    <tr>\n",
       "      <th>25</th>\n",
       "      <td>4.446</td>\n",
       "      <td>Harry Potter and the Deathly Hallows (Harry Po...</td>\n",
       "    </tr>\n",
       "    <tr>\n",
       "      <th>24</th>\n",
       "      <td>4.420</td>\n",
       "      <td>Harry Potter and the Goblet of Fire (Harry Pot...</td>\n",
       "    </tr>\n",
       "    <tr>\n",
       "      <th>27</th>\n",
       "      <td>4.412</td>\n",
       "      <td>Harry Potter and the Half-Blood Prince (Harry ...</td>\n",
       "    </tr>\n",
       "    <tr>\n",
       "      <th>2</th>\n",
       "      <td>4.411</td>\n",
       "      <td>Harry Potter and the Sorcerer's Stone (Harry P...</td>\n",
       "    </tr>\n",
       "    <tr>\n",
       "      <th>3753</th>\n",
       "      <td>4.387</td>\n",
       "      <td>Harry Potter Collection (Harry Potter, #1-6)</td>\n",
       "    </tr>\n",
       "    <tr>\n",
       "      <th>21</th>\n",
       "      <td>4.368</td>\n",
       "      <td>Harry Potter and the Order of the Phoenix (Har...</td>\n",
       "    </tr>\n",
       "    <tr>\n",
       "      <th>23</th>\n",
       "      <td>4.330</td>\n",
       "      <td>Harry Potter and the Chamber of Secrets (Harry...</td>\n",
       "    </tr>\n",
       "    <tr>\n",
       "      <th>6141</th>\n",
       "      <td>4.249</td>\n",
       "      <td>Harry Potter and the Order of the Phoenix (Har...</td>\n",
       "    </tr>\n",
       "  </tbody>\n",
       "</table>\n",
       "</div>"
      ],
      "text/plain": [
       "         final_rating                                              title\n",
       "book_id                                                                 \n",
       "18              4.479  Harry Potter and the Prisoner of Azkaban (Harr...\n",
       "422             4.469           Harry Potter Boxset (Harry Potter, #1-7)\n",
       "25              4.446  Harry Potter and the Deathly Hallows (Harry Po...\n",
       "24              4.420  Harry Potter and the Goblet of Fire (Harry Pot...\n",
       "27              4.412  Harry Potter and the Half-Blood Prince (Harry ...\n",
       "2               4.411  Harry Potter and the Sorcerer's Stone (Harry P...\n",
       "3753            4.387       Harry Potter Collection (Harry Potter, #1-6)\n",
       "21              4.368  Harry Potter and the Order of the Phoenix (Har...\n",
       "23              4.330  Harry Potter and the Chamber of Secrets (Harry...\n",
       "6141            4.249  Harry Potter and the Order of the Phoenix (Har..."
      ]
     },
     "execution_count": 1171,
     "metadata": {},
     "output_type": "execute_result"
    }
   ],
   "source": [
    "user_id=1\n",
    "q = 'harry potter'\n",
    "doc = 'title'\n",
    "personalized_books_search(user_id, q, doc, n=10, search_neighbor=10, \\\n",
    "                          content_neighbor=20, recommend_alpha=0.6, to_read_filter=False)"
   ]
  },
  {
   "cell_type": "code",
   "execution_count": null,
   "metadata": {},
   "outputs": [],
   "source": []
  }
 ],
 "metadata": {
  "kernelspec": {
   "display_name": "Python 3",
   "language": "python",
   "name": "python3"
  },
  "language_info": {
   "codemirror_mode": {
    "name": "ipython",
    "version": 3
   },
   "file_extension": ".py",
   "mimetype": "text/x-python",
   "name": "python",
   "nbconvert_exporter": "python",
   "pygments_lexer": "ipython3",
   "version": "3.8.5"
  }
 },
 "nbformat": 4,
 "nbformat_minor": 4
}
