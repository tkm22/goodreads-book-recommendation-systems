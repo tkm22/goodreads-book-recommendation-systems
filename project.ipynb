{
 "cells": [
  {
   "cell_type": "markdown",
   "metadata": {},
   "source": [
    "# Books Recommend Seach System"
   ]
  },
  {
   "cell_type": "code",
   "execution_count": 5,
   "metadata": {},
   "outputs": [],
   "source": [
    "import pandas as pd\n",
    "import numpy as np\n",
    "import seaborn as sns\n",
    "import matplotlib as mpl\n",
    "import matplotlib.pyplot as plt\n",
    "import datetime\n",
    "import sklearn\n",
    "import re\n",
    "from scipy import stats\n",
    "from sklearn.feature_extraction.text import TfidfVectorizer, CountVectorizer\n",
    "from sklearn.metrics.pairwise import linear_kernel, cosine_similarity\n",
    "from sklearn.preprocessing import LabelEncoder, OrdinalEncoder\n",
    "from sklearn.decomposition import TruncatedSVD\n",
    "from sklearn.model_selection import train_test_split\n",
    "from surprise import Reader, Dataset, SVD\n",
    "from surprise.model_selection import cross_validate\n",
    "from datetime import date\n",
    "from scipy.sparse import csr_matrix\n",
    "from sklearn.neighbors import NearestNeighbors\n",
    "from fuzzywuzzy import fuzz\n",
    "from nltk.tokenize import word_tokenize\n",
    "import scipy as sp\n",
    "import xgboost as xgb\n",
    "from sklearn.metrics import precision_score, recall_score, precision_recall_curve, auc,\\\n",
    "                            roc_auc_score\n",
    "import warnings\n",
    "warnings.filterwarnings('ignore')"
   ]
  },
  {
   "cell_type": "code",
   "execution_count": 4,
   "metadata": {},
   "outputs": [],
   "source": [
    "books = pd.read_csv('./books.csv', index_col=1)\n",
    "books = books.iloc[:, 1:]\n",
    "ratings = pd.read_csv('./ratings.csv')\n",
    "book_tags = pd.read_csv('./book_tags.csv')\n",
    "tags = pd.read_csv('./tags.csv')\n",
    "to_read = pd.read_csv('to_read.csv')"
   ]
  },
  {
   "cell_type": "markdown",
   "metadata": {},
   "source": [
    "## 1. EDA"
   ]
  },
  {
   "cell_type": "markdown",
   "metadata": {},
   "source": [
    "### 1.1. To_read"
   ]
  },
  {
   "cell_type": "code",
   "execution_count": 3,
   "metadata": {},
   "outputs": [
    {
     "name": "stdout",
     "output_type": "stream",
     "text": [
      "<class 'pandas.core.frame.DataFrame'>\n",
      "RangeIndex: 912705 entries, 0 to 912704\n",
      "Data columns (total 2 columns):\n",
      " #   Column   Non-Null Count   Dtype\n",
      "---  ------   --------------   -----\n",
      " 0   user_id  912705 non-null  int64\n",
      " 1   book_id  912705 non-null  int64\n",
      "dtypes: int64(2)\n",
      "memory usage: 13.9 MB\n"
     ]
    }
   ],
   "source": [
    "to_read.info()"
   ]
  },
  {
   "cell_type": "markdown",
   "metadata": {},
   "source": [
    "### 1.2. Rating"
   ]
  },
  {
   "cell_type": "code",
   "execution_count": 4,
   "metadata": {},
   "outputs": [
    {
     "name": "stdout",
     "output_type": "stream",
     "text": [
      "<class 'pandas.core.frame.DataFrame'>\n",
      "RangeIndex: 5976479 entries, 0 to 5976478\n",
      "Data columns (total 3 columns):\n",
      " #   Column   Dtype\n",
      "---  ------   -----\n",
      " 0   user_id  int64\n",
      " 1   book_id  int64\n",
      " 2   rating   int64\n",
      "dtypes: int64(3)\n",
      "memory usage: 136.8 MB\n"
     ]
    }
   ],
   "source": [
    "ratings.info()"
   ]
  },
  {
   "cell_type": "code",
   "execution_count": 5,
   "metadata": {},
   "outputs": [
    {
     "data": {
      "text/html": [
       "<div>\n",
       "<style scoped>\n",
       "    .dataframe tbody tr th:only-of-type {\n",
       "        vertical-align: middle;\n",
       "    }\n",
       "\n",
       "    .dataframe tbody tr th {\n",
       "        vertical-align: top;\n",
       "    }\n",
       "\n",
       "    .dataframe thead th {\n",
       "        text-align: right;\n",
       "    }\n",
       "</style>\n",
       "<table border=\"1\" class=\"dataframe\">\n",
       "  <thead>\n",
       "    <tr style=\"text-align: right;\">\n",
       "      <th></th>\n",
       "      <th>user_id</th>\n",
       "      <th>book_id</th>\n",
       "      <th>rating</th>\n",
       "    </tr>\n",
       "  </thead>\n",
       "  <tbody>\n",
       "    <tr>\n",
       "      <th>0</th>\n",
       "      <td>1</td>\n",
       "      <td>258</td>\n",
       "      <td>5</td>\n",
       "    </tr>\n",
       "    <tr>\n",
       "      <th>1</th>\n",
       "      <td>2</td>\n",
       "      <td>4081</td>\n",
       "      <td>4</td>\n",
       "    </tr>\n",
       "    <tr>\n",
       "      <th>2</th>\n",
       "      <td>2</td>\n",
       "      <td>260</td>\n",
       "      <td>5</td>\n",
       "    </tr>\n",
       "    <tr>\n",
       "      <th>3</th>\n",
       "      <td>2</td>\n",
       "      <td>9296</td>\n",
       "      <td>5</td>\n",
       "    </tr>\n",
       "    <tr>\n",
       "      <th>4</th>\n",
       "      <td>2</td>\n",
       "      <td>2318</td>\n",
       "      <td>3</td>\n",
       "    </tr>\n",
       "  </tbody>\n",
       "</table>\n",
       "</div>"
      ],
      "text/plain": [
       "   user_id  book_id  rating\n",
       "0        1      258       5\n",
       "1        2     4081       4\n",
       "2        2      260       5\n",
       "3        2     9296       5\n",
       "4        2     2318       3"
      ]
     },
     "execution_count": 5,
     "metadata": {},
     "output_type": "execute_result"
    }
   ],
   "source": [
    "ratings.head()"
   ]
  },
  {
   "cell_type": "code",
   "execution_count": 6,
   "metadata": {},
   "outputs": [
    {
     "data": {
      "text/plain": [
       "('users', 53424, 'books', 10000, 'ratings', 5976479)"
      ]
     },
     "execution_count": 6,
     "metadata": {},
     "output_type": "execute_result"
    }
   ],
   "source": [
    "'users', len(ratings.user_id.unique()), \\\n",
    "'books', len(ratings.book_id.unique()), \\\n",
    "'ratings', len(ratings)"
   ]
  },
  {
   "cell_type": "code",
   "execution_count": 7,
   "metadata": {},
   "outputs": [
    {
     "data": {
      "text/html": [
       "<div>\n",
       "<style scoped>\n",
       "    .dataframe tbody tr th:only-of-type {\n",
       "        vertical-align: middle;\n",
       "    }\n",
       "\n",
       "    .dataframe tbody tr th {\n",
       "        vertical-align: top;\n",
       "    }\n",
       "\n",
       "    .dataframe thead th {\n",
       "        text-align: right;\n",
       "    }\n",
       "</style>\n",
       "<table border=\"1\" class=\"dataframe\">\n",
       "  <thead>\n",
       "    <tr style=\"text-align: right;\">\n",
       "      <th></th>\n",
       "      <th>user_id</th>\n",
       "      <th>book_id</th>\n",
       "      <th>rating</th>\n",
       "    </tr>\n",
       "  </thead>\n",
       "  <tbody>\n",
       "  </tbody>\n",
       "</table>\n",
       "</div>"
      ],
      "text/plain": [
       "Empty DataFrame\n",
       "Columns: [user_id, book_id, rating]\n",
       "Index: []"
      ]
     },
     "execution_count": 7,
     "metadata": {},
     "output_type": "execute_result"
    }
   ],
   "source": [
    "r_ub = ratings.groupby(['user_id', 'book_id'])\n",
    "ratings[r_ub['rating'].transform('size') != 1]"
   ]
  },
  {
   "cell_type": "code",
   "execution_count": 8,
   "metadata": {},
   "outputs": [
    {
     "data": {
      "image/png": "[encoded data removed]",
      "text/plain": [
       "<Figure size 432x288 with 1 Axes>"
      ]
     },
     "metadata": {
      "needs_background": "light"
     },
     "output_type": "display_data"
    }
   ],
   "source": [
    "ratings.rating.hist( bins = 5 );"
   ]
  },
  {
   "cell_type": "markdown",
   "metadata": {},
   "source": [
    "### 1.3 Books\n",
    "missing data: \n",
    "isbn 700 rows  \n",
    "isbn13 ~600  \n",
    "original_publication_year 21  \n",
    "original_title ~600 same as isbn13  \n",
    "language_code ~1000"
   ]
  },
  {
   "cell_type": "code",
   "execution_count": 9,
   "metadata": {},
   "outputs": [
    {
     "name": "stdout",
     "output_type": "stream",
     "text": [
      "<class 'pandas.core.frame.DataFrame'>\n",
      "Int64Index: 10000 entries, 1 to 10000\n",
      "Data columns (total 22 columns):\n",
      " #   Column                     Non-Null Count  Dtype  \n",
      "---  ------                     --------------  -----  \n",
      " 0   goodreads_book_id          10000 non-null  int64  \n",
      " 1   best_book_id               10000 non-null  int64  \n",
      " 2   work_id                    10000 non-null  int64  \n",
      " 3   books_count                10000 non-null  int64  \n",
      " 4   isbn                       9300 non-null   object \n",
      " 5   isbn13                     9415 non-null   float64\n",
      " 6   authors                    10000 non-null  object \n",
      " 7   original_publication_year  10000 non-null  float64\n",
      " 8   original_title             9415 non-null   object \n",
      " 9   title                      10000 non-null  object \n",
      " 10  language_code              9344 non-null   object \n",
      " 11  average_rating             10000 non-null  float64\n",
      " 12  ratings_count              10000 non-null  int64  \n",
      " 13  work_ratings_count         10000 non-null  int64  \n",
      " 14  work_text_reviews_count    10000 non-null  int64  \n",
      " 15  ratings_1                  10000 non-null  int64  \n",
      " 16  ratings_2                  10000 non-null  int64  \n",
      " 17  ratings_3                  10000 non-null  int64  \n",
      " 18  ratings_4                  10000 non-null  int64  \n",
      " 19  ratings_5                  10000 non-null  int64  \n",
      " 20  image_url                  10000 non-null  object \n",
      " 21  small_image_url            10000 non-null  object \n",
      "dtypes: float64(3), int64(12), object(7)\n",
      "memory usage: 1.8+ MB\n"
     ]
    }
   ],
   "source": [
    "books.info()"
   ]
  },
  {
   "cell_type": "code",
   "execution_count": 10,
   "metadata": {},
   "outputs": [
    {
     "data": {
      "text/html": [
       "<div>\n",
       "<style scoped>\n",
       "    .dataframe tbody tr th:only-of-type {\n",
       "        vertical-align: middle;\n",
       "    }\n",
       "\n",
       "    .dataframe tbody tr th {\n",
       "        vertical-align: top;\n",
       "    }\n",
       "\n",
       "    .dataframe thead th {\n",
       "        text-align: right;\n",
       "    }\n",
       "</style>\n",
       "<table border=\"1\" class=\"dataframe\">\n",
       "  <thead>\n",
       "    <tr style=\"text-align: right;\">\n",
       "      <th>book_id</th>\n",
       "      <th>1</th>\n",
       "      <th>2</th>\n",
       "      <th>3</th>\n",
       "    </tr>\n",
       "  </thead>\n",
       "  <tbody>\n",
       "    <tr>\n",
       "      <th>goodreads_book_id</th>\n",
       "      <td>2767052</td>\n",
       "      <td>3</td>\n",
       "      <td>41865</td>\n",
       "    </tr>\n",
       "    <tr>\n",
       "      <th>best_book_id</th>\n",
       "      <td>2767052</td>\n",
       "      <td>3</td>\n",
       "      <td>41865</td>\n",
       "    </tr>\n",
       "    <tr>\n",
       "      <th>work_id</th>\n",
       "      <td>2792775</td>\n",
       "      <td>4640799</td>\n",
       "      <td>3212258</td>\n",
       "    </tr>\n",
       "    <tr>\n",
       "      <th>books_count</th>\n",
       "      <td>272</td>\n",
       "      <td>491</td>\n",
       "      <td>226</td>\n",
       "    </tr>\n",
       "    <tr>\n",
       "      <th>isbn</th>\n",
       "      <td>439023483</td>\n",
       "      <td>439554934</td>\n",
       "      <td>316015849</td>\n",
       "    </tr>\n",
       "    <tr>\n",
       "      <th>isbn13</th>\n",
       "      <td>9.78044e+12</td>\n",
       "      <td>9.78044e+12</td>\n",
       "      <td>9.78032e+12</td>\n",
       "    </tr>\n",
       "    <tr>\n",
       "      <th>authors</th>\n",
       "      <td>Suzanne Collins</td>\n",
       "      <td>J.K. Rowling, Mary GrandPré</td>\n",
       "      <td>Stephenie Meyer</td>\n",
       "    </tr>\n",
       "    <tr>\n",
       "      <th>original_publication_year</th>\n",
       "      <td>2008</td>\n",
       "      <td>1997</td>\n",
       "      <td>2005</td>\n",
       "    </tr>\n",
       "    <tr>\n",
       "      <th>original_title</th>\n",
       "      <td>The Hunger Games</td>\n",
       "      <td>Harry Potter and the Philosopher's Stone</td>\n",
       "      <td>Twilight</td>\n",
       "    </tr>\n",
       "    <tr>\n",
       "      <th>title</th>\n",
       "      <td>The Hunger Games (The Hunger Games, #1)</td>\n",
       "      <td>Harry Potter and the Sorcerer's Stone (Harry P...</td>\n",
       "      <td>Twilight (Twilight, #1)</td>\n",
       "    </tr>\n",
       "    <tr>\n",
       "      <th>language_code</th>\n",
       "      <td>eng</td>\n",
       "      <td>eng</td>\n",
       "      <td>en-US</td>\n",
       "    </tr>\n",
       "    <tr>\n",
       "      <th>average_rating</th>\n",
       "      <td>4.34</td>\n",
       "      <td>4.44</td>\n",
       "      <td>3.57</td>\n",
       "    </tr>\n",
       "    <tr>\n",
       "      <th>ratings_count</th>\n",
       "      <td>4780653</td>\n",
       "      <td>4602479</td>\n",
       "      <td>3866839</td>\n",
       "    </tr>\n",
       "    <tr>\n",
       "      <th>work_ratings_count</th>\n",
       "      <td>4942365</td>\n",
       "      <td>4800065</td>\n",
       "      <td>3916824</td>\n",
       "    </tr>\n",
       "    <tr>\n",
       "      <th>work_text_reviews_count</th>\n",
       "      <td>155254</td>\n",
       "      <td>75867</td>\n",
       "      <td>95009</td>\n",
       "    </tr>\n",
       "    <tr>\n",
       "      <th>ratings_1</th>\n",
       "      <td>66715</td>\n",
       "      <td>75504</td>\n",
       "      <td>456191</td>\n",
       "    </tr>\n",
       "    <tr>\n",
       "      <th>ratings_2</th>\n",
       "      <td>127936</td>\n",
       "      <td>101676</td>\n",
       "      <td>436802</td>\n",
       "    </tr>\n",
       "    <tr>\n",
       "      <th>ratings_3</th>\n",
       "      <td>560092</td>\n",
       "      <td>455024</td>\n",
       "      <td>793319</td>\n",
       "    </tr>\n",
       "    <tr>\n",
       "      <th>ratings_4</th>\n",
       "      <td>1481305</td>\n",
       "      <td>1156318</td>\n",
       "      <td>875073</td>\n",
       "    </tr>\n",
       "    <tr>\n",
       "      <th>ratings_5</th>\n",
       "      <td>2706317</td>\n",
       "      <td>3011543</td>\n",
       "      <td>1355439</td>\n",
       "    </tr>\n",
       "    <tr>\n",
       "      <th>image_url</th>\n",
       "      <td>https://images.gr-assets.com/books/1447303603m...</td>\n",
       "      <td>https://images.gr-assets.com/books/1474154022m...</td>\n",
       "      <td>https://images.gr-assets.com/books/1361039443m...</td>\n",
       "    </tr>\n",
       "    <tr>\n",
       "      <th>small_image_url</th>\n",
       "      <td>https://images.gr-assets.com/books/1447303603s...</td>\n",
       "      <td>https://images.gr-assets.com/books/1474154022s...</td>\n",
       "      <td>https://images.gr-assets.com/books/1361039443s...</td>\n",
       "    </tr>\n",
       "  </tbody>\n",
       "</table>\n",
       "</div>"
      ],
      "text/plain": [
       "book_id                                                                    1  \\\n",
       "goodreads_book_id                                                    2767052   \n",
       "best_book_id                                                         2767052   \n",
       "work_id                                                              2792775   \n",
       "books_count                                                              272   \n",
       "isbn                                                               439023483   \n",
       "isbn13                                                           9.78044e+12   \n",
       "authors                                                      Suzanne Collins   \n",
       "original_publication_year                                               2008   \n",
       "original_title                                              The Hunger Games   \n",
       "title                                The Hunger Games (The Hunger Games, #1)   \n",
       "language_code                                                            eng   \n",
       "average_rating                                                          4.34   \n",
       "ratings_count                                                        4780653   \n",
       "work_ratings_count                                                   4942365   \n",
       "work_text_reviews_count                                               155254   \n",
       "ratings_1                                                              66715   \n",
       "ratings_2                                                             127936   \n",
       "ratings_3                                                             560092   \n",
       "ratings_4                                                            1481305   \n",
       "ratings_5                                                            2706317   \n",
       "image_url                  https://images.gr-assets.com/books/1447303603m...   \n",
       "small_image_url            https://images.gr-assets.com/books/1447303603s...   \n",
       "\n",
       "book_id                                                                    2  \\\n",
       "goodreads_book_id                                                          3   \n",
       "best_book_id                                                               3   \n",
       "work_id                                                              4640799   \n",
       "books_count                                                              491   \n",
       "isbn                                                               439554934   \n",
       "isbn13                                                           9.78044e+12   \n",
       "authors                                          J.K. Rowling, Mary GrandPré   \n",
       "original_publication_year                                               1997   \n",
       "original_title                      Harry Potter and the Philosopher's Stone   \n",
       "title                      Harry Potter and the Sorcerer's Stone (Harry P...   \n",
       "language_code                                                            eng   \n",
       "average_rating                                                          4.44   \n",
       "ratings_count                                                        4602479   \n",
       "work_ratings_count                                                   4800065   \n",
       "work_text_reviews_count                                                75867   \n",
       "ratings_1                                                              75504   \n",
       "ratings_2                                                             101676   \n",
       "ratings_3                                                             455024   \n",
       "ratings_4                                                            1156318   \n",
       "ratings_5                                                            3011543   \n",
       "image_url                  https://images.gr-assets.com/books/1474154022m...   \n",
       "small_image_url            https://images.gr-assets.com/books/1474154022s...   \n",
       "\n",
       "book_id                                                                    3  \n",
       "goodreads_book_id                                                      41865  \n",
       "best_book_id                                                           41865  \n",
       "work_id                                                              3212258  \n",
       "books_count                                                              226  \n",
       "isbn                                                               316015849  \n",
       "isbn13                                                           9.78032e+12  \n",
       "authors                                                      Stephenie Meyer  \n",
       "original_publication_year                                               2005  \n",
       "original_title                                                      Twilight  \n",
       "title                                                Twilight (Twilight, #1)  \n",
       "language_code                                                          en-US  \n",
       "average_rating                                                          3.57  \n",
       "ratings_count                                                        3866839  \n",
       "work_ratings_count                                                   3916824  \n",
       "work_text_reviews_count                                                95009  \n",
       "ratings_1                                                             456191  \n",
       "ratings_2                                                             436802  \n",
       "ratings_3                                                             793319  \n",
       "ratings_4                                                             875073  \n",
       "ratings_5                                                            1355439  \n",
       "image_url                  https://images.gr-assets.com/books/1361039443m...  \n",
       "small_image_url            https://images.gr-assets.com/books/1361039443s...  "
      ]
     },
     "execution_count": 10,
     "metadata": {},
     "output_type": "execute_result"
    }
   ],
   "source": [
    "books.head(3).T"
   ]
  },
  {
   "cell_type": "markdown",
   "metadata": {},
   "source": [
    "### 1.3. Book_tags"
   ]
  },
  {
   "cell_type": "code",
   "execution_count": 11,
   "metadata": {},
   "outputs": [
    {
     "name": "stdout",
     "output_type": "stream",
     "text": [
      "<class 'pandas.core.frame.DataFrame'>\n",
      "RangeIndex: 999912 entries, 0 to 999911\n",
      "Data columns (total 3 columns):\n",
      " #   Column             Non-Null Count   Dtype\n",
      "---  ------             --------------   -----\n",
      " 0   goodreads_book_id  999912 non-null  int64\n",
      " 1   tag_id             999912 non-null  int64\n",
      " 2   count              999912 non-null  int64\n",
      "dtypes: int64(3)\n",
      "memory usage: 22.9 MB\n"
     ]
    }
   ],
   "source": [
    "book_tags.info()"
   ]
  },
  {
   "cell_type": "code",
   "execution_count": 12,
   "metadata": {},
   "outputs": [
    {
     "data": {
      "text/html": [
       "<div>\n",
       "<style scoped>\n",
       "    .dataframe tbody tr th:only-of-type {\n",
       "        vertical-align: middle;\n",
       "    }\n",
       "\n",
       "    .dataframe tbody tr th {\n",
       "        vertical-align: top;\n",
       "    }\n",
       "\n",
       "    .dataframe thead th {\n",
       "        text-align: right;\n",
       "    }\n",
       "</style>\n",
       "<table border=\"1\" class=\"dataframe\">\n",
       "  <thead>\n",
       "    <tr style=\"text-align: right;\">\n",
       "      <th></th>\n",
       "      <th>goodreads_book_id</th>\n",
       "      <th>tag_id</th>\n",
       "      <th>count</th>\n",
       "    </tr>\n",
       "  </thead>\n",
       "  <tbody>\n",
       "    <tr>\n",
       "      <th>0</th>\n",
       "      <td>1</td>\n",
       "      <td>30574</td>\n",
       "      <td>167697</td>\n",
       "    </tr>\n",
       "    <tr>\n",
       "      <th>1</th>\n",
       "      <td>1</td>\n",
       "      <td>11305</td>\n",
       "      <td>37174</td>\n",
       "    </tr>\n",
       "    <tr>\n",
       "      <th>2</th>\n",
       "      <td>1</td>\n",
       "      <td>11557</td>\n",
       "      <td>34173</td>\n",
       "    </tr>\n",
       "    <tr>\n",
       "      <th>3</th>\n",
       "      <td>1</td>\n",
       "      <td>8717</td>\n",
       "      <td>12986</td>\n",
       "    </tr>\n",
       "    <tr>\n",
       "      <th>4</th>\n",
       "      <td>1</td>\n",
       "      <td>33114</td>\n",
       "      <td>12716</td>\n",
       "    </tr>\n",
       "  </tbody>\n",
       "</table>\n",
       "</div>"
      ],
      "text/plain": [
       "   goodreads_book_id  tag_id   count\n",
       "0                  1   30574  167697\n",
       "1                  1   11305   37174\n",
       "2                  1   11557   34173\n",
       "3                  1    8717   12986\n",
       "4                  1   33114   12716"
      ]
     },
     "execution_count": 12,
     "metadata": {},
     "output_type": "execute_result"
    }
   ],
   "source": [
    "book_tags.head()"
   ]
  },
  {
   "cell_type": "markdown",
   "metadata": {},
   "source": [
    "### 1.4. Tags"
   ]
  },
  {
   "cell_type": "code",
   "execution_count": 13,
   "metadata": {},
   "outputs": [
    {
     "name": "stdout",
     "output_type": "stream",
     "text": [
      "<class 'pandas.core.frame.DataFrame'>\n",
      "RangeIndex: 34252 entries, 0 to 34251\n",
      "Data columns (total 2 columns):\n",
      " #   Column    Non-Null Count  Dtype \n",
      "---  ------    --------------  ----- \n",
      " 0   tag_id    34252 non-null  int64 \n",
      " 1   tag_name  34252 non-null  object\n",
      "dtypes: int64(1), object(1)\n",
      "memory usage: 535.3+ KB\n"
     ]
    }
   ],
   "source": [
    "tags.info()"
   ]
  },
  {
   "cell_type": "code",
   "execution_count": 14,
   "metadata": {},
   "outputs": [
    {
     "data": {
      "text/html": [
       "<div>\n",
       "<style scoped>\n",
       "    .dataframe tbody tr th:only-of-type {\n",
       "        vertical-align: middle;\n",
       "    }\n",
       "\n",
       "    .dataframe tbody tr th {\n",
       "        vertical-align: top;\n",
       "    }\n",
       "\n",
       "    .dataframe thead th {\n",
       "        text-align: right;\n",
       "    }\n",
       "</style>\n",
       "<table border=\"1\" class=\"dataframe\">\n",
       "  <thead>\n",
       "    <tr style=\"text-align: right;\">\n",
       "      <th></th>\n",
       "      <th>tag_id</th>\n",
       "      <th>tag_name</th>\n",
       "    </tr>\n",
       "  </thead>\n",
       "  <tbody>\n",
       "    <tr>\n",
       "      <th>0</th>\n",
       "      <td>0</td>\n",
       "      <td>-</td>\n",
       "    </tr>\n",
       "    <tr>\n",
       "      <th>1</th>\n",
       "      <td>1</td>\n",
       "      <td>--1-</td>\n",
       "    </tr>\n",
       "    <tr>\n",
       "      <th>2</th>\n",
       "      <td>2</td>\n",
       "      <td>--10-</td>\n",
       "    </tr>\n",
       "    <tr>\n",
       "      <th>3</th>\n",
       "      <td>3</td>\n",
       "      <td>--12-</td>\n",
       "    </tr>\n",
       "    <tr>\n",
       "      <th>4</th>\n",
       "      <td>4</td>\n",
       "      <td>--122-</td>\n",
       "    </tr>\n",
       "  </tbody>\n",
       "</table>\n",
       "</div>"
      ],
      "text/plain": [
       "   tag_id tag_name\n",
       "0       0        -\n",
       "1       1     --1-\n",
       "2       2    --10-\n",
       "3       3    --12-\n",
       "4       4   --122-"
      ]
     },
     "execution_count": 14,
     "metadata": {},
     "output_type": "execute_result"
    }
   ],
   "source": [
    "tags.head()"
   ]
  },
  {
   "cell_type": "markdown",
   "metadata": {},
   "source": [
    "### 1.5. Data Cleansing"
   ]
  },
  {
   "cell_type": "markdown",
   "metadata": {},
   "source": [
    "#### Ratings, no missing data, no few rating per user, no cleaning need"
   ]
  },
  {
   "cell_type": "markdown",
   "metadata": {},
   "source": [
    "#### Books: publication year, language need to be handled"
   ]
  },
  {
   "cell_type": "markdown",
   "metadata": {},
   "source": [
    "- book_tags"
   ]
  },
  {
   "cell_type": "code",
   "execution_count": 15,
   "metadata": {},
   "outputs": [],
   "source": [
    "book_tags.drop_duplicates(inplace=True)"
   ]
  },
  {
   "cell_type": "markdown",
   "metadata": {},
   "source": [
    "### 1.6. Formal EDA and Features Generation"
   ]
  },
  {
   "cell_type": "markdown",
   "metadata": {},
   "source": [
    "#### Ratings"
   ]
  },
  {
   "cell_type": "markdown",
   "metadata": {},
   "source": [
    "##### distribution of rating: many are 3, 4 and 5"
   ]
  },
  {
   "cell_type": "code",
   "execution_count": 16,
   "metadata": {},
   "outputs": [
    {
     "data": {
      "image/png": "[encoded data removed]",
      "text/plain": [
       "<Figure size 432x288 with 1 Axes>"
      ]
     },
     "metadata": {
      "needs_background": "light"
     },
     "output_type": "display_data"
    }
   ],
   "source": [
    "sns.countplot(x='rating', data=ratings);"
   ]
  },
  {
   "cell_type": "markdown",
   "metadata": {},
   "source": [
    "##### distribution of number of Rating per user: normal distribution aroudn 110 ratings per user  \n",
    "later check more frequent raters vs less frequent raters on ratings"
   ]
  },
  {
   "cell_type": "code",
   "execution_count": 17,
   "metadata": {},
   "outputs": [],
   "source": [
    "r_u_cnt = ratings.groupby('user_id').rating.count()"
   ]
  },
  {
   "cell_type": "code",
   "execution_count": 18,
   "metadata": {},
   "outputs": [
    {
     "data": {
      "image/png": "[encoded data removed]",
      "text/plain": [
       "<Figure size 432x288 with 1 Axes>"
      ]
     },
     "metadata": {
      "needs_background": "light"
     },
     "output_type": "display_data"
    }
   ],
   "source": [
    "ax = sns.histplot(data=r_u_cnt, bins=180)\n",
    "ax.set(xlabel='number of ratings per user');"
   ]
  },
  {
   "cell_type": "markdown",
   "metadata": {},
   "source": [
    "##### distribution of Mean Rating Per User: normal dist around 4  \n",
    "some ppl like giving 5, meaning they like all the books (low standard) or they only rate good books; And no downvoters rating all 1. These might be good indicator for collaborative filtering. Can shift to std normal distribution to get rid of the tendency from diff users (high standard and low standard)"
   ]
  },
  {
   "cell_type": "code",
   "execution_count": 19,
   "metadata": {},
   "outputs": [],
   "source": [
    "r_u_mean = ratings.groupby('user_id').rating.mean()"
   ]
  },
  {
   "cell_type": "code",
   "execution_count": 20,
   "metadata": {},
   "outputs": [
    {
     "data": {
      "image/png": "[encoded data removed]",
      "text/plain": [
       "<Figure size 432x288 with 1 Axes>"
      ]
     },
     "metadata": {
      "needs_background": "light"
     },
     "output_type": "display_data"
    }
   ],
   "source": [
    "ax = sns.histplot(data=r_u_mean)\n",
    "ax.set(xlabel='Mean ratings per user');"
   ]
  },
  {
   "cell_type": "markdown",
   "metadata": {},
   "source": [
    "##### distribution of number of rating per book by sign-in user: many are 100-200 ratings, enough number for true rate"
   ]
  },
  {
   "cell_type": "code",
   "execution_count": 21,
   "metadata": {},
   "outputs": [
    {
     "data": {
      "image/png": "[encoded data removed]",
      "text/plain": [
       "<Figure size 864x576 with 1 Axes>"
      ]
     },
     "metadata": {
      "needs_background": "light"
     },
     "output_type": "display_data"
    }
   ],
   "source": [
    "r_b_cnt = ratings.groupby('book_id').rating.sum() \n",
    "plt.figure(figsize=(12, 8))\n",
    "ax = sns.histplot(data=r_b_cnt)\n",
    "ax.set(\n",
    "    xlabel='number of ratings per book',\n",
    "#     xticks=np.logspace(1, 3, num=7, base=10),\n",
    "    xlim=[0, 20000], \n",
    ");\n",
    "# ax.tick_params(axis='x', which='both', bottom=True)\n",
    "# ax.get_xaxis().set_minor_locator(mpl.ticker.AutoMinorLocator())"
   ]
  },
  {
   "cell_type": "code",
   "execution_count": 22,
   "metadata": {},
   "outputs": [
    {
     "data": {
      "text/plain": [
       "[(0.0, 100000.0)]"
      ]
     },
     "execution_count": 22,
     "metadata": {},
     "output_type": "execute_result"
    },
    {
     "data": {
      "image/png": "[encoded data removed]",
      "text/plain": [
       "<Figure size 432x288 with 1 Axes>"
      ]
     },
     "metadata": {
      "needs_background": "light"
     },
     "output_type": "display_data"
    }
   ],
   "source": [
    "ax = sns.histplot(data=books.ratings_count,\n",
    "                 )\n",
    "ax.set(\n",
    "      xlim=[0, 10**5]\n",
    ")"
   ]
  },
  {
   "cell_type": "markdown",
   "metadata": {},
   "source": [
    "##### distribution of Mean Rating Per Book by sign-in user: normal dist around 4, almost no books higher than 4.6"
   ]
  },
  {
   "cell_type": "code",
   "execution_count": 23,
   "metadata": {},
   "outputs": [
    {
     "data": {
      "image/png": "[encoded data removed]",
      "text/plain": [
       "<Figure size 432x288 with 1 Axes>"
      ]
     },
     "metadata": {
      "needs_background": "light"
     },
     "output_type": "display_data"
    }
   ],
   "source": [
    "r_b_mean = ratings.groupby('book_id').rating.mean()\n",
    "ax = sns.histplot(data=r_b_mean)\n",
    "ax.set(xlabel='Mean ratings per book');"
   ]
  },
  {
   "cell_type": "markdown",
   "metadata": {},
   "source": [
    "### tags"
   ]
  },
  {
   "cell_type": "markdown",
   "metadata": {},
   "source": [
    "##### distribution of Book Genres (from tags): hardcore tags to be matched with goodreads' tags, and only use these tags for now  \n",
    "\n",
    "Fiction, fantasy etc tags are popular"
   ]
  },
  {
   "cell_type": "code",
   "execution_count": 24,
   "metadata": {},
   "outputs": [],
   "source": [
    "genres = [\"Art\", \"Biography\", \"Business\", \"Chick Lit\", \"Children's\", \"Christian\", \"Classics\",\n",
    "          \"Comics\", \"Contemporary\", \"Cookbooks\", \"Crime\", \"Ebooks\", \"Fantasy\", \"Fiction\",\n",
    "          \"Gay and Lesbian\", \"Graphic Novels\", \"Historical Fiction\", \"History\", \"Horror\",\n",
    "          \"Humor and Comedy\", \"Manga\", \"Memoir\", \"Music\", \"Mystery\", \"Nonfiction\", \"Paranormal\",\n",
    "          \"Philosophy\", \"Poetry\", \"Psychology\", \"Religion\", \"Romance\", \"Science\", \"Science Fiction\", \n",
    "          \"Self Help\", \"Suspense\", \"Spirituality\", \"Sports\", \"Thriller\", \"Travel\", \"Young Adult\"]\n",
    "genres = list(map(str.lower, genres))"
   ]
  },
  {
   "cell_type": "code",
   "execution_count": 25,
   "metadata": {},
   "outputs": [],
   "source": [
    "built_in_tags = tags[tags.tag_name.str.lower().isin(genres)]\n",
    "built_in_book_tags = book_tags[book_tags.tag_id.isin(built_in_tags.tag_id)]\n",
    "genres_built_in = built_in_book_tags.merge(built_in_tags, on='tag_id')"
   ]
  },
  {
   "cell_type": "code",
   "execution_count": 26,
   "metadata": {},
   "outputs": [
    {
     "data": {
      "image/png": "[encoded data removed]",
      "text/plain": [
       "<Figure size 1080x720 with 1 Axes>"
      ]
     },
     "metadata": {
      "needs_background": "light"
     },
     "output_type": "display_data"
    }
   ],
   "source": [
    "tagname_totalcnt = built_in_book_tags['count'].sum()\n",
    "bibt_tagname_cnt = pd.DataFrame(built_in_book_tags.groupby('tag_id')['count']. \\\n",
    "                                pipe(lambda x: 100. * x.sum() / tagname_totalcnt)). \\\n",
    "                    set_index(built_in_tags.tag_name)\n",
    "bibt_tagname_cnt.sort_values('count', ascending=False, inplace=True)\n",
    "plt.figure(figsize=(15, 10))\n",
    "ax = sns.barplot(\n",
    "    data=bibt_tagname_cnt,\n",
    "    x='count',\n",
    "    y=bibt_tagname_cnt.index,\n",
    "#     orient='h'\n",
    "                 )\n",
    "ax.set(xlabel='Percentage of book per tag/genre');\n",
    "for i, v in enumerate(bibt_tagname_cnt['count']):\n",
    "    ax.text( v, i, str(round(v, 2)) + '%' )"
   ]
  },
  {
   "cell_type": "markdown",
   "metadata": {},
   "source": [
    "### Books"
   ]
  },
  {
   "cell_type": "markdown",
   "metadata": {},
   "source": [
    "#### authors:  \n",
    "generate feature:  \n",
    "- number of authors  "
   ]
  },
  {
   "cell_type": "markdown",
   "metadata": {},
   "source": [
    "- number of autoher, higher rating"
   ]
  },
  {
   "cell_type": "code",
   "execution_count": 27,
   "metadata": {},
   "outputs": [
    {
     "data": {
      "image/png": "[encoded data removed]",
      "text/plain": [
       "<Figure size 432x288 with 1 Axes>"
      ]
     },
     "metadata": {
      "needs_background": "light"
     },
     "output_type": "display_data"
    }
   ],
   "source": [
    "books['n_authors'] = books.apply(lambda x: len(x.authors.split(',')), axis=1)\n",
    "n_authors = books[books['n_authors'] < 10]['n_authors']\n",
    "\n",
    "ax = sns.regplot(\n",
    "    x=n_authors, \n",
    "    y=books[books['n_authors'] < 10]['average_rating'], \n",
    "    line_kws={'color':'orchid'})\n",
    "\n",
    "ax.annotate('r =' + str(round(stats.pearsonr(n_authors,\n",
    "                                             books[books['n_authors'] < 10]['average_rating'])[0], 3)),\n",
    "            xy=(3,3), fontsize=15);\n",
    "plt.xlabel('number_of_authors');"
   ]
  },
  {
   "cell_type": "markdown",
   "metadata": {},
   "source": [
    "#### Years:   \n",
    " generate feature:  \n",
    "- year until now"
   ]
  },
  {
   "cell_type": "code",
   "execution_count": 28,
   "metadata": {},
   "outputs": [],
   "source": [
    "books['years_until_now'] = books.original_publication_year.astype(int).map(lambda x: date.today().year - x)"
   ]
  },
  {
   "cell_type": "markdown",
   "metadata": {},
   "source": [
    "#### title:\n",
    "generate feature:  \n",
    "- title changed? (bool)  \n",
    "- title length\n",
    "- has_subtitle?(bool)"
   ]
  },
  {
   "cell_type": "code",
   "execution_count": 29,
   "metadata": {},
   "outputs": [],
   "source": [
    "books['title_changed'] = 1\n",
    "books.loc[books.title == books.original_title, 'title_changed'] = 0"
   ]
  },
  {
   "cell_type": "markdown",
   "metadata": {},
   "source": [
    "- title length: vs rating"
   ]
  },
  {
   "cell_type": "code",
   "execution_count": 30,
   "metadata": {},
   "outputs": [],
   "source": [
    "books['title_length'] = books.title.transform(lambda x: len(x.split()) )"
   ]
  },
  {
   "cell_type": "code",
   "execution_count": 31,
   "metadata": {},
   "outputs": [
    {
     "data": {
      "image/png": "[encoded data removed]",
      "text/plain": [
       "<Figure size 1080x576 with 1 Axes>"
      ]
     },
     "metadata": {
      "needs_background": "light"
     },
     "output_type": "display_data"
    }
   ],
   "source": [
    "plt.figure(figsize=(15,8))\n",
    "sns.boxplot(x='title_length',\n",
    "            y='average_rating',\n",
    "            data=books\n",
    "           );"
   ]
  },
  {
   "cell_type": "code",
   "execution_count": 32,
   "metadata": {},
   "outputs": [
    {
     "data": {
      "image/png": "[encoded data removed]",
      "text/plain": [
       "<Figure size 1080x576 with 1 Axes>"
      ]
     },
     "metadata": {
      "needs_background": "light"
     },
     "output_type": "display_data"
    }
   ],
   "source": [
    "plt.figure(figsize=(15,8))\n",
    "sns.barplot(\n",
    "    x=books['title_length'].unique(),\n",
    "    y=books.groupby('title_length')['average_rating'].mean(),\n",
    "    data=books,\n",
    "    orient='v'\n",
    "           );"
   ]
  },
  {
   "cell_type": "markdown",
   "metadata": {},
   "source": [
    "- Subtitle: improve books' rating"
   ]
  },
  {
   "cell_type": "code",
   "execution_count": 33,
   "metadata": {},
   "outputs": [
    {
     "data": {
      "text/plain": [
       "<AxesSubplot:xlabel='has_subtitle', ylabel='average_rating'>"
      ]
     },
     "execution_count": 33,
     "metadata": {},
     "output_type": "execute_result"
    },
    {
     "data": {
      "image/png": "[encoded data removed]",
      "text/plain": [
       "<Figure size 576x720 with 1 Axes>"
      ]
     },
     "metadata": {
      "needs_background": "light"
     },
     "output_type": "display_data"
    }
   ],
   "source": [
    "books['has_subtitle'] = books.title.str.contains(':', regex=False)\n",
    "plt.figure(figsize=(8,10))\n",
    "sns.boxplot(\n",
    "    x='has_subtitle',\n",
    "    y='average_rating',\n",
    "    data=books\n",
    ")"
   ]
  },
  {
   "cell_type": "markdown",
   "metadata": {},
   "source": [
    "#### Languages:   \n",
    "some books with diff languages?   \n",
    "generate feature: \n",
    "- is_english book?"
   ]
  },
  {
   "cell_type": "code",
   "execution_count": 34,
   "metadata": {},
   "outputs": [
    {
     "data": {
      "text/plain": [
       "eng      6767\n",
       "en-US    2070\n",
       "en-GB     257\n",
       "ara        64\n",
       "en-CA      58\n",
       "Name: language_code, dtype: int64"
      ]
     },
     "execution_count": 34,
     "metadata": {},
     "output_type": "execute_result"
    }
   ],
   "source": [
    "b_lang_cnt = books.language_code.value_counts()\n",
    "b_lang_cnt.columns = ['count']\n",
    "b_lang_cnt.head()"
   ]
  },
  {
   "cell_type": "code",
   "execution_count": 35,
   "metadata": {},
   "outputs": [
    {
     "data": {
      "image/png": "[encoded data removed]",
      "text/plain": [
       "<Figure size 1080x648 with 2 Axes>"
      ]
     },
     "metadata": {
      "needs_background": "light"
     },
     "output_type": "display_data"
    }
   ],
   "source": [
    "f, axes = plt.subplots(1, 2, figsize=(15,9))\n",
    "axes[0] = sns.countplot(\n",
    "    y=books.language_code,\n",
    "    order=books.language_code.value_counts().index,\n",
    "    ax=axes[0]\n",
    "           );\n",
    "exclude_eng = books[~books['language_code'].isin([\"en-US\", \"en-GB\", \"eng\", \"en-CA\"]\n",
    "                         )].language_code\n",
    "axes[1] = sns.countplot(\n",
    "    y=exclude_eng,\n",
    "    order=exclude_eng.value_counts().index,\n",
    "    ax=axes[1]\n",
    "           );\n",
    "\n",
    "axes[0].set(xlabel='number of books', title='English included');\n",
    "axes[1].set(xlabel='number of books', title='English excluded');"
   ]
  },
  {
   "cell_type": "code",
   "execution_count": 36,
   "metadata": {},
   "outputs": [],
   "source": [
    "books['is_english'] = 0\n",
    "books.loc[books.language_code.isin([\"en-US\", \"en-GB\", \"eng\", \"en-CA\"]), 'is_english'] = 1"
   ]
  },
  {
   "cell_type": "markdown",
   "metadata": {},
   "source": [
    "#### series of books: \n",
    "always given by #, good indicator for recommendation, \n",
    "generate features: \n",
    "- series\n",
    "- number of books in a series\n",
    "- etc"
   ]
  },
  {
   "cell_type": "code",
   "execution_count": 37,
   "metadata": {},
   "outputs": [
    {
     "name": "stderr",
     "output_type": "stream",
     "text": [
      "<ipython-input-37-9d6413010709>:2: SettingWithCopyWarning: \n",
      "A value is trying to be set on a copy of a slice from a DataFrame.\n",
      "Try using .loc[row_indexer,col_indexer] = value instead\n",
      "\n",
      "See the caveats in the documentation: https://pandas.pydata.org/pandas-docs/stable/user_guide/indexing.html#returning-a-view-versus-a-copy\n",
      "  series['series'] = series['title'].str.findall('\\(.*[,:]').\\\n"
     ]
    }
   ],
   "source": [
    "series = books[books.title.str.contains('\\(.*[:#].*\\)')]\n",
    "series['series'] = series['title'].str.findall('\\(.*[,:]').\\\n",
    "apply(lambda x: ''.join(map(str, x))).apply(lambda x: x[1:-1])\n",
    "series[['goodreads_book_id', 'title', 'average_rating']];"
   ]
  },
  {
   "cell_type": "code",
   "execution_count": 38,
   "metadata": {},
   "outputs": [],
   "source": [
    "books['series'] = books.join(series.series).series"
   ]
  },
  {
   "cell_type": "markdown",
   "metadata": {},
   "source": [
    "- number of books in series  \n",
    "more books in a series, higher rating"
   ]
  },
  {
   "cell_type": "code",
   "execution_count": 39,
   "metadata": {},
   "outputs": [],
   "source": [
    "books['n_books_in_series'] = books.groupby('series')['series'].transform('count').fillna(0)"
   ]
  },
  {
   "cell_type": "code",
   "execution_count": 40,
   "metadata": {},
   "outputs": [
    {
     "name": "stdout",
     "output_type": "stream",
     "text": [
      "0.061740501831476224\n"
     ]
    },
    {
     "data": {
      "image/png": "[encoded data removed]",
      "text/plain": [
       "<Figure size 432x288 with 1 Axes>"
      ]
     },
     "metadata": {
      "needs_background": "light"
     },
     "output_type": "display_data"
    }
   ],
   "source": [
    "r2 = stats.linregress(series.groupby('series')['series'].count(), \n",
    "                      series.groupby('series')['average_rating'].mean(),\n",
    "                     )[2]\n",
    "print(r2)\n",
    "ax = sns.regplot(x=series.groupby('series')['series'].count(),\n",
    "                 y=series.groupby('series')['average_rating'].mean(),\n",
    "#                 data=books,\n",
    "            line_kws={'color':'cyan'}, \n",
    "           )\n",
    "ax.set(xlabel='number of books per series', ylabel='mean rating per series');"
   ]
  },
  {
   "cell_type": "markdown",
   "metadata": {},
   "source": [
    "#### Top rated from books"
   ]
  },
  {
   "cell_type": "code",
   "execution_count": 41,
   "metadata": {},
   "outputs": [
    {
     "data": {
      "text/html": [
       "<div>\n",
       "<style scoped>\n",
       "    .dataframe tbody tr th:only-of-type {\n",
       "        vertical-align: middle;\n",
       "    }\n",
       "\n",
       "    .dataframe tbody tr th {\n",
       "        vertical-align: top;\n",
       "    }\n",
       "\n",
       "    .dataframe thead th {\n",
       "        text-align: right;\n",
       "    }\n",
       "</style>\n",
       "<table border=\"1\" class=\"dataframe\">\n",
       "  <thead>\n",
       "    <tr style=\"text-align: right;\">\n",
       "      <th></th>\n",
       "      <th>title</th>\n",
       "      <th>ratings_count</th>\n",
       "      <th>average_rating</th>\n",
       "    </tr>\n",
       "    <tr>\n",
       "      <th>book_id</th>\n",
       "      <th></th>\n",
       "      <th></th>\n",
       "      <th></th>\n",
       "    </tr>\n",
       "  </thead>\n",
       "  <tbody>\n",
       "    <tr>\n",
       "      <th>3628</th>\n",
       "      <td>The Complete Calvin and Hobbes</td>\n",
       "      <td>28900</td>\n",
       "      <td>4.82</td>\n",
       "    </tr>\n",
       "    <tr>\n",
       "      <th>3275</th>\n",
       "      <td>Harry Potter Boxed Set, Books 1-5 (Harry Potte...</td>\n",
       "      <td>33220</td>\n",
       "      <td>4.77</td>\n",
       "    </tr>\n",
       "    <tr>\n",
       "      <th>862</th>\n",
       "      <td>Words of Radiance (The Stormlight Archive, #2)</td>\n",
       "      <td>73572</td>\n",
       "      <td>4.77</td>\n",
       "    </tr>\n",
       "    <tr>\n",
       "      <th>8854</th>\n",
       "      <td>Mark of the Lion Trilogy</td>\n",
       "      <td>9081</td>\n",
       "      <td>4.76</td>\n",
       "    </tr>\n",
       "    <tr>\n",
       "      <th>7947</th>\n",
       "      <td>ESV Study Bible</td>\n",
       "      <td>8953</td>\n",
       "      <td>4.76</td>\n",
       "    </tr>\n",
       "  </tbody>\n",
       "</table>\n",
       "</div>"
      ],
      "text/plain": [
       "                                                     title  ratings_count  \\\n",
       "book_id                                                                     \n",
       "3628                        The Complete Calvin and Hobbes          28900   \n",
       "3275     Harry Potter Boxed Set, Books 1-5 (Harry Potte...          33220   \n",
       "862         Words of Radiance (The Stormlight Archive, #2)          73572   \n",
       "8854                              Mark of the Lion Trilogy           9081   \n",
       "7947                                       ESV Study Bible           8953   \n",
       "\n",
       "         average_rating  \n",
       "book_id                  \n",
       "3628               4.82  \n",
       "3275               4.77  \n",
       "862                4.77  \n",
       "8854               4.76  \n",
       "7947               4.76  "
      ]
     },
     "execution_count": 41,
     "metadata": {},
     "output_type": "execute_result"
    }
   ],
   "source": [
    "books.sort_values(\n",
    "    by='average_rating',\n",
    "    ascending=False\n",
    "    ).loc[: , ['title', 'ratings_count', 'average_rating']].head()"
   ]
  },
  {
   "cell_type": "markdown",
   "metadata": {},
   "source": [
    "#### Top popular (number of rate) from books"
   ]
  },
  {
   "cell_type": "code",
   "execution_count": 42,
   "metadata": {},
   "outputs": [
    {
     "data": {
      "text/html": [
       "<div>\n",
       "<style scoped>\n",
       "    .dataframe tbody tr th:only-of-type {\n",
       "        vertical-align: middle;\n",
       "    }\n",
       "\n",
       "    .dataframe tbody tr th {\n",
       "        vertical-align: top;\n",
       "    }\n",
       "\n",
       "    .dataframe thead th {\n",
       "        text-align: right;\n",
       "    }\n",
       "</style>\n",
       "<table border=\"1\" class=\"dataframe\">\n",
       "  <thead>\n",
       "    <tr style=\"text-align: right;\">\n",
       "      <th></th>\n",
       "      <th>title</th>\n",
       "      <th>ratings_count</th>\n",
       "      <th>average_rating</th>\n",
       "    </tr>\n",
       "    <tr>\n",
       "      <th>book_id</th>\n",
       "      <th></th>\n",
       "      <th></th>\n",
       "      <th></th>\n",
       "    </tr>\n",
       "  </thead>\n",
       "  <tbody>\n",
       "    <tr>\n",
       "      <th>1</th>\n",
       "      <td>The Hunger Games (The Hunger Games, #1)</td>\n",
       "      <td>4780653</td>\n",
       "      <td>4.34</td>\n",
       "    </tr>\n",
       "    <tr>\n",
       "      <th>2</th>\n",
       "      <td>Harry Potter and the Sorcerer's Stone (Harry P...</td>\n",
       "      <td>4602479</td>\n",
       "      <td>4.44</td>\n",
       "    </tr>\n",
       "    <tr>\n",
       "      <th>3</th>\n",
       "      <td>Twilight (Twilight, #1)</td>\n",
       "      <td>3866839</td>\n",
       "      <td>3.57</td>\n",
       "    </tr>\n",
       "    <tr>\n",
       "      <th>4</th>\n",
       "      <td>To Kill a Mockingbird</td>\n",
       "      <td>3198671</td>\n",
       "      <td>4.25</td>\n",
       "    </tr>\n",
       "    <tr>\n",
       "      <th>5</th>\n",
       "      <td>The Great Gatsby</td>\n",
       "      <td>2683664</td>\n",
       "      <td>3.89</td>\n",
       "    </tr>\n",
       "  </tbody>\n",
       "</table>\n",
       "</div>"
      ],
      "text/plain": [
       "                                                     title  ratings_count  \\\n",
       "book_id                                                                     \n",
       "1                  The Hunger Games (The Hunger Games, #1)        4780653   \n",
       "2        Harry Potter and the Sorcerer's Stone (Harry P...        4602479   \n",
       "3                                  Twilight (Twilight, #1)        3866839   \n",
       "4                                    To Kill a Mockingbird        3198671   \n",
       "5                                         The Great Gatsby        2683664   \n",
       "\n",
       "         average_rating  \n",
       "book_id                  \n",
       "1                  4.34  \n",
       "2                  4.44  \n",
       "3                  3.57  \n",
       "4                  4.25  \n",
       "5                  3.89  "
      ]
     },
     "execution_count": 42,
     "metadata": {},
     "output_type": "execute_result"
    }
   ],
   "source": [
    "books.sort_values(\n",
    "    by='ratings_count',\n",
    "    ascending=False\n",
    "    ).loc[: , ['title', 'ratings_count', 'average_rating']].head()"
   ]
  },
  {
   "cell_type": "markdown",
   "metadata": {},
   "source": [
    "#### ralation with ratings: only small correlations, mean rating not depend on meta-features\n"
   ]
  },
  {
   "cell_type": "code",
   "execution_count": 43,
   "metadata": {},
   "outputs": [],
   "source": [
    "books_corr = books[['books_count','original_publication_year',\n",
    "                   'average_rating','ratings_count','work_ratings_count',\n",
    "                   'work_text_reviews_count',\n",
    "                   'ratings_1', 'ratings_2', 'ratings_3', 'ratings_4', 'ratings_5']].corr()"
   ]
  },
  {
   "cell_type": "code",
   "execution_count": 44,
   "metadata": {},
   "outputs": [
    {
     "data": {
      "text/html": [
       "<style  type=\"text/css\" >\n",
       "#T_23c57228_0574_11ec_8dd9_349971db3977row0_col0,#T_23c57228_0574_11ec_8dd9_349971db3977row1_col1,#T_23c57228_0574_11ec_8dd9_349971db3977row2_col2,#T_23c57228_0574_11ec_8dd9_349971db3977row3_col3,#T_23c57228_0574_11ec_8dd9_349971db3977row4_col4,#T_23c57228_0574_11ec_8dd9_349971db3977row5_col5,#T_23c57228_0574_11ec_8dd9_349971db3977row6_col6,#T_23c57228_0574_11ec_8dd9_349971db3977row7_col7,#T_23c57228_0574_11ec_8dd9_349971db3977row8_col8,#T_23c57228_0574_11ec_8dd9_349971db3977row9_col9,#T_23c57228_0574_11ec_8dd9_349971db3977row10_col10{\n",
       "            background-color:  #b40426;\n",
       "            color:  #f1f1f1;\n",
       "        }#T_23c57228_0574_11ec_8dd9_349971db3977row0_col1,#T_23c57228_0574_11ec_8dd9_349971db3977row1_col0,#T_23c57228_0574_11ec_8dd9_349971db3977row1_col3,#T_23c57228_0574_11ec_8dd9_349971db3977row1_col4,#T_23c57228_0574_11ec_8dd9_349971db3977row1_col9,#T_23c57228_0574_11ec_8dd9_349971db3977row1_col10,#T_23c57228_0574_11ec_8dd9_349971db3977row2_col5,#T_23c57228_0574_11ec_8dd9_349971db3977row2_col6,#T_23c57228_0574_11ec_8dd9_349971db3977row2_col7,#T_23c57228_0574_11ec_8dd9_349971db3977row2_col8,#T_23c57228_0574_11ec_8dd9_349971db3977row7_col2{\n",
       "            background-color:  #3b4cc0;\n",
       "            color:  #f1f1f1;\n",
       "        }#T_23c57228_0574_11ec_8dd9_349971db3977row0_col2{\n",
       "            background-color:  #465ecf;\n",
       "            color:  #f1f1f1;\n",
       "        }#T_23c57228_0574_11ec_8dd9_349971db3977row0_col3{\n",
       "            background-color:  #adc9fd;\n",
       "            color:  #000000;\n",
       "        }#T_23c57228_0574_11ec_8dd9_349971db3977row0_col4{\n",
       "            background-color:  #afcafc;\n",
       "            color:  #000000;\n",
       "        }#T_23c57228_0574_11ec_8dd9_349971db3977row0_col5{\n",
       "            background-color:  #799cf8;\n",
       "            color:  #000000;\n",
       "        }#T_23c57228_0574_11ec_8dd9_349971db3977row0_col6{\n",
       "            background-color:  #98b9ff;\n",
       "            color:  #000000;\n",
       "        }#T_23c57228_0574_11ec_8dd9_349971db3977row0_col7{\n",
       "            background-color:  #c1d4f4;\n",
       "            color:  #000000;\n",
       "        }#T_23c57228_0574_11ec_8dd9_349971db3977row0_col8{\n",
       "            background-color:  #c6d6f1;\n",
       "            color:  #000000;\n",
       "        }#T_23c57228_0574_11ec_8dd9_349971db3977row0_col9{\n",
       "            background-color:  #b5cdfa;\n",
       "            color:  #000000;\n",
       "        }#T_23c57228_0574_11ec_8dd9_349971db3977row0_col10{\n",
       "            background-color:  #9bbcff;\n",
       "            color:  #000000;\n",
       "        }#T_23c57228_0574_11ec_8dd9_349971db3977row1_col2{\n",
       "            background-color:  #5f7fe8;\n",
       "            color:  #000000;\n",
       "        }#T_23c57228_0574_11ec_8dd9_349971db3977row1_col5,#T_23c57228_0574_11ec_8dd9_349971db3977row1_col8{\n",
       "            background-color:  #4055c8;\n",
       "            color:  #f1f1f1;\n",
       "        }#T_23c57228_0574_11ec_8dd9_349971db3977row1_col6{\n",
       "            background-color:  #4a63d3;\n",
       "            color:  #f1f1f1;\n",
       "        }#T_23c57228_0574_11ec_8dd9_349971db3977row1_col7,#T_23c57228_0574_11ec_8dd9_349971db3977row2_col3,#T_23c57228_0574_11ec_8dd9_349971db3977row2_col4{\n",
       "            background-color:  #4f69d9;\n",
       "            color:  #000000;\n",
       "        }#T_23c57228_0574_11ec_8dd9_349971db3977row2_col0{\n",
       "            background-color:  #779af7;\n",
       "            color:  #000000;\n",
       "        }#T_23c57228_0574_11ec_8dd9_349971db3977row2_col1{\n",
       "            background-color:  #8fb1fe;\n",
       "            color:  #000000;\n",
       "        }#T_23c57228_0574_11ec_8dd9_349971db3977row2_col9{\n",
       "            background-color:  #4c66d6;\n",
       "            color:  #000000;\n",
       "        }#T_23c57228_0574_11ec_8dd9_349971db3977row2_col10{\n",
       "            background-color:  #6282ea;\n",
       "            color:  #000000;\n",
       "        }#T_23c57228_0574_11ec_8dd9_349971db3977row3_col0{\n",
       "            background-color:  #dadce0;\n",
       "            color:  #000000;\n",
       "        }#T_23c57228_0574_11ec_8dd9_349971db3977row3_col1,#T_23c57228_0574_11ec_8dd9_349971db3977row4_col1,#T_23c57228_0574_11ec_8dd9_349971db3977row9_col1{\n",
       "            background-color:  #84a7fc;\n",
       "            color:  #000000;\n",
       "        }#T_23c57228_0574_11ec_8dd9_349971db3977row3_col2,#T_23c57228_0574_11ec_8dd9_349971db3977row4_col2{\n",
       "            background-color:  #6788ee;\n",
       "            color:  #000000;\n",
       "        }#T_23c57228_0574_11ec_8dd9_349971db3977row3_col4,#T_23c57228_0574_11ec_8dd9_349971db3977row4_col3{\n",
       "            background-color:  #b50927;\n",
       "            color:  #f1f1f1;\n",
       "        }#T_23c57228_0574_11ec_8dd9_349971db3977row3_col5{\n",
       "            background-color:  #f18d6f;\n",
       "            color:  #000000;\n",
       "        }#T_23c57228_0574_11ec_8dd9_349971db3977row3_col6{\n",
       "            background-color:  #f59c7d;\n",
       "            color:  #000000;\n",
       "        }#T_23c57228_0574_11ec_8dd9_349971db3977row3_col7{\n",
       "            background-color:  #e16751;\n",
       "            color:  #000000;\n",
       "        }#T_23c57228_0574_11ec_8dd9_349971db3977row3_col8{\n",
       "            background-color:  #ca3b37;\n",
       "            color:  #f1f1f1;\n",
       "        }#T_23c57228_0574_11ec_8dd9_349971db3977row3_col9,#T_23c57228_0574_11ec_8dd9_349971db3977row9_col3{\n",
       "            background-color:  #bb1b2c;\n",
       "            color:  #f1f1f1;\n",
       "        }#T_23c57228_0574_11ec_8dd9_349971db3977row3_col10{\n",
       "            background-color:  #c12b30;\n",
       "            color:  #f1f1f1;\n",
       "        }#T_23c57228_0574_11ec_8dd9_349971db3977row4_col0{\n",
       "            background-color:  #dbdcde;\n",
       "            color:  #000000;\n",
       "        }#T_23c57228_0574_11ec_8dd9_349971db3977row4_col5,#T_23c57228_0574_11ec_8dd9_349971db3977row6_col8{\n",
       "            background-color:  #ec8165;\n",
       "            color:  #000000;\n",
       "        }#T_23c57228_0574_11ec_8dd9_349971db3977row4_col6{\n",
       "            background-color:  #f59d7e;\n",
       "            color:  #000000;\n",
       "        }#T_23c57228_0574_11ec_8dd9_349971db3977row4_col7{\n",
       "            background-color:  #e0654f;\n",
       "            color:  #000000;\n",
       "        }#T_23c57228_0574_11ec_8dd9_349971db3977row4_col8,#T_23c57228_0574_11ec_8dd9_349971db3977row8_col4{\n",
       "            background-color:  #c83836;\n",
       "            color:  #f1f1f1;\n",
       "        }#T_23c57228_0574_11ec_8dd9_349971db3977row4_col9,#T_23c57228_0574_11ec_8dd9_349971db3977row9_col4{\n",
       "            background-color:  #b8122a;\n",
       "            color:  #f1f1f1;\n",
       "        }#T_23c57228_0574_11ec_8dd9_349971db3977row4_col10,#T_23c57228_0574_11ec_8dd9_349971db3977row10_col3,#T_23c57228_0574_11ec_8dd9_349971db3977row10_col4{\n",
       "            background-color:  #c0282f;\n",
       "            color:  #f1f1f1;\n",
       "        }#T_23c57228_0574_11ec_8dd9_349971db3977row5_col0{\n",
       "            background-color:  #bed2f6;\n",
       "            color:  #000000;\n",
       "        }#T_23c57228_0574_11ec_8dd9_349971db3977row5_col1{\n",
       "            background-color:  #92b4fe;\n",
       "            color:  #000000;\n",
       "        }#T_23c57228_0574_11ec_8dd9_349971db3977row5_col2{\n",
       "            background-color:  #5d7ce6;\n",
       "            color:  #000000;\n",
       "        }#T_23c57228_0574_11ec_8dd9_349971db3977row5_col3{\n",
       "            background-color:  #f08b6e;\n",
       "            color:  #000000;\n",
       "        }#T_23c57228_0574_11ec_8dd9_349971db3977row5_col4,#T_23c57228_0574_11ec_8dd9_349971db3977row8_col6{\n",
       "            background-color:  #ec7f63;\n",
       "            color:  #000000;\n",
       "        }#T_23c57228_0574_11ec_8dd9_349971db3977row5_col6,#T_23c57228_0574_11ec_8dd9_349971db3977row6_col10{\n",
       "            background-color:  #f2cab5;\n",
       "            color:  #000000;\n",
       "        }#T_23c57228_0574_11ec_8dd9_349971db3977row5_col7,#T_23c57228_0574_11ec_8dd9_349971db3977row6_col3{\n",
       "            background-color:  #f6a283;\n",
       "            color:  #000000;\n",
       "        }#T_23c57228_0574_11ec_8dd9_349971db3977row5_col8{\n",
       "            background-color:  #f18f71;\n",
       "            color:  #000000;\n",
       "        }#T_23c57228_0574_11ec_8dd9_349971db3977row5_col9{\n",
       "            background-color:  #e97a5f;\n",
       "            color:  #000000;\n",
       "        }#T_23c57228_0574_11ec_8dd9_349971db3977row5_col10{\n",
       "            background-color:  #f29274;\n",
       "            color:  #000000;\n",
       "        }#T_23c57228_0574_11ec_8dd9_349971db3977row6_col0{\n",
       "            background-color:  #c5d6f2;\n",
       "            color:  #000000;\n",
       "        }#T_23c57228_0574_11ec_8dd9_349971db3977row6_col1{\n",
       "            background-color:  #85a8fc;\n",
       "            color:  #000000;\n",
       "        }#T_23c57228_0574_11ec_8dd9_349971db3977row6_col2{\n",
       "            background-color:  #445acc;\n",
       "            color:  #f1f1f1;\n",
       "        }#T_23c57228_0574_11ec_8dd9_349971db3977row6_col4{\n",
       "            background-color:  #f6a385;\n",
       "            color:  #000000;\n",
       "        }#T_23c57228_0574_11ec_8dd9_349971db3977row6_col5{\n",
       "            background-color:  #edd2c3;\n",
       "            color:  #000000;\n",
       "        }#T_23c57228_0574_11ec_8dd9_349971db3977row6_col7,#T_23c57228_0574_11ec_8dd9_349971db3977row8_col3,#T_23c57228_0574_11ec_8dd9_349971db3977row9_col10,#T_23c57228_0574_11ec_8dd9_349971db3977row10_col9{\n",
       "            background-color:  #cb3e38;\n",
       "            color:  #f1f1f1;\n",
       "        }#T_23c57228_0574_11ec_8dd9_349971db3977row6_col9{\n",
       "            background-color:  #f7b396;\n",
       "            color:  #000000;\n",
       "        }#T_23c57228_0574_11ec_8dd9_349971db3977row7_col0{\n",
       "            background-color:  #dcdddd;\n",
       "            color:  #000000;\n",
       "        }#T_23c57228_0574_11ec_8dd9_349971db3977row7_col1,#T_23c57228_0574_11ec_8dd9_349971db3977row8_col1{\n",
       "            background-color:  #80a3fa;\n",
       "            color:  #000000;\n",
       "        }#T_23c57228_0574_11ec_8dd9_349971db3977row7_col3{\n",
       "            background-color:  #e36c55;\n",
       "            color:  #000000;\n",
       "        }#T_23c57228_0574_11ec_8dd9_349971db3977row7_col4,#T_23c57228_0574_11ec_8dd9_349971db3977row9_col7{\n",
       "            background-color:  #e36b54;\n",
       "            color:  #000000;\n",
       "        }#T_23c57228_0574_11ec_8dd9_349971db3977row7_col5{\n",
       "            background-color:  #f7af91;\n",
       "            color:  #000000;\n",
       "        }#T_23c57228_0574_11ec_8dd9_349971db3977row7_col6{\n",
       "            background-color:  #cc403a;\n",
       "            color:  #f1f1f1;\n",
       "        }#T_23c57228_0574_11ec_8dd9_349971db3977row7_col8{\n",
       "            background-color:  #c53334;\n",
       "            color:  #f1f1f1;\n",
       "        }#T_23c57228_0574_11ec_8dd9_349971db3977row7_col9{\n",
       "            background-color:  #e57058;\n",
       "            color:  #000000;\n",
       "        }#T_23c57228_0574_11ec_8dd9_349971db3977row7_col10{\n",
       "            background-color:  #f7a98b;\n",
       "            color:  #000000;\n",
       "        }#T_23c57228_0574_11ec_8dd9_349971db3977row8_col0{\n",
       "            background-color:  #e5d8d1;\n",
       "            color:  #000000;\n",
       "        }#T_23c57228_0574_11ec_8dd9_349971db3977row8_col2{\n",
       "            background-color:  #485fd1;\n",
       "            color:  #f1f1f1;\n",
       "        }#T_23c57228_0574_11ec_8dd9_349971db3977row8_col5{\n",
       "            background-color:  #f39577;\n",
       "            color:  #000000;\n",
       "        }#T_23c57228_0574_11ec_8dd9_349971db3977row8_col7,#T_23c57228_0574_11ec_8dd9_349971db3977row8_col9,#T_23c57228_0574_11ec_8dd9_349971db3977row9_col8{\n",
       "            background-color:  #c43032;\n",
       "            color:  #f1f1f1;\n",
       "        }#T_23c57228_0574_11ec_8dd9_349971db3977row8_col10{\n",
       "            background-color:  #e8765c;\n",
       "            color:  #000000;\n",
       "        }#T_23c57228_0574_11ec_8dd9_349971db3977row9_col0{\n",
       "            background-color:  #dfdbd9;\n",
       "            color:  #000000;\n",
       "        }#T_23c57228_0574_11ec_8dd9_349971db3977row9_col2{\n",
       "            background-color:  #6485ec;\n",
       "            color:  #000000;\n",
       "        }#T_23c57228_0574_11ec_8dd9_349971db3977row9_col5{\n",
       "            background-color:  #ea7b60;\n",
       "            color:  #000000;\n",
       "        }#T_23c57228_0574_11ec_8dd9_349971db3977row9_col6{\n",
       "            background-color:  #f7ad90;\n",
       "            color:  #000000;\n",
       "        }#T_23c57228_0574_11ec_8dd9_349971db3977row10_col0{\n",
       "            background-color:  #d1dae9;\n",
       "            color:  #000000;\n",
       "        }#T_23c57228_0574_11ec_8dd9_349971db3977row10_col1{\n",
       "            background-color:  #86a9fc;\n",
       "            color:  #000000;\n",
       "        }#T_23c57228_0574_11ec_8dd9_349971db3977row10_col2{\n",
       "            background-color:  #7ea1fa;\n",
       "            color:  #000000;\n",
       "        }#T_23c57228_0574_11ec_8dd9_349971db3977row10_col5{\n",
       "            background-color:  #f39475;\n",
       "            color:  #000000;\n",
       "        }#T_23c57228_0574_11ec_8dd9_349971db3977row10_col6{\n",
       "            background-color:  #f5c4ac;\n",
       "            color:  #000000;\n",
       "        }#T_23c57228_0574_11ec_8dd9_349971db3977row10_col7{\n",
       "            background-color:  #f59f80;\n",
       "            color:  #000000;\n",
       "        }#T_23c57228_0574_11ec_8dd9_349971db3977row10_col8{\n",
       "            background-color:  #e67259;\n",
       "            color:  #000000;\n",
       "        }</style><table id=\"T_23c57228_0574_11ec_8dd9_349971db3977\" ><thead>    <tr>        <th class=\"blank level0\" ></th>        <th class=\"col_heading level0 col0\" >books_count</th>        <th class=\"col_heading level0 col1\" >original_publication_year</th>        <th class=\"col_heading level0 col2\" >average_rating</th>        <th class=\"col_heading level0 col3\" >ratings_count</th>        <th class=\"col_heading level0 col4\" >work_ratings_count</th>        <th class=\"col_heading level0 col5\" >work_text_reviews_count</th>        <th class=\"col_heading level0 col6\" >ratings_1</th>        <th class=\"col_heading level0 col7\" >ratings_2</th>        <th class=\"col_heading level0 col8\" >ratings_3</th>        <th class=\"col_heading level0 col9\" >ratings_4</th>        <th class=\"col_heading level0 col10\" >ratings_5</th>    </tr></thead><tbody>\n",
       "                <tr>\n",
       "                        <th id=\"T_23c57228_0574_11ec_8dd9_349971db3977level0_row0\" class=\"row_heading level0 row0\" >books_count</th>\n",
       "                        <td id=\"T_23c57228_0574_11ec_8dd9_349971db3977row0_col0\" class=\"data row0 col0\" >1.00</td>\n",
       "                        <td id=\"T_23c57228_0574_11ec_8dd9_349971db3977row0_col1\" class=\"data row0 col1\" >-0.32</td>\n",
       "                        <td id=\"T_23c57228_0574_11ec_8dd9_349971db3977row0_col2\" class=\"data row0 col2\" >-0.07</td>\n",
       "                        <td id=\"T_23c57228_0574_11ec_8dd9_349971db3977row0_col3\" class=\"data row0 col3\" >0.32</td>\n",
       "                        <td id=\"T_23c57228_0574_11ec_8dd9_349971db3977row0_col4\" class=\"data row0 col4\" >0.33</td>\n",
       "                        <td id=\"T_23c57228_0574_11ec_8dd9_349971db3977row0_col5\" class=\"data row0 col5\" >0.20</td>\n",
       "                        <td id=\"T_23c57228_0574_11ec_8dd9_349971db3977row0_col6\" class=\"data row0 col6\" >0.23</td>\n",
       "                        <td id=\"T_23c57228_0574_11ec_8dd9_349971db3977row0_col7\" class=\"data row0 col7\" >0.33</td>\n",
       "                        <td id=\"T_23c57228_0574_11ec_8dd9_349971db3977row0_col8\" class=\"data row0 col8\" >0.38</td>\n",
       "                        <td id=\"T_23c57228_0574_11ec_8dd9_349971db3977row0_col9\" class=\"data row0 col9\" >0.35</td>\n",
       "                        <td id=\"T_23c57228_0574_11ec_8dd9_349971db3977row0_col10\" class=\"data row0 col10\" >0.28</td>\n",
       "            </tr>\n",
       "            <tr>\n",
       "                        <th id=\"T_23c57228_0574_11ec_8dd9_349971db3977level0_row1\" class=\"row_heading level0 row1\" >original_publication_year</th>\n",
       "                        <td id=\"T_23c57228_0574_11ec_8dd9_349971db3977row1_col0\" class=\"data row1 col0\" >-0.32</td>\n",
       "                        <td id=\"T_23c57228_0574_11ec_8dd9_349971db3977row1_col1\" class=\"data row1 col1\" >1.00</td>\n",
       "                        <td id=\"T_23c57228_0574_11ec_8dd9_349971db3977row1_col2\" class=\"data row1 col2\" >0.02</td>\n",
       "                        <td id=\"T_23c57228_0574_11ec_8dd9_349971db3977row1_col3\" class=\"data row1 col3\" >-0.02</td>\n",
       "                        <td id=\"T_23c57228_0574_11ec_8dd9_349971db3977row1_col4\" class=\"data row1 col4\" >-0.03</td>\n",
       "                        <td id=\"T_23c57228_0574_11ec_8dd9_349971db3977row1_col5\" class=\"data row1 col5\" >0.03</td>\n",
       "                        <td id=\"T_23c57228_0574_11ec_8dd9_349971db3977row1_col6\" class=\"data row1 col6\" >-0.02</td>\n",
       "                        <td id=\"T_23c57228_0574_11ec_8dd9_349971db3977row1_col7\" class=\"data row1 col7\" >-0.04</td>\n",
       "                        <td id=\"T_23c57228_0574_11ec_8dd9_349971db3977row1_col8\" class=\"data row1 col8\" >-0.04</td>\n",
       "                        <td id=\"T_23c57228_0574_11ec_8dd9_349971db3977row1_col9\" class=\"data row1 col9\" >-0.03</td>\n",
       "                        <td id=\"T_23c57228_0574_11ec_8dd9_349971db3977row1_col10\" class=\"data row1 col10\" >-0.02</td>\n",
       "            </tr>\n",
       "            <tr>\n",
       "                        <th id=\"T_23c57228_0574_11ec_8dd9_349971db3977level0_row2\" class=\"row_heading level0 row2\" >average_rating</th>\n",
       "                        <td id=\"T_23c57228_0574_11ec_8dd9_349971db3977row2_col0\" class=\"data row2 col0\" >-0.07</td>\n",
       "                        <td id=\"T_23c57228_0574_11ec_8dd9_349971db3977row2_col1\" class=\"data row2 col1\" >0.02</td>\n",
       "                        <td id=\"T_23c57228_0574_11ec_8dd9_349971db3977row2_col2\" class=\"data row2 col2\" >1.00</td>\n",
       "                        <td id=\"T_23c57228_0574_11ec_8dd9_349971db3977row2_col3\" class=\"data row2 col3\" >0.04</td>\n",
       "                        <td id=\"T_23c57228_0574_11ec_8dd9_349971db3977row2_col4\" class=\"data row2 col4\" >0.05</td>\n",
       "                        <td id=\"T_23c57228_0574_11ec_8dd9_349971db3977row2_col5\" class=\"data row2 col5\" >0.01</td>\n",
       "                        <td id=\"T_23c57228_0574_11ec_8dd9_349971db3977row2_col6\" class=\"data row2 col6\" >-0.08</td>\n",
       "                        <td id=\"T_23c57228_0574_11ec_8dd9_349971db3977row2_col7\" class=\"data row2 col7\" >-0.12</td>\n",
       "                        <td id=\"T_23c57228_0574_11ec_8dd9_349971db3977row2_col8\" class=\"data row2 col8\" >-0.07</td>\n",
       "                        <td id=\"T_23c57228_0574_11ec_8dd9_349971db3977row2_col9\" class=\"data row2 col9\" >0.04</td>\n",
       "                        <td id=\"T_23c57228_0574_11ec_8dd9_349971db3977row2_col10\" class=\"data row2 col10\" >0.12</td>\n",
       "            </tr>\n",
       "            <tr>\n",
       "                        <th id=\"T_23c57228_0574_11ec_8dd9_349971db3977level0_row3\" class=\"row_heading level0 row3\" >ratings_count</th>\n",
       "                        <td id=\"T_23c57228_0574_11ec_8dd9_349971db3977row3_col0\" class=\"data row3 col0\" >0.32</td>\n",
       "                        <td id=\"T_23c57228_0574_11ec_8dd9_349971db3977row3_col1\" class=\"data row3 col1\" >-0.02</td>\n",
       "                        <td id=\"T_23c57228_0574_11ec_8dd9_349971db3977row3_col2\" class=\"data row3 col2\" >0.04</td>\n",
       "                        <td id=\"T_23c57228_0574_11ec_8dd9_349971db3977row3_col3\" class=\"data row3 col3\" >1.00</td>\n",
       "                        <td id=\"T_23c57228_0574_11ec_8dd9_349971db3977row3_col4\" class=\"data row3 col4\" >1.00</td>\n",
       "                        <td id=\"T_23c57228_0574_11ec_8dd9_349971db3977row3_col5\" class=\"data row3 col5\" >0.78</td>\n",
       "                        <td id=\"T_23c57228_0574_11ec_8dd9_349971db3977row3_col6\" class=\"data row3 col6\" >0.72</td>\n",
       "                        <td id=\"T_23c57228_0574_11ec_8dd9_349971db3977row3_col7\" class=\"data row3 col7\" >0.85</td>\n",
       "                        <td id=\"T_23c57228_0574_11ec_8dd9_349971db3977row3_col8\" class=\"data row3 col8\" >0.94</td>\n",
       "                        <td id=\"T_23c57228_0574_11ec_8dd9_349971db3977row3_col9\" class=\"data row3 col9\" >0.98</td>\n",
       "                        <td id=\"T_23c57228_0574_11ec_8dd9_349971db3977row3_col10\" class=\"data row3 col10\" >0.96</td>\n",
       "            </tr>\n",
       "            <tr>\n",
       "                        <th id=\"T_23c57228_0574_11ec_8dd9_349971db3977level0_row4\" class=\"row_heading level0 row4\" >work_ratings_count</th>\n",
       "                        <td id=\"T_23c57228_0574_11ec_8dd9_349971db3977row4_col0\" class=\"data row4 col0\" >0.33</td>\n",
       "                        <td id=\"T_23c57228_0574_11ec_8dd9_349971db3977row4_col1\" class=\"data row4 col1\" >-0.03</td>\n",
       "                        <td id=\"T_23c57228_0574_11ec_8dd9_349971db3977row4_col2\" class=\"data row4 col2\" >0.05</td>\n",
       "                        <td id=\"T_23c57228_0574_11ec_8dd9_349971db3977row4_col3\" class=\"data row4 col3\" >1.00</td>\n",
       "                        <td id=\"T_23c57228_0574_11ec_8dd9_349971db3977row4_col4\" class=\"data row4 col4\" >1.00</td>\n",
       "                        <td id=\"T_23c57228_0574_11ec_8dd9_349971db3977row4_col5\" class=\"data row4 col5\" >0.81</td>\n",
       "                        <td id=\"T_23c57228_0574_11ec_8dd9_349971db3977row4_col6\" class=\"data row4 col6\" >0.72</td>\n",
       "                        <td id=\"T_23c57228_0574_11ec_8dd9_349971db3977row4_col7\" class=\"data row4 col7\" >0.85</td>\n",
       "                        <td id=\"T_23c57228_0574_11ec_8dd9_349971db3977row4_col8\" class=\"data row4 col8\" >0.94</td>\n",
       "                        <td id=\"T_23c57228_0574_11ec_8dd9_349971db3977row4_col9\" class=\"data row4 col9\" >0.99</td>\n",
       "                        <td id=\"T_23c57228_0574_11ec_8dd9_349971db3977row4_col10\" class=\"data row4 col10\" >0.97</td>\n",
       "            </tr>\n",
       "            <tr>\n",
       "                        <th id=\"T_23c57228_0574_11ec_8dd9_349971db3977level0_row5\" class=\"row_heading level0 row5\" >work_text_reviews_count</th>\n",
       "                        <td id=\"T_23c57228_0574_11ec_8dd9_349971db3977row5_col0\" class=\"data row5 col0\" >0.20</td>\n",
       "                        <td id=\"T_23c57228_0574_11ec_8dd9_349971db3977row5_col1\" class=\"data row5 col1\" >0.03</td>\n",
       "                        <td id=\"T_23c57228_0574_11ec_8dd9_349971db3977row5_col2\" class=\"data row5 col2\" >0.01</td>\n",
       "                        <td id=\"T_23c57228_0574_11ec_8dd9_349971db3977row5_col3\" class=\"data row5 col3\" >0.78</td>\n",
       "                        <td id=\"T_23c57228_0574_11ec_8dd9_349971db3977row5_col4\" class=\"data row5 col4\" >0.81</td>\n",
       "                        <td id=\"T_23c57228_0574_11ec_8dd9_349971db3977row5_col5\" class=\"data row5 col5\" >1.00</td>\n",
       "                        <td id=\"T_23c57228_0574_11ec_8dd9_349971db3977row5_col6\" class=\"data row5 col6\" >0.57</td>\n",
       "                        <td id=\"T_23c57228_0574_11ec_8dd9_349971db3977row5_col7\" class=\"data row5 col7\" >0.70</td>\n",
       "                        <td id=\"T_23c57228_0574_11ec_8dd9_349971db3977row5_col8\" class=\"data row5 col8\" >0.76</td>\n",
       "                        <td id=\"T_23c57228_0574_11ec_8dd9_349971db3977row5_col9\" class=\"data row5 col9\" >0.82</td>\n",
       "                        <td id=\"T_23c57228_0574_11ec_8dd9_349971db3977row5_col10\" class=\"data row5 col10\" >0.76</td>\n",
       "            </tr>\n",
       "            <tr>\n",
       "                        <th id=\"T_23c57228_0574_11ec_8dd9_349971db3977level0_row6\" class=\"row_heading level0 row6\" >ratings_1</th>\n",
       "                        <td id=\"T_23c57228_0574_11ec_8dd9_349971db3977row6_col0\" class=\"data row6 col0\" >0.23</td>\n",
       "                        <td id=\"T_23c57228_0574_11ec_8dd9_349971db3977row6_col1\" class=\"data row6 col1\" >-0.02</td>\n",
       "                        <td id=\"T_23c57228_0574_11ec_8dd9_349971db3977row6_col2\" class=\"data row6 col2\" >-0.08</td>\n",
       "                        <td id=\"T_23c57228_0574_11ec_8dd9_349971db3977row6_col3\" class=\"data row6 col3\" >0.72</td>\n",
       "                        <td id=\"T_23c57228_0574_11ec_8dd9_349971db3977row6_col4\" class=\"data row6 col4\" >0.72</td>\n",
       "                        <td id=\"T_23c57228_0574_11ec_8dd9_349971db3977row6_col5\" class=\"data row6 col5\" >0.57</td>\n",
       "                        <td id=\"T_23c57228_0574_11ec_8dd9_349971db3977row6_col6\" class=\"data row6 col6\" >1.00</td>\n",
       "                        <td id=\"T_23c57228_0574_11ec_8dd9_349971db3977row6_col7\" class=\"data row6 col7\" >0.93</td>\n",
       "                        <td id=\"T_23c57228_0574_11ec_8dd9_349971db3977row6_col8\" class=\"data row6 col8\" >0.80</td>\n",
       "                        <td id=\"T_23c57228_0574_11ec_8dd9_349971db3977row6_col9\" class=\"data row6 col9\" >0.67</td>\n",
       "                        <td id=\"T_23c57228_0574_11ec_8dd9_349971db3977row6_col10\" class=\"data row6 col10\" >0.60</td>\n",
       "            </tr>\n",
       "            <tr>\n",
       "                        <th id=\"T_23c57228_0574_11ec_8dd9_349971db3977level0_row7\" class=\"row_heading level0 row7\" >ratings_2</th>\n",
       "                        <td id=\"T_23c57228_0574_11ec_8dd9_349971db3977row7_col0\" class=\"data row7 col0\" >0.33</td>\n",
       "                        <td id=\"T_23c57228_0574_11ec_8dd9_349971db3977row7_col1\" class=\"data row7 col1\" >-0.04</td>\n",
       "                        <td id=\"T_23c57228_0574_11ec_8dd9_349971db3977row7_col2\" class=\"data row7 col2\" >-0.12</td>\n",
       "                        <td id=\"T_23c57228_0574_11ec_8dd9_349971db3977row7_col3\" class=\"data row7 col3\" >0.85</td>\n",
       "                        <td id=\"T_23c57228_0574_11ec_8dd9_349971db3977row7_col4\" class=\"data row7 col4\" >0.85</td>\n",
       "                        <td id=\"T_23c57228_0574_11ec_8dd9_349971db3977row7_col5\" class=\"data row7 col5\" >0.70</td>\n",
       "                        <td id=\"T_23c57228_0574_11ec_8dd9_349971db3977row7_col6\" class=\"data row7 col6\" >0.93</td>\n",
       "                        <td id=\"T_23c57228_0574_11ec_8dd9_349971db3977row7_col7\" class=\"data row7 col7\" >1.00</td>\n",
       "                        <td id=\"T_23c57228_0574_11ec_8dd9_349971db3977row7_col8\" class=\"data row7 col8\" >0.95</td>\n",
       "                        <td id=\"T_23c57228_0574_11ec_8dd9_349971db3977row7_col9\" class=\"data row7 col9\" >0.84</td>\n",
       "                        <td id=\"T_23c57228_0574_11ec_8dd9_349971db3977row7_col10\" class=\"data row7 col10\" >0.71</td>\n",
       "            </tr>\n",
       "            <tr>\n",
       "                        <th id=\"T_23c57228_0574_11ec_8dd9_349971db3977level0_row8\" class=\"row_heading level0 row8\" >ratings_3</th>\n",
       "                        <td id=\"T_23c57228_0574_11ec_8dd9_349971db3977row8_col0\" class=\"data row8 col0\" >0.38</td>\n",
       "                        <td id=\"T_23c57228_0574_11ec_8dd9_349971db3977row8_col1\" class=\"data row8 col1\" >-0.04</td>\n",
       "                        <td id=\"T_23c57228_0574_11ec_8dd9_349971db3977row8_col2\" class=\"data row8 col2\" >-0.07</td>\n",
       "                        <td id=\"T_23c57228_0574_11ec_8dd9_349971db3977row8_col3\" class=\"data row8 col3\" >0.94</td>\n",
       "                        <td id=\"T_23c57228_0574_11ec_8dd9_349971db3977row8_col4\" class=\"data row8 col4\" >0.94</td>\n",
       "                        <td id=\"T_23c57228_0574_11ec_8dd9_349971db3977row8_col5\" class=\"data row8 col5\" >0.76</td>\n",
       "                        <td id=\"T_23c57228_0574_11ec_8dd9_349971db3977row8_col6\" class=\"data row8 col6\" >0.80</td>\n",
       "                        <td id=\"T_23c57228_0574_11ec_8dd9_349971db3977row8_col7\" class=\"data row8 col7\" >0.95</td>\n",
       "                        <td id=\"T_23c57228_0574_11ec_8dd9_349971db3977row8_col8\" class=\"data row8 col8\" >1.00</td>\n",
       "                        <td id=\"T_23c57228_0574_11ec_8dd9_349971db3977row8_col9\" class=\"data row8 col9\" >0.95</td>\n",
       "                        <td id=\"T_23c57228_0574_11ec_8dd9_349971db3977row8_col10\" class=\"data row8 col10\" >0.83</td>\n",
       "            </tr>\n",
       "            <tr>\n",
       "                        <th id=\"T_23c57228_0574_11ec_8dd9_349971db3977level0_row9\" class=\"row_heading level0 row9\" >ratings_4</th>\n",
       "                        <td id=\"T_23c57228_0574_11ec_8dd9_349971db3977row9_col0\" class=\"data row9 col0\" >0.35</td>\n",
       "                        <td id=\"T_23c57228_0574_11ec_8dd9_349971db3977row9_col1\" class=\"data row9 col1\" >-0.03</td>\n",
       "                        <td id=\"T_23c57228_0574_11ec_8dd9_349971db3977row9_col2\" class=\"data row9 col2\" >0.04</td>\n",
       "                        <td id=\"T_23c57228_0574_11ec_8dd9_349971db3977row9_col3\" class=\"data row9 col3\" >0.98</td>\n",
       "                        <td id=\"T_23c57228_0574_11ec_8dd9_349971db3977row9_col4\" class=\"data row9 col4\" >0.99</td>\n",
       "                        <td id=\"T_23c57228_0574_11ec_8dd9_349971db3977row9_col5\" class=\"data row9 col5\" >0.82</td>\n",
       "                        <td id=\"T_23c57228_0574_11ec_8dd9_349971db3977row9_col6\" class=\"data row9 col6\" >0.67</td>\n",
       "                        <td id=\"T_23c57228_0574_11ec_8dd9_349971db3977row9_col7\" class=\"data row9 col7\" >0.84</td>\n",
       "                        <td id=\"T_23c57228_0574_11ec_8dd9_349971db3977row9_col8\" class=\"data row9 col8\" >0.95</td>\n",
       "                        <td id=\"T_23c57228_0574_11ec_8dd9_349971db3977row9_col9\" class=\"data row9 col9\" >1.00</td>\n",
       "                        <td id=\"T_23c57228_0574_11ec_8dd9_349971db3977row9_col10\" class=\"data row9 col10\" >0.93</td>\n",
       "            </tr>\n",
       "            <tr>\n",
       "                        <th id=\"T_23c57228_0574_11ec_8dd9_349971db3977level0_row10\" class=\"row_heading level0 row10\" >ratings_5</th>\n",
       "                        <td id=\"T_23c57228_0574_11ec_8dd9_349971db3977row10_col0\" class=\"data row10 col0\" >0.28</td>\n",
       "                        <td id=\"T_23c57228_0574_11ec_8dd9_349971db3977row10_col1\" class=\"data row10 col1\" >-0.02</td>\n",
       "                        <td id=\"T_23c57228_0574_11ec_8dd9_349971db3977row10_col2\" class=\"data row10 col2\" >0.12</td>\n",
       "                        <td id=\"T_23c57228_0574_11ec_8dd9_349971db3977row10_col3\" class=\"data row10 col3\" >0.96</td>\n",
       "                        <td id=\"T_23c57228_0574_11ec_8dd9_349971db3977row10_col4\" class=\"data row10 col4\" >0.97</td>\n",
       "                        <td id=\"T_23c57228_0574_11ec_8dd9_349971db3977row10_col5\" class=\"data row10 col5\" >0.76</td>\n",
       "                        <td id=\"T_23c57228_0574_11ec_8dd9_349971db3977row10_col6\" class=\"data row10 col6\" >0.60</td>\n",
       "                        <td id=\"T_23c57228_0574_11ec_8dd9_349971db3977row10_col7\" class=\"data row10 col7\" >0.71</td>\n",
       "                        <td id=\"T_23c57228_0574_11ec_8dd9_349971db3977row10_col8\" class=\"data row10 col8\" >0.83</td>\n",
       "                        <td id=\"T_23c57228_0574_11ec_8dd9_349971db3977row10_col9\" class=\"data row10 col9\" >0.93</td>\n",
       "                        <td id=\"T_23c57228_0574_11ec_8dd9_349971db3977row10_col10\" class=\"data row10 col10\" >1.00</td>\n",
       "            </tr>\n",
       "    </tbody></table>"
      ],
      "text/plain": [
       "<pandas.io.formats.style.Styler at 0x1f583ce5820>"
      ]
     },
     "execution_count": 44,
     "metadata": {},
     "output_type": "execute_result"
    }
   ],
   "source": [
    "books_corr.style.background_gradient(cmap='coolwarm').set_precision(2)"
   ]
  },
  {
   "cell_type": "code",
   "execution_count": 45,
   "metadata": {},
   "outputs": [
    {
     "data": {
      "image/png": "[encoded data removed]",
      "text/plain": [
       "<Figure size 864x576 with 2 Axes>"
      ]
     },
     "metadata": {
      "needs_background": "light"
     },
     "output_type": "display_data"
    }
   ],
   "source": [
    "mask = np.zeros_like(books_corr, dtype=bool)\n",
    "mask[np.triu_indices_from(mask)] = 1\n",
    "plt.figure(figsize=(12, 8))\n",
    "sns.heatmap(books_corr, \n",
    "#             xticklabels=books_corr.columns.values,\n",
    "#             yticklabels=books_corr.columns.values,\n",
    "            mask=mask,\n",
    "            annot=True\n",
    "           );"
   ]
  },
  {
   "cell_type": "markdown",
   "metadata": {},
   "source": [
    "- relationship between rating_count and average_rating: only 0.04, meaning even when books are popular, avg ratings doesn't get better"
   ]
  },
  {
   "cell_type": "code",
   "execution_count": 46,
   "metadata": {},
   "outputs": [
    {
     "data": {
      "image/png": "[encoded data removed]",
      "text/plain": [
       "<Figure size 432x288 with 1 Axes>"
      ]
     },
     "metadata": {
      "needs_background": "light"
     },
     "output_type": "display_data"
    }
   ],
   "source": [
    "ax = sns.regplot(x='ratings_count', y='average_rating', \n",
    "            data=books,\n",
    "            line_kws={'color':'cyan'}, \n",
    "            \n",
    "           )"
   ]
  },
  {
   "cell_type": "markdown",
   "metadata": {},
   "source": [
    "- book_count -- multiple editions of each book: assume more editions, the book is more popular and better. But in fact, more editions, book has lower avg rating. reason might be due to with more editions, books go to different langauge, quality of the book and culture from different users make them lower"
   ]
  },
  {
   "cell_type": "code",
   "execution_count": 47,
   "metadata": {},
   "outputs": [
    {
     "data": {
      "image/png": "[encoded data removed]",
      "text/plain": [
       "<Figure size 432x288 with 1 Axes>"
      ]
     },
     "metadata": {
      "needs_background": "light"
     },
     "output_type": "display_data"
    }
   ],
   "source": [
    "r2 = stats.linregress(books['books_count'], books['average_rating'])[2]\n",
    "ax = sns.regplot(x='books_count', y='average_rating', \n",
    "            data=books,\n",
    "            line_kws={'color':'cyan', 'label': r2}, \n",
    "           )\n"
   ]
  },
  {
   "cell_type": "markdown",
   "metadata": {},
   "source": [
    "- frequent raters rate lower, reason may be they are more critical when the more they read, with r2 -0.08 "
   ]
  },
  {
   "cell_type": "code",
   "execution_count": 48,
   "metadata": {},
   "outputs": [
    {
     "name": "stdout",
     "output_type": "stream",
     "text": [
      "-0.08253402126338476\n"
     ]
    },
    {
     "data": {
      "image/png": "[encoded data removed]",
      "text/plain": [
       "<Figure size 432x288 with 1 Axes>"
      ]
     },
     "metadata": {
      "needs_background": "light"
     },
     "output_type": "display_data"
    }
   ],
   "source": [
    "r2 = stats.linregress(ratings.groupby('user_id')['user_id'].count(), ratings.groupby('user_id')['rating'].mean())[2]\n",
    "print(r2)\n",
    "ax = sns.regplot(x=ratings.groupby('user_id')['user_id'].count(),\n",
    "                 y=ratings.groupby('user_id')['rating'].mean(), \n",
    "#                 data=books,\n",
    "            line_kws={'color':'cyan'}, \n",
    "           )\n",
    "ax.set(xlabel='number of rating per user', ylabel='mean rating per user');"
   ]
  },
  {
   "cell_type": "markdown",
   "metadata": {},
   "source": [
    "#### To Read \n",
    "generate feature on books:\n",
    "- number of people wants to read the book"
   ]
  },
  {
   "cell_type": "code",
   "execution_count": 49,
   "metadata": {},
   "outputs": [],
   "source": [
    "to_r = to_read.merge(books.title, on='book_id')"
   ]
  },
  {
   "cell_type": "code",
   "execution_count": 50,
   "metadata": {},
   "outputs": [],
   "source": [
    "books['n_user_to_read'] = to_read.groupby('book_id').book_id.count()\n",
    "books['n_user_to_read'].fillna(0, inplace=True)"
   ]
  },
  {
   "cell_type": "code",
   "execution_count": 51,
   "metadata": {},
   "outputs": [
    {
     "data": {
      "image/png": "[encoded data removed]",
      "text/plain": [
       "<Figure size 360x360 with 1 Axes>"
      ]
     },
     "metadata": {
      "needs_background": "light"
     },
     "output_type": "display_data"
    }
   ],
   "source": [
    "sns.displot(\n",
    "    to_read.groupby('user_id').count(),\n",
    "    x='book_id',\n",
    "    bins=115\n",
    ");"
   ]
  },
  {
   "cell_type": "code",
   "execution_count": 52,
   "metadata": {},
   "outputs": [
    {
     "data": {
      "image/png": "[encoded data removed]",
      "text/plain": [
       "<Figure size 360x360 with 1 Axes>"
      ]
     },
     "metadata": {
      "needs_background": "light"
     },
     "output_type": "display_data"
    }
   ],
   "source": [
    "sns.displot(\n",
    "    to_r.groupby('book_id').count(),\n",
    "    x='title',\n",
    "    bins=115\n",
    ");"
   ]
  },
  {
   "cell_type": "markdown",
   "metadata": {},
   "source": [
    "## 2. Basic recommender\n",
    "\n",
    "Overal recommendations based on global rating scores and popularity. Idea is books that are more popular will have higher probability to be universally liked and hence recommend. Not personalized."
   ]
  },
  {
   "cell_type": "markdown",
   "metadata": {},
   "source": [
    "### 2.1. Top Rated books: \n",
    "- weighted rating = vR/(v+m)+mC/(v+m) from IMDB   \n",
    "v = number of rating  \n",
    "m = min ratings required  \n",
    "R = avg rating of the book  \n",
    "C = mean rating acorss all the books  "
   ]
  },
  {
   "cell_type": "code",
   "execution_count": 53,
   "metadata": {},
   "outputs": [],
   "source": [
    "def weighted_rating(df):\n",
    "    v = df['ratings_count']\n",
    "    m = df['ratings_count'].quantile(0.95) # rating count > 95%\n",
    "    R = df['average_rating']\n",
    "    C = df['average_rating'].mean()\n",
    "    WR = (v*R + m*C) / (v + m)\n",
    "    return WR"
   ]
  },
  {
   "cell_type": "code",
   "execution_count": 54,
   "metadata": {},
   "outputs": [],
   "source": [
    "books['weighted_rating'] = weighted_rating(books)\n",
    "top_rated_books = books.sort_values('weighted_rating', ascending=False)"
   ]
  },
  {
   "cell_type": "code",
   "execution_count": 55,
   "metadata": {},
   "outputs": [
    {
     "data": {
      "text/html": [
       "<div>\n",
       "<style scoped>\n",
       "    .dataframe tbody tr th:only-of-type {\n",
       "        vertical-align: middle;\n",
       "    }\n",
       "\n",
       "    .dataframe tbody tr th {\n",
       "        vertical-align: top;\n",
       "    }\n",
       "\n",
       "    .dataframe thead th {\n",
       "        text-align: right;\n",
       "    }\n",
       "</style>\n",
       "<table border=\"1\" class=\"dataframe\">\n",
       "  <thead>\n",
       "    <tr style=\"text-align: right;\">\n",
       "      <th></th>\n",
       "      <th>title</th>\n",
       "      <th>authors</th>\n",
       "      <th>average_rating</th>\n",
       "      <th>weighted_rating</th>\n",
       "      <th>ratings_count</th>\n",
       "    </tr>\n",
       "    <tr>\n",
       "      <th>book_id</th>\n",
       "      <th></th>\n",
       "      <th></th>\n",
       "      <th></th>\n",
       "      <th></th>\n",
       "      <th></th>\n",
       "    </tr>\n",
       "  </thead>\n",
       "  <tbody>\n",
       "    <tr>\n",
       "      <th>25</th>\n",
       "      <td>Harry Potter and the Deathly Hallows (Harry Po...</td>\n",
       "      <td>J.K. Rowling, Mary GrandPré</td>\n",
       "      <td>4.61</td>\n",
       "      <td>4.555956</td>\n",
       "      <td>1746574</td>\n",
       "    </tr>\n",
       "    <tr>\n",
       "      <th>27</th>\n",
       "      <td>Harry Potter and the Half-Blood Prince (Harry ...</td>\n",
       "      <td>J.K. Rowling, Mary GrandPré</td>\n",
       "      <td>4.54</td>\n",
       "      <td>4.490428</td>\n",
       "      <td>1678823</td>\n",
       "    </tr>\n",
       "    <tr>\n",
       "      <th>18</th>\n",
       "      <td>Harry Potter and the Prisoner of Azkaban (Harr...</td>\n",
       "      <td>J.K. Rowling, Mary GrandPré, Rufus Beck</td>\n",
       "      <td>4.53</td>\n",
       "      <td>4.485090</td>\n",
       "      <td>1832823</td>\n",
       "    </tr>\n",
       "    <tr>\n",
       "      <th>24</th>\n",
       "      <td>Harry Potter and the Goblet of Fire (Harry Pot...</td>\n",
       "      <td>J.K. Rowling, Mary GrandPré</td>\n",
       "      <td>4.53</td>\n",
       "      <td>4.483227</td>\n",
       "      <td>1753043</td>\n",
       "    </tr>\n",
       "    <tr>\n",
       "      <th>2</th>\n",
       "      <td>Harry Potter and the Sorcerer's Stone (Harry P...</td>\n",
       "      <td>J.K. Rowling, Mary GrandPré</td>\n",
       "      <td>4.44</td>\n",
       "      <td>4.424365</td>\n",
       "      <td>4602479</td>\n",
       "    </tr>\n",
       "  </tbody>\n",
       "</table>\n",
       "</div>"
      ],
      "text/plain": [
       "                                                     title  \\\n",
       "book_id                                                      \n",
       "25       Harry Potter and the Deathly Hallows (Harry Po...   \n",
       "27       Harry Potter and the Half-Blood Prince (Harry ...   \n",
       "18       Harry Potter and the Prisoner of Azkaban (Harr...   \n",
       "24       Harry Potter and the Goblet of Fire (Harry Pot...   \n",
       "2        Harry Potter and the Sorcerer's Stone (Harry P...   \n",
       "\n",
       "                                         authors  average_rating  \\\n",
       "book_id                                                            \n",
       "25                   J.K. Rowling, Mary GrandPré            4.61   \n",
       "27                   J.K. Rowling, Mary GrandPré            4.54   \n",
       "18       J.K. Rowling, Mary GrandPré, Rufus Beck            4.53   \n",
       "24                   J.K. Rowling, Mary GrandPré            4.53   \n",
       "2                    J.K. Rowling, Mary GrandPré            4.44   \n",
       "\n",
       "         weighted_rating  ratings_count  \n",
       "book_id                                  \n",
       "25              4.555956        1746574  \n",
       "27              4.490428        1678823  \n",
       "18              4.485090        1832823  \n",
       "24              4.483227        1753043  \n",
       "2               4.424365        4602479  "
      ]
     },
     "execution_count": 55,
     "metadata": {},
     "output_type": "execute_result"
    }
   ],
   "source": [
    "top_rated_books[['title', 'authors', 'average_rating', 'weighted_rating', 'ratings_count']].head()"
   ]
  },
  {
   "cell_type": "markdown",
   "metadata": {},
   "source": [
    "### 2.2. Top Popular Books:"
   ]
  },
  {
   "cell_type": "code",
   "execution_count": 56,
   "metadata": {},
   "outputs": [
    {
     "data": {
      "text/html": [
       "<div>\n",
       "<style scoped>\n",
       "    .dataframe tbody tr th:only-of-type {\n",
       "        vertical-align: middle;\n",
       "    }\n",
       "\n",
       "    .dataframe tbody tr th {\n",
       "        vertical-align: top;\n",
       "    }\n",
       "\n",
       "    .dataframe thead th {\n",
       "        text-align: right;\n",
       "    }\n",
       "</style>\n",
       "<table border=\"1\" class=\"dataframe\">\n",
       "  <thead>\n",
       "    <tr style=\"text-align: right;\">\n",
       "      <th></th>\n",
       "      <th>title</th>\n",
       "      <th>authors</th>\n",
       "      <th>average_rating</th>\n",
       "      <th>ratings_count</th>\n",
       "    </tr>\n",
       "    <tr>\n",
       "      <th>book_id</th>\n",
       "      <th></th>\n",
       "      <th></th>\n",
       "      <th></th>\n",
       "      <th></th>\n",
       "    </tr>\n",
       "  </thead>\n",
       "  <tbody>\n",
       "    <tr>\n",
       "      <th>1</th>\n",
       "      <td>The Hunger Games (The Hunger Games, #1)</td>\n",
       "      <td>Suzanne Collins</td>\n",
       "      <td>4.34</td>\n",
       "      <td>4780653</td>\n",
       "    </tr>\n",
       "    <tr>\n",
       "      <th>2</th>\n",
       "      <td>Harry Potter and the Sorcerer's Stone (Harry P...</td>\n",
       "      <td>J.K. Rowling, Mary GrandPré</td>\n",
       "      <td>4.44</td>\n",
       "      <td>4602479</td>\n",
       "    </tr>\n",
       "    <tr>\n",
       "      <th>3</th>\n",
       "      <td>Twilight (Twilight, #1)</td>\n",
       "      <td>Stephenie Meyer</td>\n",
       "      <td>3.57</td>\n",
       "      <td>3866839</td>\n",
       "    </tr>\n",
       "    <tr>\n",
       "      <th>4</th>\n",
       "      <td>To Kill a Mockingbird</td>\n",
       "      <td>Harper Lee</td>\n",
       "      <td>4.25</td>\n",
       "      <td>3198671</td>\n",
       "    </tr>\n",
       "    <tr>\n",
       "      <th>5</th>\n",
       "      <td>The Great Gatsby</td>\n",
       "      <td>F. Scott Fitzgerald</td>\n",
       "      <td>3.89</td>\n",
       "      <td>2683664</td>\n",
       "    </tr>\n",
       "  </tbody>\n",
       "</table>\n",
       "</div>"
      ],
      "text/plain": [
       "                                                     title  \\\n",
       "book_id                                                      \n",
       "1                  The Hunger Games (The Hunger Games, #1)   \n",
       "2        Harry Potter and the Sorcerer's Stone (Harry P...   \n",
       "3                                  Twilight (Twilight, #1)   \n",
       "4                                    To Kill a Mockingbird   \n",
       "5                                         The Great Gatsby   \n",
       "\n",
       "                             authors  average_rating  ratings_count  \n",
       "book_id                                                              \n",
       "1                    Suzanne Collins            4.34        4780653  \n",
       "2        J.K. Rowling, Mary GrandPré            4.44        4602479  \n",
       "3                    Stephenie Meyer            3.57        3866839  \n",
       "4                         Harper Lee            4.25        3198671  \n",
       "5                F. Scott Fitzgerald            3.89        2683664  "
      ]
     },
     "execution_count": 56,
     "metadata": {},
     "output_type": "execute_result"
    }
   ],
   "source": [
    "top_popular_books = books.sort_values('ratings_count', ascending=False)\n",
    "top_popular_books[['title', 'authors', 'average_rating', 'ratings_count']].head()"
   ]
  },
  {
   "cell_type": "markdown",
   "metadata": {},
   "source": [
    "### 2.3. Top Genres Books:"
   ]
  },
  {
   "cell_type": "code",
   "execution_count": 57,
   "metadata": {},
   "outputs": [],
   "source": [
    "genres_built_in = built_in_book_tags.merge(built_in_tags, on='tag_id')"
   ]
  },
  {
   "cell_type": "code",
   "execution_count": 58,
   "metadata": {},
   "outputs": [],
   "source": [
    "def weighted_rating(df):\n",
    "    v = df['ratings_count']\n",
    "    m = df['ratings_count'].quantile(0.95) # rating count > 95%\n",
    "    R = df['average_rating']\n",
    "    C = df['average_rating'].mean()\n",
    "    WR = (v*R + m*C) / (v + m)\n",
    "    return WR"
   ]
  },
  {
   "cell_type": "code",
   "execution_count": 59,
   "metadata": {},
   "outputs": [
    {
     "data": {
      "text/html": [
       "<div>\n",
       "<style scoped>\n",
       "    .dataframe tbody tr th:only-of-type {\n",
       "        vertical-align: middle;\n",
       "    }\n",
       "\n",
       "    .dataframe tbody tr th {\n",
       "        vertical-align: top;\n",
       "    }\n",
       "\n",
       "    .dataframe thead th {\n",
       "        text-align: right;\n",
       "    }\n",
       "</style>\n",
       "<table border=\"1\" class=\"dataframe\">\n",
       "  <thead>\n",
       "    <tr style=\"text-align: right;\">\n",
       "      <th></th>\n",
       "      <th>tag_name</th>\n",
       "      <th>book_id</th>\n",
       "      <th>title</th>\n",
       "      <th>authors</th>\n",
       "      <th>average_rating</th>\n",
       "      <th>weighted_rating</th>\n",
       "      <th>ratings_count</th>\n",
       "    </tr>\n",
       "  </thead>\n",
       "  <tbody>\n",
       "    <tr>\n",
       "      <th>147</th>\n",
       "      <td>mystery</td>\n",
       "      <td>25</td>\n",
       "      <td>Harry Potter and the Deathly Hallows (Harry Po...</td>\n",
       "      <td>J.K. Rowling, Mary GrandPré</td>\n",
       "      <td>4.61</td>\n",
       "      <td>4.559742</td>\n",
       "      <td>1746574</td>\n",
       "    </tr>\n",
       "    <tr>\n",
       "      <th>146</th>\n",
       "      <td>paranormal</td>\n",
       "      <td>25</td>\n",
       "      <td>Harry Potter and the Deathly Hallows (Harry Po...</td>\n",
       "      <td>J.K. Rowling, Mary GrandPré</td>\n",
       "      <td>4.61</td>\n",
       "      <td>4.554666</td>\n",
       "      <td>1746574</td>\n",
       "    </tr>\n",
       "    <tr>\n",
       "      <th>144</th>\n",
       "      <td>fiction</td>\n",
       "      <td>25</td>\n",
       "      <td>Harry Potter and the Deathly Hallows (Harry Po...</td>\n",
       "      <td>J.K. Rowling, Mary GrandPré</td>\n",
       "      <td>4.61</td>\n",
       "      <td>4.553385</td>\n",
       "      <td>1746574</td>\n",
       "    </tr>\n",
       "    <tr>\n",
       "      <th>143</th>\n",
       "      <td>fantasy</td>\n",
       "      <td>25</td>\n",
       "      <td>Harry Potter and the Deathly Hallows (Harry Po...</td>\n",
       "      <td>J.K. Rowling, Mary GrandPré</td>\n",
       "      <td>4.61</td>\n",
       "      <td>4.553351</td>\n",
       "      <td>1746574</td>\n",
       "    </tr>\n",
       "    <tr>\n",
       "      <th>148</th>\n",
       "      <td>romance</td>\n",
       "      <td>25</td>\n",
       "      <td>Harry Potter and the Deathly Hallows (Harry Po...</td>\n",
       "      <td>J.K. Rowling, Mary GrandPré</td>\n",
       "      <td>4.61</td>\n",
       "      <td>4.551600</td>\n",
       "      <td>1746574</td>\n",
       "    </tr>\n",
       "  </tbody>\n",
       "</table>\n",
       "</div>"
      ],
      "text/plain": [
       "       tag_name  book_id                                              title  \\\n",
       "147     mystery       25  Harry Potter and the Deathly Hallows (Harry Po...   \n",
       "146  paranormal       25  Harry Potter and the Deathly Hallows (Harry Po...   \n",
       "144     fiction       25  Harry Potter and the Deathly Hallows (Harry Po...   \n",
       "143     fantasy       25  Harry Potter and the Deathly Hallows (Harry Po...   \n",
       "148     romance       25  Harry Potter and the Deathly Hallows (Harry Po...   \n",
       "\n",
       "                         authors  average_rating  weighted_rating  \\\n",
       "147  J.K. Rowling, Mary GrandPré            4.61         4.559742   \n",
       "146  J.K. Rowling, Mary GrandPré            4.61         4.554666   \n",
       "144  J.K. Rowling, Mary GrandPré            4.61         4.553385   \n",
       "143  J.K. Rowling, Mary GrandPré            4.61         4.553351   \n",
       "148  J.K. Rowling, Mary GrandPré            4.61         4.551600   \n",
       "\n",
       "     ratings_count  \n",
       "147        1746574  \n",
       "146        1746574  \n",
       "144        1746574  \n",
       "143        1746574  \n",
       "148        1746574  "
      ]
     },
     "execution_count": 59,
     "metadata": {},
     "output_type": "execute_result"
    }
   ],
   "source": [
    "books_genres = books.reset_index().merge(genres_built_in, on='goodreads_book_id')\\\n",
    "[['book_id', 'title', 'authors', 'tag_name', 'count', 'average_rating', 'ratings_count']]\n",
    "books_genres.rename(columns={'count': 'tag_count'}, inplace=True)\n",
    "books_genres['weighted_rating'] = books_genres.groupby('tag_name').apply(lambda x: weighted_rating(x)).reset_index([0])[0]\n",
    "top_rated_books_genres = books_genres.sort_values('weighted_rating', ascending=False)\n",
    "top_rated_books_genres[['tag_name', 'book_id', 'title', 'authors', 'average_rating',\\\n",
    "                  'weighted_rating', 'ratings_count']].head()"
   ]
  },
  {
   "cell_type": "markdown",
   "metadata": {},
   "source": [
    "- example"
   ]
  },
  {
   "cell_type": "code",
   "execution_count": 60,
   "metadata": {},
   "outputs": [
    {
     "data": {
      "text/html": [
       "<div>\n",
       "<style scoped>\n",
       "    .dataframe tbody tr th:only-of-type {\n",
       "        vertical-align: middle;\n",
       "    }\n",
       "\n",
       "    .dataframe tbody tr th {\n",
       "        vertical-align: top;\n",
       "    }\n",
       "\n",
       "    .dataframe thead th {\n",
       "        text-align: right;\n",
       "    }\n",
       "</style>\n",
       "<table border=\"1\" class=\"dataframe\">\n",
       "  <thead>\n",
       "    <tr style=\"text-align: right;\">\n",
       "      <th></th>\n",
       "      <th>book_id</th>\n",
       "      <th>title</th>\n",
       "      <th>authors</th>\n",
       "      <th>tag_name</th>\n",
       "      <th>tag_count</th>\n",
       "      <th>average_rating</th>\n",
       "      <th>ratings_count</th>\n",
       "      <th>weighted_rating</th>\n",
       "    </tr>\n",
       "  </thead>\n",
       "  <tbody>\n",
       "    <tr>\n",
       "      <th>144</th>\n",
       "      <td>25</td>\n",
       "      <td>Harry Potter and the Deathly Hallows (Harry Po...</td>\n",
       "      <td>J.K. Rowling, Mary GrandPré</td>\n",
       "      <td>fiction</td>\n",
       "      <td>10012</td>\n",
       "      <td>4.61</td>\n",
       "      <td>1746574</td>\n",
       "      <td>4.553385</td>\n",
       "    </tr>\n",
       "    <tr>\n",
       "      <th>163</th>\n",
       "      <td>27</td>\n",
       "      <td>Harry Potter and the Half-Blood Prince (Harry ...</td>\n",
       "      <td>J.K. Rowling, Mary GrandPré</td>\n",
       "      <td>fiction</td>\n",
       "      <td>9954</td>\n",
       "      <td>4.54</td>\n",
       "      <td>1678823</td>\n",
       "      <td>4.488034</td>\n",
       "    </tr>\n",
       "    <tr>\n",
       "      <th>99</th>\n",
       "      <td>18</td>\n",
       "      <td>Harry Potter and the Prisoner of Azkaban (Harr...</td>\n",
       "      <td>J.K. Rowling, Mary GrandPré, Rufus Beck</td>\n",
       "      <td>fiction</td>\n",
       "      <td>10656</td>\n",
       "      <td>4.53</td>\n",
       "      <td>1832823</td>\n",
       "      <td>4.482900</td>\n",
       "    </tr>\n",
       "    <tr>\n",
       "      <th>138</th>\n",
       "      <td>24</td>\n",
       "      <td>Harry Potter and the Goblet of Fire (Harry Pot...</td>\n",
       "      <td>J.K. Rowling, Mary GrandPré</td>\n",
       "      <td>fiction</td>\n",
       "      <td>10249</td>\n",
       "      <td>4.53</td>\n",
       "      <td>1753043</td>\n",
       "      <td>4.480954</td>\n",
       "    </tr>\n",
       "    <tr>\n",
       "      <th>8</th>\n",
       "      <td>2</td>\n",
       "      <td>Harry Potter and the Sorcerer's Stone (Harry P...</td>\n",
       "      <td>J.K. Rowling, Mary GrandPré</td>\n",
       "      <td>fiction</td>\n",
       "      <td>13239</td>\n",
       "      <td>4.44</td>\n",
       "      <td>4602479</td>\n",
       "      <td>4.423541</td>\n",
       "    </tr>\n",
       "  </tbody>\n",
       "</table>\n",
       "</div>"
      ],
      "text/plain": [
       "     book_id                                              title  \\\n",
       "144       25  Harry Potter and the Deathly Hallows (Harry Po...   \n",
       "163       27  Harry Potter and the Half-Blood Prince (Harry ...   \n",
       "99        18  Harry Potter and the Prisoner of Azkaban (Harr...   \n",
       "138       24  Harry Potter and the Goblet of Fire (Harry Pot...   \n",
       "8          2  Harry Potter and the Sorcerer's Stone (Harry P...   \n",
       "\n",
       "                                     authors tag_name  tag_count  \\\n",
       "144              J.K. Rowling, Mary GrandPré  fiction      10012   \n",
       "163              J.K. Rowling, Mary GrandPré  fiction       9954   \n",
       "99   J.K. Rowling, Mary GrandPré, Rufus Beck  fiction      10656   \n",
       "138              J.K. Rowling, Mary GrandPré  fiction      10249   \n",
       "8                J.K. Rowling, Mary GrandPré  fiction      13239   \n",
       "\n",
       "     average_rating  ratings_count  weighted_rating  \n",
       "144            4.61        1746574         4.553385  \n",
       "163            4.54        1678823         4.488034  \n",
       "99             4.53        1832823         4.482900  \n",
       "138            4.53        1753043         4.480954  \n",
       "8              4.44        4602479         4.423541  "
      ]
     },
     "execution_count": 60,
     "metadata": {},
     "output_type": "execute_result"
    }
   ],
   "source": [
    "top_rated_books_genres[top_rated_books_genres.tag_name == 'fiction'].head()"
   ]
  },
  {
   "cell_type": "markdown",
   "metadata": {},
   "source": [
    "## 3. Content-based Filtering\n",
    "- text features: title, authors, genres\n",
    "- calculate tfidf, and its cosine similarity"
   ]
  },
  {
   "cell_type": "markdown",
   "metadata": {},
   "source": [
    "- original features"
   ]
  },
  {
   "cell_type": "code",
   "execution_count": 61,
   "metadata": {},
   "outputs": [],
   "source": [
    "# original features\n",
    "books[['books_count', 'authors', 'original_publication_year', 'original_title',\n",
    "       'title', 'language_code', 'average_rating', 'ratings_count',\n",
    "       'work_ratings_count', 'work_text_reviews_count', 'weighted_rating']]\n",
    "# some transformation\n",
    "books['authors_list'] = books['authors'].apply(lambda x: [author.lower()\\\n",
    "                                                          for author in x.split(', ')])"
   ]
  },
  {
   "cell_type": "markdown",
   "metadata": {},
   "source": [
    "- generated features:  \n",
    "- genres_list"
   ]
  },
  {
   "cell_type": "code",
   "execution_count": 62,
   "metadata": {},
   "outputs": [],
   "source": [
    "# books['genres']\n",
    "books['genres_list'] = books_genres.groupby('book_id')['tag_name']\\\n",
    ".agg(genres_list=lambda x: [n for n in x])"
   ]
  },
  {
   "cell_type": "code",
   "execution_count": 63,
   "metadata": {},
   "outputs": [],
   "source": [
    "# title_authors_genres (books' text feature) mix-up\n",
    "books['title_authors_genres'] = books.apply(lambda x: ' '.join([x['title'].lower()] + x['authors_list'] + x['genres_list']), axis=1)"
   ]
  },
  {
   "cell_type": "code",
   "execution_count": 64,
   "metadata": {},
   "outputs": [],
   "source": [
    "# title_authors_genres_averagerating (books' text feature) mix-up\n",
    "books['title_authors_genres_rating'] = books.apply(lambda x: ' '.join([x['title'].lower()] + x['authors_list'] + x['genres_list'] + [str(x['average_rating'])]), axis=1)"
   ]
  },
  {
   "cell_type": "markdown",
   "metadata": {},
   "source": [
    "- tfidf"
   ]
  },
  {
   "cell_type": "code",
   "execution_count": 65,
   "metadata": {},
   "outputs": [
    {
     "name": "stderr",
     "output_type": "stream",
     "text": [
      "<ipython-input-65-caedacf853ba>:2: SettingWithCopyWarning: \n",
      "A value is trying to be set on a copy of a slice from a DataFrame.\n",
      "Try using .loc[row_indexer,col_indexer] = value instead\n",
      "\n",
      "See the caveats in the documentation: https://pandas.pydata.org/pandas-docs/stable/user_guide/indexing.html#returning-a-view-versus-a-copy\n",
      "  content['average_rating'] = content['average_rating'].astype(str)\n"
     ]
    }
   ],
   "source": [
    "content = books[['title', 'authors_list', 'genres_list', 'average_rating', 'title_authors_genres_rating' ]]\n",
    "content['average_rating'] = content['average_rating'].astype(str)"
   ]
  },
  {
   "cell_type": "code",
   "execution_count": 66,
   "metadata": {},
   "outputs": [],
   "source": [
    "tfidf = TfidfVectorizer(ngram_range=(1,2), tokenizer=word_tokenize)\n",
    "\n",
    "#Construct the required TF-IDF matrix by fitting and transforming the data\n",
    "tfidf_matrix = tfidf.fit_transform(content['title_authors_genres_rating'])\n",
    "content_tfidf_cos_similarity =  cosine_similarity(tfidf_matrix, tfidf_matrix)"
   ]
  },
  {
   "cell_type": "markdown",
   "metadata": {},
   "source": [
    "- count vectorizer"
   ]
  },
  {
   "cell_type": "code",
   "execution_count": 67,
   "metadata": {},
   "outputs": [],
   "source": [
    "count = CountVectorizer(analyzer='word',ngram_range=(1, 2),min_df=0, stop_words='english')\n",
    "cnt_matrix = count.fit_transform(books['title_authors_genres'])\n",
    "content_cnt_cos_similarity = cosine_similarity(cnt_matrix, cnt_matrix)\n",
    "title_idx = pd.Series(books.index, index=books['title'].str.lower())\n",
    "idx_title = books['title'].str.lower()"
   ]
  },
  {
   "cell_type": "code",
   "execution_count": 68,
   "metadata": {},
   "outputs": [],
   "source": [
    "def book_content_recommendation_cos(title, books=books,books_similarity=content_tfidf_cos_similarity, n=10, a=3):\n",
    "    \"\"\"\n",
    "    input: title -> books name in the books dataset\n",
    "            n -> number of books to recommend based on content\n",
    "    output: list of books to recommend\n",
    "    \"\"\"\n",
    "    idx = title_idx[title.lower()]\n",
    "    similarities = list(enumerate(books_similarity[idx]))\n",
    "    top_similarities = sorted(similarities, key=lambda x: x[1], reverse=True)[1:a*n+1]\n",
    "    top_books_idx_candidates = [i for i, _ in top_similarities]\n",
    "    top_books_candidates = books.iloc[top_books_idx_candidates]\n",
    "    \n",
    "    v = top_books_candidates['ratings_count']\n",
    "    m = top_books_candidates['ratings_count'].quantile(0.8)\n",
    "    R = top_books_candidates['average_rating']\n",
    "    C = top_books_candidates['average_rating'].mean()\n",
    "    top_books_candidates.loc[:, 'weighted_rating'] = (R*v + C*m) / (v + m)\n",
    "    top_books = top_books_candidates.sort_values('weighted_rating',ascending=False)[:n]\n",
    "\n",
    "    return top_books[['title', 'weighted_rating', 'ratings_count']]"
   ]
  },
  {
   "cell_type": "code",
   "execution_count": 69,
   "metadata": {},
   "outputs": [
    {
     "name": "stderr",
     "output_type": "stream",
     "text": [
      "C:\\Users\\Sakura\\anaconda3\\lib\\site-packages\\pandas\\core\\indexing.py:1745: SettingWithCopyWarning: \n",
      "A value is trying to be set on a copy of a slice from a DataFrame.\n",
      "Try using .loc[row_indexer,col_indexer] = value instead\n",
      "\n",
      "See the caveats in the documentation: https://pandas.pydata.org/pandas-docs/stable/user_guide/indexing.html#returning-a-view-versus-a-copy\n",
      "  isetter(ilocs[0], value)\n"
     ]
    },
    {
     "data": {
      "text/html": [
       "<div>\n",
       "<style scoped>\n",
       "    .dataframe tbody tr th:only-of-type {\n",
       "        vertical-align: middle;\n",
       "    }\n",
       "\n",
       "    .dataframe tbody tr th {\n",
       "        vertical-align: top;\n",
       "    }\n",
       "\n",
       "    .dataframe thead th {\n",
       "        text-align: right;\n",
       "    }\n",
       "</style>\n",
       "<table border=\"1\" class=\"dataframe\">\n",
       "  <thead>\n",
       "    <tr style=\"text-align: right;\">\n",
       "      <th></th>\n",
       "      <th>title</th>\n",
       "      <th>weighted_rating</th>\n",
       "      <th>ratings_count</th>\n",
       "    </tr>\n",
       "    <tr>\n",
       "      <th>book_id</th>\n",
       "      <th></th>\n",
       "      <th></th>\n",
       "      <th></th>\n",
       "    </tr>\n",
       "  </thead>\n",
       "  <tbody>\n",
       "    <tr>\n",
       "      <th>25</th>\n",
       "      <td>Harry Potter and the Deathly Hallows (Harry Po...</td>\n",
       "      <td>4.541850</td>\n",
       "      <td>1746574</td>\n",
       "    </tr>\n",
       "    <tr>\n",
       "      <th>27</th>\n",
       "      <td>Harry Potter and the Half-Blood Prince (Harry ...</td>\n",
       "      <td>4.487385</td>\n",
       "      <td>1678823</td>\n",
       "    </tr>\n",
       "    <tr>\n",
       "      <th>18</th>\n",
       "      <td>Harry Potter and the Prisoner of Azkaban (Harr...</td>\n",
       "      <td>4.483118</td>\n",
       "      <td>1832823</td>\n",
       "    </tr>\n",
       "    <tr>\n",
       "      <th>422</th>\n",
       "      <td>Harry Potter Boxset (Harry Potter, #1-7)</td>\n",
       "      <td>4.433885</td>\n",
       "      <td>190050</td>\n",
       "    </tr>\n",
       "    <tr>\n",
       "      <th>21</th>\n",
       "      <td>Harry Potter and the Order of the Phoenix (Har...</td>\n",
       "      <td>4.428292</td>\n",
       "      <td>1735368</td>\n",
       "    </tr>\n",
       "    <tr>\n",
       "      <th>2</th>\n",
       "      <td>Harry Potter and the Sorcerer's Stone (Harry P...</td>\n",
       "      <td>4.428072</td>\n",
       "      <td>4602479</td>\n",
       "    </tr>\n",
       "    <tr>\n",
       "      <th>1022</th>\n",
       "      <td>Heir of Fire (Throne of Glass, #3)</td>\n",
       "      <td>4.366575</td>\n",
       "      <td>123843</td>\n",
       "    </tr>\n",
       "    <tr>\n",
       "      <th>23</th>\n",
       "      <td>Harry Potter and the Chamber of Secrets (Harry...</td>\n",
       "      <td>4.360538</td>\n",
       "      <td>1779331</td>\n",
       "    </tr>\n",
       "    <tr>\n",
       "      <th>3275</th>\n",
       "      <td>Harry Potter Boxed Set, Books 1-5 (Harry Potte...</td>\n",
       "      <td>4.355119</td>\n",
       "      <td>33220</td>\n",
       "    </tr>\n",
       "    <tr>\n",
       "      <th>2101</th>\n",
       "      <td>The Harry Potter Collection 1-4 (Harry Potter,...</td>\n",
       "      <td>4.354479</td>\n",
       "      <td>43929</td>\n",
       "    </tr>\n",
       "  </tbody>\n",
       "</table>\n",
       "</div>"
      ],
      "text/plain": [
       "                                                     title  weighted_rating  \\\n",
       "book_id                                                                       \n",
       "25       Harry Potter and the Deathly Hallows (Harry Po...         4.541850   \n",
       "27       Harry Potter and the Half-Blood Prince (Harry ...         4.487385   \n",
       "18       Harry Potter and the Prisoner of Azkaban (Harr...         4.483118   \n",
       "422               Harry Potter Boxset (Harry Potter, #1-7)         4.433885   \n",
       "21       Harry Potter and the Order of the Phoenix (Har...         4.428292   \n",
       "2        Harry Potter and the Sorcerer's Stone (Harry P...         4.428072   \n",
       "1022                    Heir of Fire (Throne of Glass, #3)         4.366575   \n",
       "23       Harry Potter and the Chamber of Secrets (Harry...         4.360538   \n",
       "3275     Harry Potter Boxed Set, Books 1-5 (Harry Potte...         4.355119   \n",
       "2101     The Harry Potter Collection 1-4 (Harry Potter,...         4.354479   \n",
       "\n",
       "         ratings_count  \n",
       "book_id                 \n",
       "25             1746574  \n",
       "27             1678823  \n",
       "18             1832823  \n",
       "422             190050  \n",
       "21             1735368  \n",
       "2              4602479  \n",
       "1022            123843  \n",
       "23             1779331  \n",
       "3275             33220  \n",
       "2101             43929  "
      ]
     },
     "execution_count": 69,
     "metadata": {},
     "output_type": "execute_result"
    }
   ],
   "source": [
    "book_content_recommendation_cos('harry potter and the chamber of secrets (harry potter, #2)', books_similarity=content_tfidf_cos_similarity, n=10)"
   ]
  },
  {
   "cell_type": "markdown",
   "metadata": {},
   "source": [
    "## 4. Collaborative  Filtering "
   ]
  },
  {
   "cell_type": "code",
   "execution_count": 6,
   "metadata": {},
   "outputs": [],
   "source": [
    "# ratingmat = ratings.pivot(index='user_id', columns='book_id', values='rating')\n",
    "ratingmat = pd.read_csv('rating_pivot.csv', index_col=0)\n",
    "ratingmat.columns = ratingmat.columns.map(int)\n",
    "# ratingmat_sparse = csr_matrix(ratingmat)"
   ]
  },
  {
   "cell_type": "markdown",
   "metadata": {},
   "source": [
    "### 4.1. User based"
   ]
  },
  {
   "cell_type": "markdown",
   "metadata": {},
   "source": [
    "#### 4.1.1. Matrix Factorization (SVD)"
   ]
  },
  {
   "cell_type": "code",
   "execution_count": 71,
   "metadata": {},
   "outputs": [],
   "source": [
    "reader = Reader()\n",
    "ratings_data = Dataset.load_from_df(ratings, reader)\n",
    "train = ratings_data.build_full_trainset()"
   ]
  },
  {
   "cell_type": "code",
   "execution_count": 101,
   "metadata": {},
   "outputs": [
    {
     "data": {
      "text/plain": [
       "<surprise.prediction_algorithms.matrix_factorization.SVD at 0x1f8ddc9d4c0>"
      ]
     },
     "execution_count": 101,
     "metadata": {},
     "output_type": "execute_result"
    }
   ],
   "source": [
    "svd = SVD()\n",
    "# cross_validate(svd, ratings_data, n_jobs=-1)\n",
    "svd.fit(train)"
   ]
  },
  {
   "cell_type": "code",
   "execution_count": 102,
   "metadata": {},
   "outputs": [],
   "source": [
    "def svd_UB_recommendation(user_id, svd=svd, n=10):\n",
    "    \"\"\"\n",
    "    idea: input user_id, and svd model, which factorizes matrix on raingmat(# user, # items)\n",
    "          # \n",
    "          input: user_id\n",
    "                 n: number of books to recommend\n",
    "          output: list of recommended books\n",
    "    \"\"\"\n",
    "    \n",
    "    user_df = ratings[ratings['user_id'] == user_id].merge(books.title, on='book_id', how='outer')\n",
    "    user_df.user_id = user_df.user_id.fillna(method='ffill',downcast='infer')\n",
    "    user_df = user_df[['user_id', 'book_id', 'rating']]\n",
    "    \n",
    "    train = Dataset.load_from_df(user_df, reader).build_full_trainset()\n",
    "    test = train.build_testset()\n",
    "    est_ratings = svd.test(test)\n",
    "    top_ratings = pd.DataFrame(sorted([(b, r) for (_, b, _, r, _) in est_ratings],\\\n",
    "                                      key=lambda x: x[1], reverse=True)[:n], \\\n",
    "                              columns=['book_id', 'estimate_ratings']).set_index('book_id')\n",
    "    \n",
    "    top_books = books.merge(top_ratings, on='book_id')[['title', 'estimate_ratings']].\\\n",
    "    sort_values('estimate_ratings', ascending=False)\n",
    "    return top_books"
   ]
  },
  {
   "cell_type": "code",
   "execution_count": 104,
   "metadata": {},
   "outputs": [
    {
     "data": {
      "text/html": [
       "<div>\n",
       "<style scoped>\n",
       "    .dataframe tbody tr th:only-of-type {\n",
       "        vertical-align: middle;\n",
       "    }\n",
       "\n",
       "    .dataframe tbody tr th {\n",
       "        vertical-align: top;\n",
       "    }\n",
       "\n",
       "    .dataframe thead th {\n",
       "        text-align: right;\n",
       "    }\n",
       "</style>\n",
       "<table border=\"1\" class=\"dataframe\">\n",
       "  <thead>\n",
       "    <tr style=\"text-align: right;\">\n",
       "      <th></th>\n",
       "      <th>title</th>\n",
       "      <th>estimate_ratings</th>\n",
       "    </tr>\n",
       "    <tr>\n",
       "      <th>book_id</th>\n",
       "      <th></th>\n",
       "      <th></th>\n",
       "    </tr>\n",
       "  </thead>\n",
       "  <tbody>\n",
       "    <tr>\n",
       "      <th>18</th>\n",
       "      <td>Harry Potter and the Prisoner of Azkaban (Harr...</td>\n",
       "      <td>5.000000</td>\n",
       "    </tr>\n",
       "    <tr>\n",
       "      <th>25</th>\n",
       "      <td>Harry Potter and the Deathly Hallows (Harry Po...</td>\n",
       "      <td>5.000000</td>\n",
       "    </tr>\n",
       "    <tr>\n",
       "      <th>27</th>\n",
       "      <td>Harry Potter and the Half-Blood Prince (Harry ...</td>\n",
       "      <td>4.996736</td>\n",
       "    </tr>\n",
       "    <tr>\n",
       "      <th>24</th>\n",
       "      <td>Harry Potter and the Goblet of Fire (Harry Pot...</td>\n",
       "      <td>4.989863</td>\n",
       "    </tr>\n",
       "    <tr>\n",
       "      <th>422</th>\n",
       "      <td>Harry Potter Boxset (Harry Potter, #1-7)</td>\n",
       "      <td>4.982445</td>\n",
       "    </tr>\n",
       "    <tr>\n",
       "      <th>2</th>\n",
       "      <td>Harry Potter and the Sorcerer's Stone (Harry P...</td>\n",
       "      <td>4.979780</td>\n",
       "    </tr>\n",
       "    <tr>\n",
       "      <th>21</th>\n",
       "      <td>Harry Potter and the Order of the Phoenix (Har...</td>\n",
       "      <td>4.913455</td>\n",
       "    </tr>\n",
       "    <tr>\n",
       "      <th>23</th>\n",
       "      <td>Harry Potter and the Chamber of Secrets (Harry...</td>\n",
       "      <td>4.851593</td>\n",
       "    </tr>\n",
       "    <tr>\n",
       "      <th>862</th>\n",
       "      <td>Words of Radiance (The Stormlight Archive, #2)</td>\n",
       "      <td>4.801715</td>\n",
       "    </tr>\n",
       "    <tr>\n",
       "      <th>3275</th>\n",
       "      <td>Harry Potter Boxed Set, Books 1-5 (Harry Potte...</td>\n",
       "      <td>4.796566</td>\n",
       "    </tr>\n",
       "  </tbody>\n",
       "</table>\n",
       "</div>"
      ],
      "text/plain": [
       "                                                     title  estimate_ratings\n",
       "book_id                                                                     \n",
       "18       Harry Potter and the Prisoner of Azkaban (Harr...          5.000000\n",
       "25       Harry Potter and the Deathly Hallows (Harry Po...          5.000000\n",
       "27       Harry Potter and the Half-Blood Prince (Harry ...          4.996736\n",
       "24       Harry Potter and the Goblet of Fire (Harry Pot...          4.989863\n",
       "422               Harry Potter Boxset (Harry Potter, #1-7)          4.982445\n",
       "2        Harry Potter and the Sorcerer's Stone (Harry P...          4.979780\n",
       "21       Harry Potter and the Order of the Phoenix (Har...          4.913455\n",
       "23       Harry Potter and the Chamber of Secrets (Harry...          4.851593\n",
       "862         Words of Radiance (The Stormlight Archive, #2)          4.801715\n",
       "3275     Harry Potter Boxed Set, Books 1-5 (Harry Potte...          4.796566"
      ]
     },
     "execution_count": 104,
     "metadata": {},
     "output_type": "execute_result"
    }
   ],
   "source": [
    "svd_UB_recommendation(12222)"
   ]
  },
  {
   "cell_type": "markdown",
   "metadata": {},
   "source": [
    "### 4.2. Item Based"
   ]
  },
  {
   "cell_type": "markdown",
   "metadata": {},
   "source": [
    "#### 4.2.1. KNN based on pearson corrlation for books"
   ]
  },
  {
   "cell_type": "code",
   "execution_count": 7,
   "metadata": {},
   "outputs": [],
   "source": [
    "# pearson_corr = ratingmat.corr()\n",
    "pearson_corr = pd.read_csv('book_pearson_corr.csv', index_col=0)\n",
    "pearson_corr.columns = pearson_corr.columns.map(int)"
   ]
  },
  {
   "cell_type": "code",
   "execution_count": 73,
   "metadata": {},
   "outputs": [],
   "source": [
    "r = ratingmat.fillna(0)"
   ]
  },
  {
   "cell_type": "code",
   "execution_count": 74,
   "metadata": {},
   "outputs": [],
   "source": [
    "def knn_IB_recommendation_corr(user_id, ratingmat=r.T, pearson_corr=pearson_corr, n=10, thresh=0.85):\n",
    "    \"\"\"\n",
    "    idea: input item-based similarity (pearson correlationo) and user_id,\n",
    "          calculated weighted rating based on books' similarity (similiarty.dot(rating[user_id])),\n",
    "          then pick knn as the recommended books (distance is item-based weighted rating).\n",
    "          \n",
    "          input: user_id\n",
    "                 pearson_corr = dataframe of books' pearson corr \n",
    "                 n: number of books to recommend\n",
    "                 thresh: threshold on weighted rating\n",
    "          output: list of recommended books\n",
    "    \"\"\"\n",
    "    \n",
    "    R = ratingmat[user_id]\n",
    "    s = pearson_corr.fillna(0)\n",
    "    IB_weighted_rating = s.dot(R) / s.sum()\n",
    "    candidates = pd.concat([books[['title', 'ratings_count', 'average_rating', 'genres_list']], \\\n",
    "                            IB_weighted_rating.rename('wr')], axis=1, join='inner').\\\n",
    "    sort_values('wr', ascending=False)\n",
    "    \n",
    "    threshold = candidates.ratings_count.quantile(thresh)\n",
    "    candidates = candidates[candidates.ratings_count > threshold]\n",
    "\n",
    "    IB_weighted_rating = s.dot(R)\n",
    "    return candidates[candidates.ratings_count > threshold][:n]"
   ]
  },
  {
   "cell_type": "code",
   "execution_count": 75,
   "metadata": {},
   "outputs": [
    {
     "data": {
      "text/html": [
       "<div>\n",
       "<style scoped>\n",
       "    .dataframe tbody tr th:only-of-type {\n",
       "        vertical-align: middle;\n",
       "    }\n",
       "\n",
       "    .dataframe tbody tr th {\n",
       "        vertical-align: top;\n",
       "    }\n",
       "\n",
       "    .dataframe thead th {\n",
       "        text-align: right;\n",
       "    }\n",
       "</style>\n",
       "<table border=\"1\" class=\"dataframe\">\n",
       "  <thead>\n",
       "    <tr style=\"text-align: right;\">\n",
       "      <th></th>\n",
       "      <th>title</th>\n",
       "      <th>ratings_count</th>\n",
       "      <th>average_rating</th>\n",
       "      <th>genres_list</th>\n",
       "      <th>wr</th>\n",
       "    </tr>\n",
       "    <tr>\n",
       "      <th>book_id</th>\n",
       "      <th></th>\n",
       "      <th></th>\n",
       "      <th></th>\n",
       "      <th></th>\n",
       "      <th></th>\n",
       "    </tr>\n",
       "  </thead>\n",
       "  <tbody>\n",
       "    <tr>\n",
       "      <th>990</th>\n",
       "      <td>Rework</td>\n",
       "      <td>88626</td>\n",
       "      <td>3.93</td>\n",
       "      <td>[ebooks, nonfiction, business, psychology]</td>\n",
       "      <td>0.163668</td>\n",
       "    </tr>\n",
       "    <tr>\n",
       "      <th>1174</th>\n",
       "      <td>The Girls</td>\n",
       "      <td>76761</td>\n",
       "      <td>3.49</td>\n",
       "      <td>[fiction, mystery, contemporary, thriller, ebo...</td>\n",
       "      <td>0.133078</td>\n",
       "    </tr>\n",
       "    <tr>\n",
       "      <th>580</th>\n",
       "      <td>The Story of Art</td>\n",
       "      <td>164708</td>\n",
       "      <td>3.83</td>\n",
       "      <td>[classics, philosophy, history, nonfiction, art]</td>\n",
       "      <td>0.132852</td>\n",
       "    </tr>\n",
       "    <tr>\n",
       "      <th>1415</th>\n",
       "      <td>The Lean Startup: How Today's Entrepreneurs Us...</td>\n",
       "      <td>86284</td>\n",
       "      <td>4.04</td>\n",
       "      <td>[ebooks, nonfiction, business]</td>\n",
       "      <td>0.132369</td>\n",
       "    </tr>\n",
       "    <tr>\n",
       "      <th>1539</th>\n",
       "      <td>The Underground Railroad</td>\n",
       "      <td>72052</td>\n",
       "      <td>4.04</td>\n",
       "      <td>[fantasy, fiction, contemporary, ebooks, history]</td>\n",
       "      <td>0.117632</td>\n",
       "    </tr>\n",
       "    <tr>\n",
       "      <th>776</th>\n",
       "      <td>The Art Book</td>\n",
       "      <td>102746</td>\n",
       "      <td>3.79</td>\n",
       "      <td>[history, nonfiction, art]</td>\n",
       "      <td>0.117538</td>\n",
       "    </tr>\n",
       "    <tr>\n",
       "      <th>654</th>\n",
       "      <td>Freedom</td>\n",
       "      <td>119213</td>\n",
       "      <td>3.73</td>\n",
       "      <td>[fiction, contemporary, ebooks]</td>\n",
       "      <td>0.114388</td>\n",
       "    </tr>\n",
       "    <tr>\n",
       "      <th>1404</th>\n",
       "      <td>Catherine the Great: Portrait of a Woman</td>\n",
       "      <td>66591</td>\n",
       "      <td>3.91</td>\n",
       "      <td>[fiction, classics, ebooks, history, nonfictio...</td>\n",
       "      <td>0.113918</td>\n",
       "    </tr>\n",
       "    <tr>\n",
       "      <th>1129</th>\n",
       "      <td>The History of the Hobbit, Part One: Mr. Baggins</td>\n",
       "      <td>108399</td>\n",
       "      <td>3.81</td>\n",
       "      <td>[fantasy, fiction, classics, history, nonficti...</td>\n",
       "      <td>0.111389</td>\n",
       "    </tr>\n",
       "    <tr>\n",
       "      <th>930</th>\n",
       "      <td>Olive Kitteridge</td>\n",
       "      <td>85019</td>\n",
       "      <td>3.78</td>\n",
       "      <td>[fiction, contemporary, ebooks]</td>\n",
       "      <td>0.110586</td>\n",
       "    </tr>\n",
       "  </tbody>\n",
       "</table>\n",
       "</div>"
      ],
      "text/plain": [
       "                                                     title  ratings_count  \\\n",
       "book_id                                                                     \n",
       "990                                                 Rework          88626   \n",
       "1174                                             The Girls          76761   \n",
       "580                                       The Story of Art         164708   \n",
       "1415     The Lean Startup: How Today's Entrepreneurs Us...          86284   \n",
       "1539                              The Underground Railroad          72052   \n",
       "776                                           The Art Book         102746   \n",
       "654                                                Freedom         119213   \n",
       "1404              Catherine the Great: Portrait of a Woman          66591   \n",
       "1129      The History of the Hobbit, Part One: Mr. Baggins         108399   \n",
       "930                                       Olive Kitteridge          85019   \n",
       "\n",
       "         average_rating                                        genres_list  \\\n",
       "book_id                                                                      \n",
       "990                3.93         [ebooks, nonfiction, business, psychology]   \n",
       "1174               3.49  [fiction, mystery, contemporary, thriller, ebo...   \n",
       "580                3.83   [classics, philosophy, history, nonfiction, art]   \n",
       "1415               4.04                     [ebooks, nonfiction, business]   \n",
       "1539               4.04  [fantasy, fiction, contemporary, ebooks, history]   \n",
       "776                3.79                         [history, nonfiction, art]   \n",
       "654                3.73                    [fiction, contemporary, ebooks]   \n",
       "1404               3.91  [fiction, classics, ebooks, history, nonfictio...   \n",
       "1129               3.81  [fantasy, fiction, classics, history, nonficti...   \n",
       "930                3.78                    [fiction, contemporary, ebooks]   \n",
       "\n",
       "               wr  \n",
       "book_id            \n",
       "990      0.163668  \n",
       "1174     0.133078  \n",
       "580      0.132852  \n",
       "1415     0.132369  \n",
       "1539     0.117632  \n",
       "776      0.117538  \n",
       "654      0.114388  \n",
       "1404     0.113918  \n",
       "1129     0.111389  \n",
       "930      0.110586  "
      ]
     },
     "execution_count": 75,
     "metadata": {},
     "output_type": "execute_result"
    }
   ],
   "source": [
    "knn_IB_recommendation_corr(user_id=6)"
   ]
  },
  {
   "cell_type": "markdown",
   "metadata": {},
   "source": [
    "#### 4.2.2 KNN based on cosine"
   ]
  },
  {
   "cell_type": "code",
   "execution_count": 76,
   "metadata": {},
   "outputs": [],
   "source": [
    "std_ratingmat_books = ratingmat.T.transform(lambda x: x - x.mean()).fillna(0)\n",
    "std_ratingmat_books.index.rename('book_id', inplace=True)"
   ]
  },
  {
   "cell_type": "code",
   "execution_count": 77,
   "metadata": {},
   "outputs": [
    {
     "name": "stdout",
     "output_type": "stream",
     "text": [
      "Wall time: 1.03 s\n"
     ]
    },
    {
     "data": {
      "text/plain": [
       "NearestNeighbors(algorithm='brute', metric='cosine', n_jobs=-1, n_neighbors=20)"
      ]
     },
     "execution_count": 77,
     "metadata": {},
     "output_type": "execute_result"
    }
   ],
   "source": [
    "%%time\n",
    "knn = NearestNeighbors(metric='cosine', algorithm='brute', n_neighbors=20, n_jobs=-1)\n",
    "knn.fit(std_ratingmat_books)"
   ]
  },
  {
   "cell_type": "code",
   "execution_count": 92,
   "metadata": {},
   "outputs": [],
   "source": [
    "def knn_IB_recommendation_cos(title, knn=knn, data=std_ratingmat_books, title_idx=title_idx, idx_title=books.title, n=10):\n",
    "    \"\"\"\n",
    "        idea: input pivot user-item dataframe,\n",
    "              to get similar books, run knn (distance is cos similarity),\n",
    "              -------\n",
    "              to get recommended book to user, need to be finished\n",
    "              \n",
    "          input: user_id\n",
    "                 knn: knn model\n",
    "                 data: pivot user-item dataframe\n",
    "                 title_idx: book title: book_id dataframe (mapping)\n",
    "                 idx_title: book_id: book title\n",
    "                 n: number of books to recommend\n",
    "                 \n",
    "          output: list of recommended books\n",
    "    \"\"\"\n",
    "    \n",
    "    # get similar book by cos similarity\n",
    "    knn.fit(data)\n",
    "    book_id = title_idx[title]\n",
    "    sims, candidates_ids = knn.kneighbors(data.loc[book_id, :].values.reshape(1, -1), n_neighbors=n+1)\n",
    "    candidates_dis_ids = list(zip(sims[0], idx_title[candidates_ids[0]+1]))[1:]\n",
    "    \n",
    "    # knn below need to be finished\n",
    "#     R = data[user_id]\n",
    "#     s = sims.fillna(0)\n",
    "#     IB_weighted_rating = s.dot(R) / s.sum()\n",
    "    # sort by weighted rating, then get books\n",
    "    return [b for _, b in candidates_dis_ids]"
   ]
  },
  {
   "cell_type": "code",
   "execution_count": 93,
   "metadata": {},
   "outputs": [
    {
     "data": {
      "text/plain": [
       "\"harry potter and the sorcerer's stone (harry potter, #1)\""
      ]
     },
     "execution_count": 93,
     "metadata": {},
     "output_type": "execute_result"
    }
   ],
   "source": [
    "idx_title[2]"
   ]
  },
  {
   "cell_type": "code",
   "execution_count": 94,
   "metadata": {},
   "outputs": [
    {
     "data": {
      "text/plain": [
       "['Harry Potter and the Prisoner of Azkaban (Harry Potter, #3)',\n",
       " 'Harry Potter and the Chamber of Secrets (Harry Potter, #2)',\n",
       " 'Harry Potter and the Goblet of Fire (Harry Potter, #4)',\n",
       " 'Harry Potter and the Half-Blood Prince (Harry Potter, #6)',\n",
       " 'Harry Potter and the Deathly Hallows (Harry Potter, #7)',\n",
       " 'Harry Potter and the Order of the Phoenix (Harry Potter, #5)',\n",
       " 'The Hunger Games (The Hunger Games, #1)',\n",
       " 'The Help',\n",
       " 'Harry Potter Boxset (Harry Potter, #1-7)',\n",
       " 'Catching Fire (The Hunger Games, #2)']"
      ]
     },
     "execution_count": 94,
     "metadata": {},
     "output_type": "execute_result"
    }
   ],
   "source": [
    "knn_IB_recommendation_cos(\"harry potter and the sorcerer's stone (harry potter, #1)\")"
   ]
  },
  {
   "cell_type": "markdown",
   "metadata": {},
   "source": [
    "## 5. Hybrid Recommendation"
   ]
  },
  {
   "cell_type": "markdown",
   "metadata": {},
   "source": [
    "### 5.1. Personal_books_recommendtaion combined content based and collaborative filtering"
   ]
  },
  {
   "cell_type": "code",
   "execution_count": 105,
   "metadata": {},
   "outputs": [],
   "source": [
    "def personal_books_recommendation(user_id, book_id=None, title='', \n",
    "                                  cos_similarity=content_tfidf_cos_similarity, n=10, a=0.5):\n",
    "    '''\n",
    "    idea: first filter by content based system (cos similarity of tfidf (text features) ),\n",
    "                Second filter by Collaborative  Filtering (user based MF(SVD) ) \n",
    "                \n",
    "    input: user ID and Book ID/Title\n",
    "            a: 0-1, importance of personalized rating\n",
    "    output: similar books recommend to certain user\n",
    "\n",
    "    '''\n",
    "    \n",
    "    \n",
    "    if title:\n",
    "        book_id = title_idx[title.lower()]\n",
    "        \n",
    "    # content based filtering  \n",
    "    books_content_similarities = list(enumerate(cos_similarity[book_id-1], start=1))\n",
    "    books_content_similarities.sort(key=lambda x: x[1], reverse=True)\n",
    "    top_books_content_similarities = books_content_similarities[1:5*n+1]\n",
    "    top_books_id = [i for i, _ in top_books_content_similarities]\n",
    "    top_books_candidates = books.loc[top_books_id, ['title',  'ratings_count', 'average_rating']]\n",
    "    v = top_books_candidates['ratings_count']\n",
    "    m = top_books_candidates['ratings_count'].quantile(0.8)\n",
    "    R = top_books_candidates['average_rating']\n",
    "    C = top_books_candidates['average_rating'].mean()\n",
    "    top_books_candidates['weighted_rating'] = round((R*v + C*m) / (v + m), 2)\n",
    "    \n",
    "    # collaborative filtering (user based)\n",
    "    top_books_candidates['estimate_rating'] = top_books_candidates.index.\\\n",
    "                                                    map(lambda x: round(svd.predict(user_id, x).est, 2) )\n",
    "    top_books_candidates['final_rating'] = round( (a * top_books_candidates['estimate_rating']) + \\\n",
    "                                        ((1-a) * top_books_candidates['weighted_rating']), 2 )\n",
    "    top_books = top_books_candidates.sort_values('final_rating', ascending=False)\n",
    "    return top_books[:n]"
   ]
  },
  {
   "cell_type": "code",
   "execution_count": 106,
   "metadata": {},
   "outputs": [
    {
     "data": {
      "text/html": [
       "<div>\n",
       "<style scoped>\n",
       "    .dataframe tbody tr th:only-of-type {\n",
       "        vertical-align: middle;\n",
       "    }\n",
       "\n",
       "    .dataframe tbody tr th {\n",
       "        vertical-align: top;\n",
       "    }\n",
       "\n",
       "    .dataframe thead th {\n",
       "        text-align: right;\n",
       "    }\n",
       "</style>\n",
       "<table border=\"1\" class=\"dataframe\">\n",
       "  <thead>\n",
       "    <tr style=\"text-align: right;\">\n",
       "      <th></th>\n",
       "      <th>title</th>\n",
       "      <th>ratings_count</th>\n",
       "      <th>average_rating</th>\n",
       "      <th>weighted_rating</th>\n",
       "      <th>estimate_rating</th>\n",
       "      <th>final_rating</th>\n",
       "    </tr>\n",
       "    <tr>\n",
       "      <th>book_id</th>\n",
       "      <th></th>\n",
       "      <th></th>\n",
       "      <th></th>\n",
       "      <th></th>\n",
       "      <th></th>\n",
       "      <th></th>\n",
       "    </tr>\n",
       "  </thead>\n",
       "  <tbody>\n",
       "    <tr>\n",
       "      <th>422</th>\n",
       "      <td>Harry Potter Boxset (Harry Potter, #1-7)</td>\n",
       "      <td>190050</td>\n",
       "      <td>4.74</td>\n",
       "      <td>4.46</td>\n",
       "      <td>4.51</td>\n",
       "      <td>4.48</td>\n",
       "    </tr>\n",
       "    <tr>\n",
       "      <th>25</th>\n",
       "      <td>Harry Potter and the Deathly Hallows (Harry Po...</td>\n",
       "      <td>1746574</td>\n",
       "      <td>4.61</td>\n",
       "      <td>4.57</td>\n",
       "      <td>4.37</td>\n",
       "      <td>4.47</td>\n",
       "    </tr>\n",
       "    <tr>\n",
       "      <th>18</th>\n",
       "      <td>Harry Potter and the Prisoner of Azkaban (Harr...</td>\n",
       "      <td>1832823</td>\n",
       "      <td>4.53</td>\n",
       "      <td>4.50</td>\n",
       "      <td>4.41</td>\n",
       "      <td>4.46</td>\n",
       "    </tr>\n",
       "    <tr>\n",
       "      <th>27</th>\n",
       "      <td>Harry Potter and the Half-Blood Prince (Harry ...</td>\n",
       "      <td>1678823</td>\n",
       "      <td>4.54</td>\n",
       "      <td>4.50</td>\n",
       "      <td>4.34</td>\n",
       "      <td>4.42</td>\n",
       "    </tr>\n",
       "    <tr>\n",
       "      <th>24</th>\n",
       "      <td>Harry Potter and the Goblet of Fire (Harry Pot...</td>\n",
       "      <td>1753043</td>\n",
       "      <td>4.53</td>\n",
       "      <td>4.50</td>\n",
       "      <td>4.34</td>\n",
       "      <td>4.42</td>\n",
       "    </tr>\n",
       "    <tr>\n",
       "      <th>3753</th>\n",
       "      <td>Harry Potter Collection (Harry Potter, #1-6)</td>\n",
       "      <td>24618</td>\n",
       "      <td>4.73</td>\n",
       "      <td>4.25</td>\n",
       "      <td>4.58</td>\n",
       "      <td>4.42</td>\n",
       "    </tr>\n",
       "    <tr>\n",
       "      <th>3736</th>\n",
       "      <td>Harry Potter Page to Screen: The Complete Film...</td>\n",
       "      <td>27361</td>\n",
       "      <td>4.56</td>\n",
       "      <td>4.24</td>\n",
       "      <td>4.45</td>\n",
       "      <td>4.35</td>\n",
       "    </tr>\n",
       "    <tr>\n",
       "      <th>21</th>\n",
       "      <td>Harry Potter and the Order of the Phoenix (Har...</td>\n",
       "      <td>1735368</td>\n",
       "      <td>4.46</td>\n",
       "      <td>4.43</td>\n",
       "      <td>4.23</td>\n",
       "      <td>4.33</td>\n",
       "    </tr>\n",
       "    <tr>\n",
       "      <th>2101</th>\n",
       "      <td>The Harry Potter Collection 1-4 (Harry Potter,...</td>\n",
       "      <td>43929</td>\n",
       "      <td>4.66</td>\n",
       "      <td>4.28</td>\n",
       "      <td>4.32</td>\n",
       "      <td>4.30</td>\n",
       "    </tr>\n",
       "    <tr>\n",
       "      <th>23</th>\n",
       "      <td>Harry Potter and the Chamber of Secrets (Harry...</td>\n",
       "      <td>1779331</td>\n",
       "      <td>4.37</td>\n",
       "      <td>4.35</td>\n",
       "      <td>4.18</td>\n",
       "      <td>4.26</td>\n",
       "    </tr>\n",
       "  </tbody>\n",
       "</table>\n",
       "</div>"
      ],
      "text/plain": [
       "                                                     title  ratings_count  \\\n",
       "book_id                                                                     \n",
       "422               Harry Potter Boxset (Harry Potter, #1-7)         190050   \n",
       "25       Harry Potter and the Deathly Hallows (Harry Po...        1746574   \n",
       "18       Harry Potter and the Prisoner of Azkaban (Harr...        1832823   \n",
       "27       Harry Potter and the Half-Blood Prince (Harry ...        1678823   \n",
       "24       Harry Potter and the Goblet of Fire (Harry Pot...        1753043   \n",
       "3753          Harry Potter Collection (Harry Potter, #1-6)          24618   \n",
       "3736     Harry Potter Page to Screen: The Complete Film...          27361   \n",
       "21       Harry Potter and the Order of the Phoenix (Har...        1735368   \n",
       "2101     The Harry Potter Collection 1-4 (Harry Potter,...          43929   \n",
       "23       Harry Potter and the Chamber of Secrets (Harry...        1779331   \n",
       "\n",
       "         average_rating  weighted_rating  estimate_rating  final_rating  \n",
       "book_id                                                                  \n",
       "422                4.74             4.46             4.51          4.48  \n",
       "25                 4.61             4.57             4.37          4.47  \n",
       "18                 4.53             4.50             4.41          4.46  \n",
       "27                 4.54             4.50             4.34          4.42  \n",
       "24                 4.53             4.50             4.34          4.42  \n",
       "3753               4.73             4.25             4.58          4.42  \n",
       "3736               4.56             4.24             4.45          4.35  \n",
       "21                 4.46             4.43             4.23          4.33  \n",
       "2101               4.66             4.28             4.32          4.30  \n",
       "23                 4.37             4.35             4.18          4.26  "
      ]
     },
     "execution_count": 106,
     "metadata": {},
     "output_type": "execute_result"
    }
   ],
   "source": [
    "personal_books_recommendation(10, 2)"
   ]
  },
  {
   "cell_type": "markdown",
   "metadata": {},
   "source": [
    "### 5.2. Model based Filtering (target is whether user want to read the books)"
   ]
  },
  {
   "cell_type": "markdown",
   "metadata": {},
   "source": [
    "- idea: build model for each user  \n",
    "  input: user personal ratings and books content data,    \n",
    "  output: for each book, want to read or not ( 0/1)"
   ]
  },
  {
   "cell_type": "markdown",
   "metadata": {},
   "source": [
    "#### 5.2.1. preprocessing"
   ]
  },
  {
   "cell_type": "code",
   "execution_count": 53,
   "metadata": {},
   "outputs": [],
   "source": [
    "# user = to_read.merge(ratings, how='outer', on='user_id', suffixes=('_tr', '_rating'))"
   ]
  },
  {
   "cell_type": "code",
   "execution_count": 107,
   "metadata": {},
   "outputs": [],
   "source": [
    "b_cols = ['books_count', 'original_publication_year',\n",
    "           'average_rating', 'ratings_count',\n",
    "       'work_ratings_count', 'work_text_reviews_count', 'ratings_1',\n",
    "       'ratings_2', 'ratings_3', 'ratings_4', 'ratings_5', 'n_authors', \n",
    "        'years_until_now', 'title_changed',\n",
    "       'title_length', 'has_subtitle', 'is_english',\n",
    "       'n_books_in_series', 'n_user_to_read', 'weighted_rating']\n"
   ]
  },
  {
   "cell_type": "code",
   "execution_count": 108,
   "metadata": {},
   "outputs": [],
   "source": [
    "def data_preprocess_user(user_id, data=None):\n",
    "    ordinal = OrdinalEncoder()\n",
    "    lang_ord = ordinal.fit_transform(pd.DataFrame(books['language_code'].fillna('')))\n",
    "    lang_ord = pd.DataFrame(lang_ord, columns=['language_code']).astype(int)\n",
    "    lang_ord.index += 1\n",
    "    lang_ord.index.name = 'book_id'\n",
    "\n",
    "    user_factor = svd.pu\n",
    "    user1 = user_factor[0].reshape(1, -1) # users rating/interaction factors extracted by svd\n",
    "    r1 = ratings[ratings.user_id==user_id].set_index('book_id')\n",
    "    tr1 = to_read[to_read.user_id==user_id].set_index('book_id')\n",
    "    tr1['to_read'] = 1\n",
    "    books_features = books[b_cols]\n",
    "    books_text_features = tfidf_matrix.copy() # book content extracted by tfidf\n",
    "    books_factor = svd.qi  # books rating/interaction factors extracted by svd\n",
    "    \n",
    "    \n",
    "    \n",
    "    \n",
    "    # 1. join  \n",
    "    # 2. create est rating for nan personal rating, fill nan with 0 in (to_read), \n",
    "    #    but with 1 with those rating > 0.8 quantile\n",
    "    # 3. split data to X_train, X_val, X_test (with true rating, with to_read info, \n",
    "    #    no true rating and no to_read info)\n",
    "    books_u1 = books_features.join(r1.rating, on='book_id').\\\n",
    "        join(lang_ord, on='book_id').join(tr1.to_read, on='book_id')\n",
    "    train_idx, val_idx, test_idx = \\\n",
    "                        books_u1[books_u1.rating.notna()].index, \\\n",
    "                        books_u1[books_u1.to_read.notna()].index, \\\n",
    "                        books_u1[books_u1.to_read.isna() & books_u1.rating.isna()].index\n",
    "\n",
    "    # fill na personal rating with svd est rating\n",
    "    tmp = books_u1[books_u1.rating.isna()].rating.reset_index()\n",
    "    tmp.rating = tmp.book_id.transform(lambda x: round(svd.predict(1, x).est, 3))\n",
    "    tmp = tmp.set_index('book_id')\n",
    "    books_u1.loc[books_u1.rating.isna(), 'rating'] = tmp\n",
    "\n",
    "    # fill train set na to_read = 1 by those est rating in val \n",
    "    # set (to read=1) > pre-define threshold (median)\n",
    "    threshold_to_read = books_u1[books_u1.to_read.notna()].rating.quantile(0.5)\n",
    "    tmp_idx = books_u1.loc[train_idx, 'to_read'] \\\n",
    "    [books_u1.loc[train_idx].rating > threshold_to_read].index\n",
    "    books_u1.loc[books_u1.to_read.isna(), 'to_read'] = 0\n",
    "    books_u1.loc[tmp_idx, 'to_read'] = 1\n",
    "\n",
    "    X_cols = books_u1.columns[:-1]\n",
    "    y_col = books_u1.columns[-1]\n",
    "\n",
    "    X = books_u1[X_cols]\n",
    "    y = books_u1[y_col]\n",
    "    tsvd = TruncatedSVD(100)\n",
    "    books_text_features_svd = tsvd.fit_transform(books_text_features)\n",
    "\n",
    "    books_text_features_svd_df = pd.DataFrame(books_text_features_svd).\\\n",
    "                                add_prefix('text_features_svd')\n",
    "    books_text_features_svd_df.index += 1\n",
    "    books_factor_df = pd.DataFrame(books_factor).add_prefix('books_factor')\n",
    "    books_factor_df.index += 1\n",
    "    user_factor_df = pd.DataFrame(np.repeat(user1, len(X), axis=0) )\\\n",
    "    .add_prefix('user_factor')\n",
    "    user_factor_df.index += 1\n",
    "\n",
    "    X = pd.concat((X, books_text_features_svd_df, books_factor_df, user_factor_df),axis=1)\n",
    "    X_cols = X.columns\n",
    "    X_train, X_val, X_test = X.loc[train_idx], X.loc[val_idx], X.loc[test_idx]\n",
    "    y_train, y_val, y_test = y.loc[train_idx], y.loc[val_idx], y.loc[test_idx]\n",
    "    if data is not None:\n",
    "        X_test = X.loc[data.index]\n",
    "        y_test = y.loc[data.index]\n",
    "    return [(X_train, y_train), (X_val, y_val), (X_test, y_test)]\n"
   ]
  },
  {
   "cell_type": "code",
   "execution_count": 109,
   "metadata": {},
   "outputs": [],
   "source": [
    "(X_train, y_train), (X_val, y_val), (X_test, y_test) = data_preprocess_user(1)"
   ]
  },
  {
   "cell_type": "markdown",
   "metadata": {},
   "source": [
    "#### 5.2.2. Training using xgboost\n",
    "#### ~~(5.2.3.) parameter tuning (cross validation to tune, but given time limit, leave for future)~~"
   ]
  },
  {
   "cell_type": "code",
   "execution_count": 112,
   "metadata": {},
   "outputs": [],
   "source": [
    "xgbdt = xgb.XGBClassifier(\n",
    "    n_estimators=2000,\n",
    "    use_label_encoder=False,\n",
    "    learning_rate = 0.01,\n",
    "#     max_depth=10,\n",
    "#     objective='binary:logistic',\n",
    "    booster='gbtree',\n",
    "\n",
    "    \n",
    "    n_jobs=-1,\n",
    "    verbosity=0\n",
    "                         )"
   ]
  },
  {
   "cell_type": "code",
   "execution_count": 114,
   "metadata": {},
   "outputs": [
    {
     "data": {
      "text/plain": [
       "XGBClassifier(base_score=0.5, booster='gbtree', colsample_bylevel=1,\n",
       "              colsample_bynode=1, colsample_bytree=1, gamma=0, gpu_id=-1,\n",
       "              importance_type='gain', interaction_constraints='',\n",
       "              learning_rate=0.01, max_delta_step=0, max_depth=6,\n",
       "              min_child_weight=1, missing=nan, monotone_constraints='()',\n",
       "              n_estimators=2000, n_jobs=-1, num_parallel_tree=1, random_state=0,\n",
       "              reg_alpha=0, reg_lambda=1, scale_pos_weight=1, subsample=1,\n",
       "              tree_method='exact', use_label_encoder=False,\n",
       "              validate_parameters=1, verbosity=0)"
      ]
     },
     "execution_count": 114,
     "metadata": {},
     "output_type": "execute_result"
    }
   ],
   "source": [
    "xgbdt.fit(X_train, \n",
    "          y_train,\n",
    "#           eval_set=((X_train, y_train), (X_val, y_val)),\n",
    "          \n",
    "#           eval_metric='aucpr', \n",
    "         )"
   ]
  },
  {
   "cell_type": "markdown",
   "metadata": {},
   "source": [
    "#### 5.2.4. Evaluation:  **AUC** in general, but depends\n",
    "since we recommend book from a huge list or from pre-recommend list, might come from distribution where many books are not liked by people or liked, which is imbalanced data set, accruacy should not be the metric, but should use precision, recall etc., and hence use PR AUC to get evaluate in this general case"
   ]
  },
  {
   "cell_type": "code",
   "execution_count": 117,
   "metadata": {},
   "outputs": [],
   "source": [
    "y_pred = pd.DataFrame(xgbdt.predict(X_train), index=X_train.index).sort_values(0)\n",
    "y_true = y_train.reindex(y_pred.index)\n",
    "a = pd.concat((y_true.rename('y_ture'), y_pred.rename(columns={0: 'y_pred'}) ), axis=1)"
   ]
  },
  {
   "cell_type": "code",
   "execution_count": 118,
   "metadata": {},
   "outputs": [
    {
     "data": {
      "text/plain": [
       "1.0"
      ]
     },
     "execution_count": 118,
     "metadata": {},
     "output_type": "execute_result"
    }
   ],
   "source": [
    "a = precision_recall_curve(y_train, [i for _, i in(xgbdt.predict_proba(X_train))])\n",
    "auc(a[1], a[0])"
   ]
  },
  {
   "cell_type": "code",
   "execution_count": 120,
   "metadata": {},
   "outputs": [
    {
     "data": {
      "text/plain": [
       "0.9999999999999998"
      ]
     },
     "execution_count": 120,
     "metadata": {},
     "output_type": "execute_result"
    }
   ],
   "source": [
    "b = precision_recall_curve(y_val, [i for _, i in(xgbdt.predict_proba(X_val))])\n",
    "auc(b[1], b[0])"
   ]
  },
  {
   "cell_type": "markdown",
   "metadata": {},
   "source": [
    "#### 5.2.5. Prediction of to_read (to support recommendations), only use user1 for now"
   ]
  },
  {
   "cell_type": "code",
   "execution_count": 121,
   "metadata": {},
   "outputs": [],
   "source": [
    "models = {}\n",
    "models[1] = xgbdt"
   ]
  },
  {
   "cell_type": "code",
   "execution_count": 122,
   "metadata": {},
   "outputs": [],
   "source": [
    "def personal_books_recommendation_xgb(user_id=1, books=books, n=10):\n",
    "    (X_train, y_train), (X_val, y_val), (X_test, y_test) = \\\n",
    "                                data_preprocess_user(user_id, data=books)\n",
    "    model = models[user_id]\n",
    "    tops = np.concatenate((model.predict_proba(X_test), model.predict(X_test).reshape(-1, 1)), axis=1)\n",
    "    top_books = pd.DataFrame(tops, \\\n",
    "                             index=X_test.index, columns=['0','prob', 'want_to_read']).\\\n",
    "                            sort_values('prob', ascending=False)[:n]\n",
    "    return books.merge(top_books, on='book_id')[['title', 'prob', 'want_to_read']]"
   ]
  },
  {
   "cell_type": "code",
   "execution_count": 123,
   "metadata": {},
   "outputs": [
    {
     "data": {
      "text/html": [
       "<div>\n",
       "<style scoped>\n",
       "    .dataframe tbody tr th:only-of-type {\n",
       "        vertical-align: middle;\n",
       "    }\n",
       "\n",
       "    .dataframe tbody tr th {\n",
       "        vertical-align: top;\n",
       "    }\n",
       "\n",
       "    .dataframe thead th {\n",
       "        text-align: right;\n",
       "    }\n",
       "</style>\n",
       "<table border=\"1\" class=\"dataframe\">\n",
       "  <thead>\n",
       "    <tr style=\"text-align: right;\">\n",
       "      <th></th>\n",
       "      <th>title</th>\n",
       "      <th>prob</th>\n",
       "      <th>want_to_read</th>\n",
       "    </tr>\n",
       "    <tr>\n",
       "      <th>book_id</th>\n",
       "      <th></th>\n",
       "      <th></th>\n",
       "      <th></th>\n",
       "    </tr>\n",
       "  </thead>\n",
       "  <tbody>\n",
       "    <tr>\n",
       "      <th>628</th>\n",
       "      <td>Patriot Games (Jack Ryan Universe, #2)</td>\n",
       "      <td>0.984319</td>\n",
       "      <td>1.0</td>\n",
       "    </tr>\n",
       "    <tr>\n",
       "      <th>1131</th>\n",
       "      <td>Chocolat (Chocolat, #1)</td>\n",
       "      <td>0.984300</td>\n",
       "      <td>1.0</td>\n",
       "    </tr>\n",
       "    <tr>\n",
       "      <th>1203</th>\n",
       "      <td>Aristotle and Dante Discover the Secrets of th...</td>\n",
       "      <td>0.984319</td>\n",
       "      <td>1.0</td>\n",
       "    </tr>\n",
       "    <tr>\n",
       "      <th>1581</th>\n",
       "      <td>Hawaii</td>\n",
       "      <td>0.984300</td>\n",
       "      <td>1.0</td>\n",
       "    </tr>\n",
       "    <tr>\n",
       "      <th>1857</th>\n",
       "      <td>In the Hand of the Goddess (Song of the Liones...</td>\n",
       "      <td>0.984319</td>\n",
       "      <td>1.0</td>\n",
       "    </tr>\n",
       "  </tbody>\n",
       "</table>\n",
       "</div>"
      ],
      "text/plain": [
       "                                                     title      prob  \\\n",
       "book_id                                                                \n",
       "628                 Patriot Games (Jack Ryan Universe, #2)  0.984319   \n",
       "1131                               Chocolat (Chocolat, #1)  0.984300   \n",
       "1203     Aristotle and Dante Discover the Secrets of th...  0.984319   \n",
       "1581                                                Hawaii  0.984300   \n",
       "1857     In the Hand of the Goddess (Song of the Liones...  0.984319   \n",
       "\n",
       "         want_to_read  \n",
       "book_id                \n",
       "628               1.0  \n",
       "1131              1.0  \n",
       "1203              1.0  \n",
       "1581              1.0  \n",
       "1857              1.0  "
      ]
     },
     "execution_count": 123,
     "metadata": {},
     "output_type": "execute_result"
    }
   ],
   "source": [
    "personal_books_recommendation_xgb(user_id=1, books=books[:3400], n=5)"
   ]
  },
  {
   "cell_type": "markdown",
   "metadata": {},
   "source": [
    "## 6. Information Retrieval"
   ]
  },
  {
   "cell_type": "markdown",
   "metadata": {},
   "source": [
    "- idea:  \n",
    "  1. divide and classify query: title, author, genres, tags_diy  ------------------------------ to do (NLP task), only support title for now\n",
    "  2. calculte tfidf cos similarity between query and each dataset tfidf values (title for instance here)  \n",
    "  3. sort by similarity, and choose top matched query (e.g. title)"
   ]
  },
  {
   "cell_type": "markdown",
   "metadata": {},
   "source": [
    "- preprocess text features for classification / clustering"
   ]
  },
  {
   "cell_type": "code",
   "execution_count": 124,
   "metadata": {},
   "outputs": [],
   "source": [
    "title = books['original_title'].fillna(books.title).str.lower().rename('title', inplace=True)\n",
    "\n",
    "authors = books['authors'].apply(lambda x:  x.lower().split(',')).explode().\\\n",
    "str.strip().drop_duplicates().reset_index(drop=True).rename('authors', inplace=True)\n",
    "\n",
    "genres = pd.Series(genres_built_in.tag_name.unique()).rename('genres', inplace=True)\n",
    "\n",
    "tags_diy = pd.Series(tags.tag_name.str.lower().unique()).\\\n",
    "map(lambda x: re.sub(r'[^\\x00-\\x7F]+', ' ', x)).\\\n",
    "replace('-', '').replace(r'^\\s*$', np.nan, regex=True).dropna().drop_duplicates().rename('tags_diy', inplace=True)\n",
    "\n",
    "docs = [title, authors, genres, tags_diy]"
   ]
  },
  {
   "cell_type": "code",
   "execution_count": 125,
   "metadata": {},
   "outputs": [],
   "source": [
    "tfidfs = {}\n",
    "for doc in docs:\n",
    "    tfidf = TfidfVectorizer(ngram_range=(1, 2), tokenizer=word_tokenize)\n",
    "    X = tfidf.fit_transform(doc)\n",
    "    tfidfs[doc.name] = (tfidf, X)"
   ]
  },
  {
   "cell_type": "code",
   "execution_count": 126,
   "metadata": {},
   "outputs": [],
   "source": [
    "def query_similar_items(q, doc, tfidfs=tfidfs):\n",
    "    idx = 0\n",
    "    if doc == 'title':\n",
    "        idx = 1\n",
    "        \n",
    "    q = [q]\n",
    "    tfidf, doc_vec = tfidfs[doc]\n",
    "    q_vec = tfidf.transform(q)\n",
    "    sim = pd.DataFrame(sorted(list(enumerate(cosine_similarity(q_vec, doc_vec)[0], idx)),\\\n",
    "                              key=lambda x: x[1], reverse=True), columns=['book_id', 'cos_similarity']).\\\n",
    "                              set_index('book_id')\n",
    "    return sim"
   ]
  },
  {
   "cell_type": "code",
   "execution_count": 127,
   "metadata": {},
   "outputs": [
    {
     "data": {
      "text/html": [
       "<div>\n",
       "<style scoped>\n",
       "    .dataframe tbody tr th:only-of-type {\n",
       "        vertical-align: middle;\n",
       "    }\n",
       "\n",
       "    .dataframe tbody tr th {\n",
       "        vertical-align: top;\n",
       "    }\n",
       "\n",
       "    .dataframe thead th {\n",
       "        text-align: right;\n",
       "    }\n",
       "</style>\n",
       "<table border=\"1\" class=\"dataframe\">\n",
       "  <thead>\n",
       "    <tr style=\"text-align: right;\">\n",
       "      <th></th>\n",
       "      <th>cos_similarity</th>\n",
       "      <th>title</th>\n",
       "    </tr>\n",
       "    <tr>\n",
       "      <th>book_id</th>\n",
       "      <th></th>\n",
       "      <th></th>\n",
       "    </tr>\n",
       "  </thead>\n",
       "  <tbody>\n",
       "    <tr>\n",
       "      <th>3753</th>\n",
       "      <td>0.617575</td>\n",
       "      <td>Harry Potter Collection (Harry Potter, #1-6)</td>\n",
       "    </tr>\n",
       "    <tr>\n",
       "      <th>6141</th>\n",
       "      <td>0.518223</td>\n",
       "      <td>Harry Potter and the Order of the Phoenix (Har...</td>\n",
       "    </tr>\n",
       "    <tr>\n",
       "      <th>3275</th>\n",
       "      <td>0.510482</td>\n",
       "      <td>Harry Potter Boxed Set, Books 1-5 (Harry Potte...</td>\n",
       "    </tr>\n",
       "    <tr>\n",
       "      <th>422</th>\n",
       "      <td>0.483588</td>\n",
       "      <td>Harry Potter Boxset (Harry Potter, #1-7)</td>\n",
       "    </tr>\n",
       "    <tr>\n",
       "      <th>27</th>\n",
       "      <td>0.467086</td>\n",
       "      <td>Harry Potter and the Half-Blood Prince (Harry ...</td>\n",
       "    </tr>\n",
       "    <tr>\n",
       "      <th>...</th>\n",
       "      <td>...</td>\n",
       "      <td>...</td>\n",
       "    </tr>\n",
       "    <tr>\n",
       "      <th>9996</th>\n",
       "      <td>0.000000</td>\n",
       "      <td>Bayou Moon (The Edge, #2)</td>\n",
       "    </tr>\n",
       "    <tr>\n",
       "      <th>9997</th>\n",
       "      <td>0.000000</td>\n",
       "      <td>Means of Ascent (The Years of Lyndon Johnson, #2)</td>\n",
       "    </tr>\n",
       "    <tr>\n",
       "      <th>9998</th>\n",
       "      <td>0.000000</td>\n",
       "      <td>The Mauritius Command</td>\n",
       "    </tr>\n",
       "    <tr>\n",
       "      <th>9999</th>\n",
       "      <td>0.000000</td>\n",
       "      <td>Cinderella Ate My Daughter: Dispatches from th...</td>\n",
       "    </tr>\n",
       "    <tr>\n",
       "      <th>10000</th>\n",
       "      <td>0.000000</td>\n",
       "      <td>The First World War</td>\n",
       "    </tr>\n",
       "  </tbody>\n",
       "</table>\n",
       "<p>10000 rows × 2 columns</p>\n",
       "</div>"
      ],
      "text/plain": [
       "         cos_similarity                                              title\n",
       "book_id                                                                   \n",
       "3753           0.617575       Harry Potter Collection (Harry Potter, #1-6)\n",
       "6141           0.518223  Harry Potter and the Order of the Phoenix (Har...\n",
       "3275           0.510482  Harry Potter Boxed Set, Books 1-5 (Harry Potte...\n",
       "422            0.483588           Harry Potter Boxset (Harry Potter, #1-7)\n",
       "27             0.467086  Harry Potter and the Half-Blood Prince (Harry ...\n",
       "...                 ...                                                ...\n",
       "9996           0.000000                          Bayou Moon (The Edge, #2)\n",
       "9997           0.000000  Means of Ascent (The Years of Lyndon Johnson, #2)\n",
       "9998           0.000000                              The Mauritius Command\n",
       "9999           0.000000  Cinderella Ate My Daughter: Dispatches from th...\n",
       "10000          0.000000                                The First World War\n",
       "\n",
       "[10000 rows x 2 columns]"
      ]
     },
     "execution_count": 127,
     "metadata": {},
     "output_type": "execute_result"
    }
   ],
   "source": [
    "a = query_similar_items('harry potter 2', 'title')\n",
    "a.merge(books.title, on='book_id')"
   ]
  },
  {
   "cell_type": "markdown",
   "metadata": {},
   "source": [
    "## 7. Personalized Book Search"
   ]
  },
  {
   "cell_type": "markdown",
   "metadata": {},
   "source": [
    "### 7.1 helper function from above (1-6)"
   ]
  },
  {
   "cell_type": "code",
   "execution_count": 128,
   "metadata": {},
   "outputs": [],
   "source": [
    "def query_similar_items(q, doc, tfidfs=tfidfs):\n",
    "    \"\"\"\n",
    "    idea:  \n",
    "      1. divide and classify query: title, author, genres?  -- unsupurvise, LDA?\n",
    "      2. use pre-calculated tfidf from each dataset to calculate similarity with query\n",
    "      3. return similarity score descending\n",
    "      \n",
    "      input: \n",
    "          query: string\n",
    "          doc: string\n",
    "          tfidfs: pre-calculated tfidf from different datasets\n",
    "      output:\n",
    "          top similarity: DataFrame\n",
    "    \"\"\"\n",
    "    idx = 0\n",
    "    if doc == 'title':\n",
    "        idx = 1\n",
    "        \n",
    "    q = [q]\n",
    "    tfidf, doc_vec = tfidfs[doc]\n",
    "    q_vec = tfidf.transform(q)\n",
    "    sim = pd.DataFrame(sorted(list(enumerate(cosine_similarity(q_vec, doc_vec)[0], idx)),\\\n",
    "                              key=lambda x: x[1], reverse=True), columns=['book_id', 'cos_similarity']).\\\n",
    "                              set_index('book_id')\n",
    "    return sim\n",
    "def personal_books_content_recommendation(book_id, sim=content_tfidf_cos_similarity, n=5):\n",
    "        books_content_similarities = list(enumerate(sim[book_id-1], start=1))\n",
    "        books_content_similarities.sort(key=lambda x: x[1], reverse=True)\n",
    "        top_books_content_similarities = books_content_similarities[:n]\n",
    "        top_books = pd.DataFrame(top_books_content_similarities, columns=['book_id', 'similarity']). \\\n",
    "                                set_index('book_id')\n",
    "        return top_books\n",
    "\n",
    "def weighted_rating(df):\n",
    "    v = df['ratings_count']\n",
    "    m = df['ratings_count'].quantile(0.95) # rating count > 95%\n",
    "    R = df['average_rating']\n",
    "    C = df['average_rating'].mean()\n",
    "    WR = round((v*R + m*C) / (v + m), 3)\n",
    "    return WR\n",
    "\n",
    "def personal_books_CF_userbased_recommendation(user_id, books=books, n=10, a=0.5):\n",
    "    '''\n",
    "    idea: first filter by content based system (cos similarity of count (text features) ),\n",
    "                Second filter by Collaborative  Filtering (user based MF(SVD) ) \n",
    "                \n",
    "    input: user ID and Book ID/Title\n",
    "            a: 0-1, importance of personalized rating\n",
    "    output: similar books recommend to certain user\n",
    "\n",
    "    '''\n",
    "    CF_books = books.copy()\n",
    "    # collaborative filtering (user based)\n",
    "    CF_books['estimate_rating'] = books.index.\\\n",
    "                                                    map(lambda x: round(svd.predict(user_id, x).est, 3) )\n",
    "    CF_books['final_rating'] = round( (a * CF_books['estimate_rating']) + \\\n",
    "                                        ((1-a) * CF_books['content_rating']), 3 )\n",
    "#     top_books = books.sort_values('final_rating', ascending=False)\n",
    "    return CF_books\n",
    "\n",
    "def personal_books_recommendation_xgb(user_id=1, books=books, n=10):\n",
    "    (X_train, y_train), (X_val, y_val), (X_test, y_test) = \\\n",
    "                                data_preprocess_user(user_id, data=books)\n",
    "    model = models[user_id]\n",
    "    tops = np.concatenate((model.predict_proba(X_test), model.predict(X_test).reshape(-1, 1)), axis=1)\n",
    "    top_books = pd.DataFrame(tops, \\\n",
    "                             index=X_test.index, columns=['0','prob', 'want_to_read']).\\\n",
    "                            sort_values('prob', ascending=False)[:n]\n",
    "    return books.merge(top_books, on='book_id')[['title', 'prob', 'want_to_read']]"
   ]
  },
  {
   "cell_type": "markdown",
   "metadata": {},
   "source": [
    "### 7.2. Final personalized Books Search System"
   ]
  },
  {
   "cell_type": "code",
   "execution_count": 129,
   "metadata": {},
   "outputs": [],
   "source": [
    "def personalized_books_search(user_id, q, doc='title', n=10, \\\n",
    "                              search_neighbor=10, content_neighbor=20,\\\n",
    "                              recommend_alpha=0.5, to_read_filter=True\n",
    "                              ):\n",
    "    \"\"\"\n",
    "       idea: \n",
    "             1. query similar books (tfidf cos similarity)\n",
    "             2. for each queryed book in above list, use content-based and Collaborative filtering (user based, MF: SVD)\n",
    "                to recommend books, giving another books list\n",
    "             3. Collect all the books above, calculate their final rating, formula:\n",
    "               final rating = query similarity * ( a*(CF user based rating) + (1-a)*(content based weighted rating) ) \n",
    "             4. if to_read_filter is True, use xgboost to predict whether user wants to read the above book list, \n",
    "                filter out those want_to_read = 0\n",
    "             5. rank over the book list, pick top n books to recommend\n",
    "        \n",
    "        input:\n",
    "             user_id: user_id\n",
    "             q: query (only support title-liked string for now, otherwise, result might not be good)\n",
    "             doc: type of query (only support title for now)\n",
    "             n: number of books to recommend\n",
    "             search_neighbor: number of books candidates in search list (intermediate state)\n",
    "             content_neighbor: number of books candidates in content-based filtering list (intermediate state)\n",
    "             recommend_alpha: weight of Collaborative filtering recommender, [0, 1]\n",
    "             to_read_filter: whether use model based filtering to etimate whether user wants to read the books or not, and filter them\n",
    "        \n",
    "        output:\n",
    "             list of recommend books: DataFrame\n",
    "    \"\"\"\n",
    "    q_cos_sims = query_similar_items(q, doc, tfidfs)[:search_neighbor]\n",
    "    q_cos_sims = q_cos_sims.transform(lambda x: x / x.iloc[0])\n",
    "    top_books = []\n",
    "    for book_id, q_sim in q_cos_sims.iterrows():\n",
    "        c_books = personal_books_content_recommendation(book_id, n=content_neighbor)\n",
    "        top_books_candidates = c_books.merge(books, on='book_id')[['ratings_count', 'average_rating']]\n",
    "        top_books_candidates['content_rating'] = weighted_rating(top_books_candidates)\n",
    "        \n",
    "#         top_books_candidates['svd_rating'] = c_books_candidates.index.map(lambda x: round(\\\n",
    "#                                             svd.predict(user_id, x).est, 3) )\n",
    "#         top_books_candidates['final_rating'] = round( search_alpha * q_sim[0] * \n",
    "#                                                          ( content_alpha * \\\n",
    "#                                                          top_books_candidates['weighted_rating'] + \\\n",
    "#                                                           (1-content_alpha) * \\\n",
    "#                                                          top_books_candidates['svd_rating'] )\n",
    "#                                                      , 3 )\n",
    "        top_books_final_rating = q_sim[0] * personal_books_CF_userbased_recommendation\\\n",
    "                    (user_id, books=top_books_candidates, n=-1, a=recommend_alpha)['final_rating']\n",
    "        top_books.append(top_books_final_rating)\n",
    "        \n",
    "    top_books_df = pd.DataFrame(pd.concat(top_books))\n",
    "    top_books_df = top_books_df.merge(books.title, on='book_id').groupby('book_id').max()\n",
    "    \n",
    "    # use machine learning to predict whether user wants to read or not (filter)\n",
    "    if to_read_filter:\n",
    "        books_to_read = personal_books_recommendation_xgb(user_id, top_books_df, n=-1)\n",
    "        top_books_df = top_books_df.loc[books_to_read[books_to_read.want_to_read==1].index]\n",
    "\n",
    "    return top_books_df.sort_values('final_rating', ascending=False)[:n]\\\n",
    "# .drop('final_rating', axis=1)"
   ]
  },
  {
   "cell_type": "markdown",
   "metadata": {},
   "source": [
    "- if to_read_filter is True, only user_id = 1 can be queried (reason behind: for each user, build a personalized model or a huge mix-up model for all user to predict whether they want to read the books, but given time and machine limits, couldn't train all the models )"
   ]
  },
  {
   "cell_type": "markdown",
   "metadata": {},
   "source": [
    "- Multiple examples"
   ]
  },
  {
   "cell_type": "code",
   "execution_count": 131,
   "metadata": {},
   "outputs": [
    {
     "data": {
      "text/html": [
       "<div>\n",
       "<style scoped>\n",
       "    .dataframe tbody tr th:only-of-type {\n",
       "        vertical-align: middle;\n",
       "    }\n",
       "\n",
       "    .dataframe tbody tr th {\n",
       "        vertical-align: top;\n",
       "    }\n",
       "\n",
       "    .dataframe thead th {\n",
       "        text-align: right;\n",
       "    }\n",
       "</style>\n",
       "<table border=\"1\" class=\"dataframe\">\n",
       "  <thead>\n",
       "    <tr style=\"text-align: right;\">\n",
       "      <th></th>\n",
       "      <th>final_rating</th>\n",
       "      <th>title</th>\n",
       "    </tr>\n",
       "    <tr>\n",
       "      <th>book_id</th>\n",
       "      <th></th>\n",
       "      <th></th>\n",
       "    </tr>\n",
       "  </thead>\n",
       "  <tbody>\n",
       "    <tr>\n",
       "      <th>3275</th>\n",
       "      <td>4.295</td>\n",
       "      <td>Harry Potter Boxed Set, Books 1-5 (Harry Potte...</td>\n",
       "    </tr>\n",
       "    <tr>\n",
       "      <th>3753</th>\n",
       "      <td>4.254</td>\n",
       "      <td>Harry Potter Collection (Harry Potter, #1-6)</td>\n",
       "    </tr>\n",
       "    <tr>\n",
       "      <th>2101</th>\n",
       "      <td>4.207</td>\n",
       "      <td>The Harry Potter Collection 1-4 (Harry Potter,...</td>\n",
       "    </tr>\n",
       "    <tr>\n",
       "      <th>3736</th>\n",
       "      <td>4.146</td>\n",
       "      <td>Harry Potter Page to Screen: The Complete Film...</td>\n",
       "    </tr>\n",
       "    <tr>\n",
       "      <th>7523</th>\n",
       "      <td>4.139</td>\n",
       "      <td>Hogwarts: An Incomplete and Unreliable Guide (...</td>\n",
       "    </tr>\n",
       "    <tr>\n",
       "      <th>18</th>\n",
       "      <td>4.138</td>\n",
       "      <td>Harry Potter and the Prisoner of Azkaban (Harr...</td>\n",
       "    </tr>\n",
       "    <tr>\n",
       "      <th>25</th>\n",
       "      <td>4.125</td>\n",
       "      <td>Harry Potter and the Deathly Hallows (Harry Po...</td>\n",
       "    </tr>\n",
       "    <tr>\n",
       "      <th>422</th>\n",
       "      <td>4.099</td>\n",
       "      <td>Harry Potter Boxset (Harry Potter, #1-7)</td>\n",
       "    </tr>\n",
       "    <tr>\n",
       "      <th>8369</th>\n",
       "      <td>4.093</td>\n",
       "      <td>Harry, a History: The True Story of a Boy Wiza...</td>\n",
       "    </tr>\n",
       "    <tr>\n",
       "      <th>24</th>\n",
       "      <td>4.076</td>\n",
       "      <td>Harry Potter and the Goblet of Fire (Harry Pot...</td>\n",
       "    </tr>\n",
       "  </tbody>\n",
       "</table>\n",
       "</div>"
      ],
      "text/plain": [
       "         final_rating                                              title\n",
       "book_id                                                                 \n",
       "3275            4.295  Harry Potter Boxed Set, Books 1-5 (Harry Potte...\n",
       "3753            4.254       Harry Potter Collection (Harry Potter, #1-6)\n",
       "2101            4.207  The Harry Potter Collection 1-4 (Harry Potter,...\n",
       "3736            4.146  Harry Potter Page to Screen: The Complete Film...\n",
       "7523            4.139  Hogwarts: An Incomplete and Unreliable Guide (...\n",
       "18              4.138  Harry Potter and the Prisoner of Azkaban (Harr...\n",
       "25              4.125  Harry Potter and the Deathly Hallows (Harry Po...\n",
       "422             4.099           Harry Potter Boxset (Harry Potter, #1-7)\n",
       "8369            4.093  Harry, a History: The True Story of a Boy Wiza...\n",
       "24              4.076  Harry Potter and the Goblet of Fire (Harry Pot..."
      ]
     },
     "execution_count": 131,
     "metadata": {},
     "output_type": "execute_result"
    }
   ],
   "source": [
    "user_id=1\n",
    "q = 'harry potter'\n",
    "doc = 'title'\n",
    "personalized_books_search(user_id, q, doc, n=10, search_neighbor=10, \\\n",
    "                          content_neighbor=20, recommend_alpha=0.6, to_read_filter=True)"
   ]
  },
  {
   "cell_type": "code",
   "execution_count": 132,
   "metadata": {},
   "outputs": [
    {
     "data": {
      "text/html": [
       "<div>\n",
       "<style scoped>\n",
       "    .dataframe tbody tr th:only-of-type {\n",
       "        vertical-align: middle;\n",
       "    }\n",
       "\n",
       "    .dataframe tbody tr th {\n",
       "        vertical-align: top;\n",
       "    }\n",
       "\n",
       "    .dataframe thead th {\n",
       "        text-align: right;\n",
       "    }\n",
       "</style>\n",
       "<table border=\"1\" class=\"dataframe\">\n",
       "  <thead>\n",
       "    <tr style=\"text-align: right;\">\n",
       "      <th></th>\n",
       "      <th>final_rating</th>\n",
       "      <th>title</th>\n",
       "    </tr>\n",
       "    <tr>\n",
       "      <th>book_id</th>\n",
       "      <th></th>\n",
       "      <th></th>\n",
       "    </tr>\n",
       "  </thead>\n",
       "  <tbody>\n",
       "    <tr>\n",
       "      <th>7615</th>\n",
       "      <td>3.971000</td>\n",
       "      <td>Drinking: A Love Story</td>\n",
       "    </tr>\n",
       "    <tr>\n",
       "      <th>7326</th>\n",
       "      <td>3.959000</td>\n",
       "      <td>Doctors</td>\n",
       "    </tr>\n",
       "    <tr>\n",
       "      <th>2781</th>\n",
       "      <td>3.925261</td>\n",
       "      <td>A Grief Observed</td>\n",
       "    </tr>\n",
       "    <tr>\n",
       "      <th>8843</th>\n",
       "      <td>3.919000</td>\n",
       "      <td>The Invisible Wall: A Love Story That Broke Ba...</td>\n",
       "    </tr>\n",
       "    <tr>\n",
       "      <th>1602</th>\n",
       "      <td>3.888516</td>\n",
       "      <td>Changes (The Dresden Files, #12)</td>\n",
       "    </tr>\n",
       "    <tr>\n",
       "      <th>8936</th>\n",
       "      <td>3.870401</td>\n",
       "      <td>Ghettoside: A True Story of Murder in America</td>\n",
       "    </tr>\n",
       "    <tr>\n",
       "      <th>688</th>\n",
       "      <td>3.859997</td>\n",
       "      <td>Under the Banner of Heaven: A Story of Violent...</td>\n",
       "    </tr>\n",
       "    <tr>\n",
       "      <th>4594</th>\n",
       "      <td>3.856214</td>\n",
       "      <td>Love Warrior</td>\n",
       "    </tr>\n",
       "    <tr>\n",
       "      <th>2034</th>\n",
       "      <td>3.824000</td>\n",
       "      <td>Bloodsucking Fiends (A Love Story, #1)</td>\n",
       "    </tr>\n",
       "    <tr>\n",
       "      <th>2691</th>\n",
       "      <td>3.819000</td>\n",
       "      <td>You Suck (A Love Story, #2)</td>\n",
       "    </tr>\n",
       "  </tbody>\n",
       "</table>\n",
       "</div>"
      ],
      "text/plain": [
       "         final_rating                                              title\n",
       "book_id                                                                 \n",
       "7615         3.971000                             Drinking: A Love Story\n",
       "7326         3.959000                                            Doctors\n",
       "2781         3.925261                                   A Grief Observed\n",
       "8843         3.919000  The Invisible Wall: A Love Story That Broke Ba...\n",
       "1602         3.888516                   Changes (The Dresden Files, #12)\n",
       "8936         3.870401      Ghettoside: A True Story of Murder in America\n",
       "688          3.859997  Under the Banner of Heaven: A Story of Violent...\n",
       "4594         3.856214                                       Love Warrior\n",
       "2034         3.824000             Bloodsucking Fiends (A Love Story, #1)\n",
       "2691         3.819000                        You Suck (A Love Story, #2)"
      ]
     },
     "execution_count": 132,
     "metadata": {},
     "output_type": "execute_result"
    }
   ],
   "source": [
    "user_id=232\n",
    "q = 'horrible story'\n",
    "doc = 'title'\n",
    "personalized_books_search(user_id, q, doc, n=10, search_neighbor=10, \\\n",
    "                          content_neighbor=20, recommend_alpha=0.6, to_read_filter=False)"
   ]
  },
  {
   "cell_type": "code",
   "execution_count": 133,
   "metadata": {},
   "outputs": [
    {
     "data": {
      "text/html": [
       "<div>\n",
       "<style scoped>\n",
       "    .dataframe tbody tr th:only-of-type {\n",
       "        vertical-align: middle;\n",
       "    }\n",
       "\n",
       "    .dataframe tbody tr th {\n",
       "        vertical-align: top;\n",
       "    }\n",
       "\n",
       "    .dataframe thead th {\n",
       "        text-align: right;\n",
       "    }\n",
       "</style>\n",
       "<table border=\"1\" class=\"dataframe\">\n",
       "  <thead>\n",
       "    <tr style=\"text-align: right;\">\n",
       "      <th></th>\n",
       "      <th>final_rating</th>\n",
       "      <th>title</th>\n",
       "    </tr>\n",
       "    <tr>\n",
       "      <th>book_id</th>\n",
       "      <th></th>\n",
       "      <th></th>\n",
       "    </tr>\n",
       "  </thead>\n",
       "  <tbody>\n",
       "    <tr>\n",
       "      <th>2140</th>\n",
       "      <td>4.182</td>\n",
       "      <td>Caliban's War (The Expanse, #2)</td>\n",
       "    </tr>\n",
       "    <tr>\n",
       "      <th>910</th>\n",
       "      <td>4.151</td>\n",
       "      <td>Old Man's War (Old Man's War, #1)</td>\n",
       "    </tr>\n",
       "    <tr>\n",
       "      <th>820</th>\n",
       "      <td>4.145</td>\n",
       "      <td>The Remains of the Day</td>\n",
       "    </tr>\n",
       "    <tr>\n",
       "      <th>9443</th>\n",
       "      <td>4.094</td>\n",
       "      <td>Rumors of War (Children of the Promise, #1)</td>\n",
       "    </tr>\n",
       "    <tr>\n",
       "      <th>2411</th>\n",
       "      <td>4.083</td>\n",
       "      <td>The Winds of War (The Henry Family, #1)</td>\n",
       "    </tr>\n",
       "    <tr>\n",
       "      <th>914</th>\n",
       "      <td>4.079</td>\n",
       "      <td>The Forever War (The Forever War, #1)</td>\n",
       "    </tr>\n",
       "    <tr>\n",
       "      <th>5198</th>\n",
       "      <td>3.997</td>\n",
       "      <td>Of Love and Shadows</td>\n",
       "    </tr>\n",
       "    <tr>\n",
       "      <th>300</th>\n",
       "      <td>3.992</td>\n",
       "      <td>The Boy in the Striped Pajamas</td>\n",
       "    </tr>\n",
       "    <tr>\n",
       "      <th>3772</th>\n",
       "      <td>3.987</td>\n",
       "      <td>War and Remembrance (The Henry Family, #2)</td>\n",
       "    </tr>\n",
       "    <tr>\n",
       "      <th>1114</th>\n",
       "      <td>3.986</td>\n",
       "      <td>North and South</td>\n",
       "    </tr>\n",
       "  </tbody>\n",
       "</table>\n",
       "</div>"
      ],
      "text/plain": [
       "         final_rating                                        title\n",
       "book_id                                                           \n",
       "2140            4.182              Caliban's War (The Expanse, #2)\n",
       "910             4.151            Old Man's War (Old Man's War, #1)\n",
       "820             4.145                       The Remains of the Day\n",
       "9443            4.094  Rumors of War (Children of the Promise, #1)\n",
       "2411            4.083      The Winds of War (The Henry Family, #1)\n",
       "914             4.079        The Forever War (The Forever War, #1)\n",
       "5198            3.997                          Of Love and Shadows\n",
       "300             3.992               The Boy in the Striped Pajamas\n",
       "3772            3.987   War and Remembrance (The Henry Family, #2)\n",
       "1114            3.986                              North and South"
      ]
     },
     "execution_count": 133,
     "metadata": {},
     "output_type": "execute_result"
    }
   ],
   "source": [
    "user_id=232\n",
    "q = 'love and hate'\n",
    "doc = 'title'\n",
    "personalized_books_search(user_id, q, doc, n=10, search_neighbor=10, \\\n",
    "                          content_neighbor=20, recommend_alpha=0.6, to_read_filter=False)"
   ]
  },
  {
   "cell_type": "code",
   "execution_count": 154,
   "metadata": {},
   "outputs": [
    {
     "data": {
      "text/html": [
       "<div>\n",
       "<style scoped>\n",
       "    .dataframe tbody tr th:only-of-type {\n",
       "        vertical-align: middle;\n",
       "    }\n",
       "\n",
       "    .dataframe tbody tr th {\n",
       "        vertical-align: top;\n",
       "    }\n",
       "\n",
       "    .dataframe thead th {\n",
       "        text-align: right;\n",
       "    }\n",
       "</style>\n",
       "<table border=\"1\" class=\"dataframe\">\n",
       "  <thead>\n",
       "    <tr style=\"text-align: right;\">\n",
       "      <th></th>\n",
       "      <th>final_rating</th>\n",
       "      <th>title</th>\n",
       "    </tr>\n",
       "    <tr>\n",
       "      <th>book_id</th>\n",
       "      <th></th>\n",
       "      <th></th>\n",
       "    </tr>\n",
       "  </thead>\n",
       "  <tbody>\n",
       "    <tr>\n",
       "      <th>8652</th>\n",
       "      <td>3.955000</td>\n",
       "      <td>The Wind Singer (Wind on Fire, #1)</td>\n",
       "    </tr>\n",
       "    <tr>\n",
       "      <th>3566</th>\n",
       "      <td>3.906000</td>\n",
       "      <td>Black Swan Green</td>\n",
       "    </tr>\n",
       "    <tr>\n",
       "      <th>5021</th>\n",
       "      <td>3.766000</td>\n",
       "      <td>Own the Wind (Chaos, #1)</td>\n",
       "    </tr>\n",
       "    <tr>\n",
       "      <th>2519</th>\n",
       "      <td>3.683000</td>\n",
       "      <td>When the Wind Blows (When the Wind Blows, #1)</td>\n",
       "    </tr>\n",
       "    <tr>\n",
       "      <th>66</th>\n",
       "      <td>3.619000</td>\n",
       "      <td>Gone with the Wind</td>\n",
       "    </tr>\n",
       "    <tr>\n",
       "      <th>3262</th>\n",
       "      <td>1.934038</td>\n",
       "      <td>The Talented Mr. Ripley (Ripley, #1)</td>\n",
       "    </tr>\n",
       "    <tr>\n",
       "      <th>8653</th>\n",
       "      <td>1.865215</td>\n",
       "      <td>The End of Mr. Y</td>\n",
       "    </tr>\n",
       "    <tr>\n",
       "      <th>4628</th>\n",
       "      <td>1.734051</td>\n",
       "      <td>Er ist wieder da</td>\n",
       "    </tr>\n",
       "    <tr>\n",
       "      <th>5251</th>\n",
       "      <td>1.631813</td>\n",
       "      <td>The Dressmaker</td>\n",
       "    </tr>\n",
       "    <tr>\n",
       "      <th>9950</th>\n",
       "      <td>1.578886</td>\n",
       "      <td>Ride Steady (Chaos, #3)</td>\n",
       "    </tr>\n",
       "  </tbody>\n",
       "</table>\n",
       "</div>"
      ],
      "text/plain": [
       "         final_rating                                          title\n",
       "book_id                                                             \n",
       "8652         3.955000             The Wind Singer (Wind on Fire, #1)\n",
       "3566         3.906000                               Black Swan Green\n",
       "5021         3.766000                       Own the Wind (Chaos, #1)\n",
       "2519         3.683000  When the Wind Blows (When the Wind Blows, #1)\n",
       "66           3.619000                             Gone with the Wind\n",
       "3262         1.934038           The Talented Mr. Ripley (Ripley, #1)\n",
       "8653         1.865215                               The End of Mr. Y\n",
       "4628         1.734051                               Er ist wieder da\n",
       "5251         1.631813                                 The Dressmaker\n",
       "9950         1.578886                        Ride Steady (Chaos, #3)"
      ]
     },
     "execution_count": 154,
     "metadata": {},
     "output_type": "execute_result"
    }
   ],
   "source": [
    "user_id=232\n",
    "q = 'gone with the wind'\n",
    "doc = 'title'\n",
    "personalized_books_search(user_id, q, doc, n=10, search_neighbor=10, \\\n",
    "                          content_neighbor=5, recommend_alpha=0.7, to_read_filter=False)"
   ]
  },
  {
   "cell_type": "code",
   "execution_count": null,
   "metadata": {},
   "outputs": [],
   "source": []
  }
 ],
 "metadata": {
  "kernelspec": {
   "display_name": "Python 3",
   "language": "python",
   "name": "python3"
  },
  "language_info": {
   "codemirror_mode": {
    "name": "ipython",
    "version": 3
   },
   "file_extension": ".py",
   "mimetype": "text/x-python",
   "name": "python",
   "nbconvert_exporter": "python",
   "pygments_lexer": "ipython3",
   "version": "3.8.5"
  }
 },
 "nbformat": 4,
 "nbformat_minor": 4
}
